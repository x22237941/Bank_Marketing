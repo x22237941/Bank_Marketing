{
 "cells": [
  {
   "cell_type": "markdown",
   "id": "927991c8-4afb-4f36-abd7-c8ff386c6d4e",
   "metadata": {},
   "source": [
    "# US Visa Approval Classification"
   ]
  },
  {
   "cell_type": "markdown",
   "id": "4e48d63f-91bf-4907-86dd-b3988bcfebaf",
   "metadata": {},
   "source": [
    "The main goal of the project is to check if Visa get approved or not based on the given dataset."
   ]
  },
  {
   "cell_type": "markdown",
   "id": "b849bd5b-6a71-4bcd-a30a-02db3cdaa117",
   "metadata": {},
   "source": [
    "This can be used to Recommend a suitable profile for the applicants for whom the visa should be certified or denied based on the certain criteria which influences the decision."
   ]
  },
  {
   "cell_type": "markdown",
   "id": "8b734753-2092-413f-a652-b78ddc908d6e",
   "metadata": {},
   "source": [
    "The data consists of 25480 Rows and 12 Columns"
   ]
  },
  {
   "cell_type": "markdown",
   "id": "30ce0d6e-9497-4085-83df-9f4d55f29938",
   "metadata": {},
   "source": [
    "# Importing required libraries"
   ]
  },
  {
   "cell_type": "code",
   "execution_count": 1,
   "id": "164d37c8-1c2b-4cb6-b1ed-c5580a39eaf2",
   "metadata": {},
   "outputs": [
    {
     "name": "stderr",
     "output_type": "stream",
     "text": [
      "Loading required package: ggplot2\n",
      "\n",
      "Loading required package: dplyr\n",
      "\n",
      "Warning message:\n",
      "\"package 'dplyr' was built under R version 4.3.3\"\n",
      "\n",
      "Attaching package: 'dplyr'\n",
      "\n",
      "\n",
      "The following objects are masked from 'package:stats':\n",
      "\n",
      "    filter, lag\n",
      "\n",
      "\n",
      "The following objects are masked from 'package:base':\n",
      "\n",
      "    intersect, setdiff, setequal, union\n",
      "\n",
      "\n",
      "Loading required package: plotly\n",
      "\n",
      "Warning message:\n",
      "\"package 'plotly' was built under R version 4.3.3\"\n",
      "\n",
      "Attaching package: 'plotly'\n",
      "\n",
      "\n",
      "The following object is masked from 'package:ggplot2':\n",
      "\n",
      "    last_plot\n",
      "\n",
      "\n",
      "The following object is masked from 'package:stats':\n",
      "\n",
      "    filter\n",
      "\n",
      "\n",
      "The following object is masked from 'package:graphics':\n",
      "\n",
      "    layout\n",
      "\n",
      "\n",
      "Loading required package: readr\n",
      "\n",
      "Loading required package: tidyverse\n",
      "\n",
      "── \u001b[1mAttaching core tidyverse packages\u001b[22m ──────────────────────────────────────────────────────────────── tidyverse 2.0.0 ──\n",
      "\u001b[32m✔\u001b[39m \u001b[34mforcats  \u001b[39m 1.0.0     \u001b[32m✔\u001b[39m \u001b[34mstringr  \u001b[39m 1.5.1\n",
      "\u001b[32m✔\u001b[39m \u001b[34mlubridate\u001b[39m 1.9.3     \u001b[32m✔\u001b[39m \u001b[34mtibble   \u001b[39m 3.2.1\n",
      "\u001b[32m✔\u001b[39m \u001b[34mpurrr    \u001b[39m 1.0.2     \u001b[32m✔\u001b[39m \u001b[34mtidyr    \u001b[39m 1.3.1\n",
      "── \u001b[1mConflicts\u001b[22m ────────────────────────────────────────────────────────────────────────────────── tidyverse_conflicts() ──\n",
      "\u001b[31m✖\u001b[39m \u001b[34mplotly\u001b[39m::\u001b[32mfilter()\u001b[39m masks \u001b[34mdplyr\u001b[39m::filter(), \u001b[34mstats\u001b[39m::filter()\n",
      "\u001b[31m✖\u001b[39m \u001b[34mdplyr\u001b[39m::\u001b[32mlag()\u001b[39m     masks \u001b[34mstats\u001b[39m::lag()\n",
      "\u001b[36mℹ\u001b[39m Use the conflicted package (\u001b[3m\u001b[34m<http://conflicted.r-lib.org/>\u001b[39m\u001b[23m) to force all conflicts to become errors\n"
     ]
    }
   ],
   "source": [
    "# Install necessary packages if not already installed\n",
    "if (!require(\"ggplot2\")) install.packages(\"ggplot2\")\n",
    "if (!require(\"dplyr\")) install.packages(\"dplyr\")\n",
    "if (!require(\"plotly\")) install.packages(\"plotly\")\n",
    "if (!require(\"readr\")) install.packages(\"readr\")\n",
    "if (!require(\"tidyverse\")) install.packages(\"tidyverse\")"
   ]
  },
  {
   "cell_type": "code",
   "execution_count": 2,
   "id": "3f77ca4c-c428-45d2-85fd-2440c6388bf6",
   "metadata": {},
   "outputs": [],
   "source": [
    "# Load libraries\n",
    "library(ggplot2)\n",
    "library(dplyr)\n",
    "library(plotly)\n",
    "library(readr)\n",
    "library(tidyverse)"
   ]
  },
  {
   "cell_type": "markdown",
   "id": "02e1c44f-25b5-48e9-9cb8-0d817c1e381f",
   "metadata": {},
   "source": [
    "# Step 1: Preliminary Analysis"
   ]
  },
  {
   "cell_type": "code",
   "execution_count": 3,
   "id": "912d3fbb-43f7-4f10-92d9-49a8d01c8d1b",
   "metadata": {},
   "outputs": [
    {
     "name": "stderr",
     "output_type": "stream",
     "text": [
      "\u001b[1mRows: \u001b[22m\u001b[34m45211\u001b[39m \u001b[1mColumns: \u001b[22m\u001b[34m17\u001b[39m\n",
      "\u001b[36m──\u001b[39m \u001b[1mColumn specification\u001b[22m \u001b[36m────────────────────────────────────────────────────────────────────────────────────────────────\u001b[39m\n",
      "\u001b[1mDelimiter:\u001b[22m \",\"\n",
      "\u001b[31mchr\u001b[39m (10): job, marital, education, default, housing, loan, contact, month, p...\n",
      "\u001b[32mdbl\u001b[39m  (7): age, balance, day_of_week, duration, campaign, pdays, previous\n",
      "\n",
      "\u001b[36mℹ\u001b[39m Use `spec()` to retrieve the full column specification for this data.\n",
      "\u001b[36mℹ\u001b[39m Specify the column types or set `show_col_types = FALSE` to quiet this message.\n"
     ]
    }
   ],
   "source": [
    "# Read CSV file\n",
    "df <- read_csv('bank_marketing_data.csv')"
   ]
  },
  {
   "cell_type": "code",
   "execution_count": 4,
   "id": "377860b8-a2c9-4761-af2c-5a5aaca2eed9",
   "metadata": {},
   "outputs": [
    {
     "data": {
      "text/html": [
       "<table class=\"dataframe\">\n",
       "<caption>A tibble: 6 × 17</caption>\n",
       "<thead>\n",
       "\t<tr><th scope=col>age</th><th scope=col>job</th><th scope=col>marital</th><th scope=col>education</th><th scope=col>default</th><th scope=col>balance</th><th scope=col>housing</th><th scope=col>loan</th><th scope=col>contact</th><th scope=col>day_of_week</th><th scope=col>month</th><th scope=col>duration</th><th scope=col>campaign</th><th scope=col>pdays</th><th scope=col>previous</th><th scope=col>poutcome</th><th scope=col>y</th></tr>\n",
       "\t<tr><th scope=col>&lt;dbl&gt;</th><th scope=col>&lt;chr&gt;</th><th scope=col>&lt;chr&gt;</th><th scope=col>&lt;chr&gt;</th><th scope=col>&lt;chr&gt;</th><th scope=col>&lt;dbl&gt;</th><th scope=col>&lt;chr&gt;</th><th scope=col>&lt;chr&gt;</th><th scope=col>&lt;chr&gt;</th><th scope=col>&lt;dbl&gt;</th><th scope=col>&lt;chr&gt;</th><th scope=col>&lt;dbl&gt;</th><th scope=col>&lt;dbl&gt;</th><th scope=col>&lt;dbl&gt;</th><th scope=col>&lt;dbl&gt;</th><th scope=col>&lt;chr&gt;</th><th scope=col>&lt;chr&gt;</th></tr>\n",
       "</thead>\n",
       "<tbody>\n",
       "\t<tr><td>58</td><td>management  </td><td>married</td><td>tertiary </td><td>no</td><td>2143</td><td>yes</td><td>no </td><td>NA</td><td>5</td><td>may</td><td>261</td><td>1</td><td>-1</td><td>0</td><td>NA</td><td>no</td></tr>\n",
       "\t<tr><td>44</td><td>technician  </td><td>single </td><td>secondary</td><td>no</td><td>  29</td><td>yes</td><td>no </td><td>NA</td><td>5</td><td>may</td><td>151</td><td>1</td><td>-1</td><td>0</td><td>NA</td><td>no</td></tr>\n",
       "\t<tr><td>33</td><td>entrepreneur</td><td>married</td><td>secondary</td><td>no</td><td>   2</td><td>yes</td><td>yes</td><td>NA</td><td>5</td><td>may</td><td> 76</td><td>1</td><td>-1</td><td>0</td><td>NA</td><td>no</td></tr>\n",
       "\t<tr><td>47</td><td>blue-collar </td><td>married</td><td>NA       </td><td>no</td><td>1506</td><td>yes</td><td>no </td><td>NA</td><td>5</td><td>may</td><td> 92</td><td>1</td><td>-1</td><td>0</td><td>NA</td><td>no</td></tr>\n",
       "\t<tr><td>33</td><td>NA          </td><td>single </td><td>NA       </td><td>no</td><td>   1</td><td>no </td><td>no </td><td>NA</td><td>5</td><td>may</td><td>198</td><td>1</td><td>-1</td><td>0</td><td>NA</td><td>no</td></tr>\n",
       "\t<tr><td>35</td><td>management  </td><td>married</td><td>tertiary </td><td>no</td><td> 231</td><td>yes</td><td>no </td><td>NA</td><td>5</td><td>may</td><td>139</td><td>1</td><td>-1</td><td>0</td><td>NA</td><td>no</td></tr>\n",
       "</tbody>\n",
       "</table>\n"
      ],
      "text/latex": [
       "A tibble: 6 × 17\n",
       "\\begin{tabular}{lllllllllllllllll}\n",
       " age & job & marital & education & default & balance & housing & loan & contact & day\\_of\\_week & month & duration & campaign & pdays & previous & poutcome & y\\\\\n",
       " <dbl> & <chr> & <chr> & <chr> & <chr> & <dbl> & <chr> & <chr> & <chr> & <dbl> & <chr> & <dbl> & <dbl> & <dbl> & <dbl> & <chr> & <chr>\\\\\n",
       "\\hline\n",
       "\t 58 & management   & married & tertiary  & no & 2143 & yes & no  & NA & 5 & may & 261 & 1 & -1 & 0 & NA & no\\\\\n",
       "\t 44 & technician   & single  & secondary & no &   29 & yes & no  & NA & 5 & may & 151 & 1 & -1 & 0 & NA & no\\\\\n",
       "\t 33 & entrepreneur & married & secondary & no &    2 & yes & yes & NA & 5 & may &  76 & 1 & -1 & 0 & NA & no\\\\\n",
       "\t 47 & blue-collar  & married & NA        & no & 1506 & yes & no  & NA & 5 & may &  92 & 1 & -1 & 0 & NA & no\\\\\n",
       "\t 33 & NA           & single  & NA        & no &    1 & no  & no  & NA & 5 & may & 198 & 1 & -1 & 0 & NA & no\\\\\n",
       "\t 35 & management   & married & tertiary  & no &  231 & yes & no  & NA & 5 & may & 139 & 1 & -1 & 0 & NA & no\\\\\n",
       "\\end{tabular}\n"
      ],
      "text/markdown": [
       "\n",
       "A tibble: 6 × 17\n",
       "\n",
       "| age &lt;dbl&gt; | job &lt;chr&gt; | marital &lt;chr&gt; | education &lt;chr&gt; | default &lt;chr&gt; | balance &lt;dbl&gt; | housing &lt;chr&gt; | loan &lt;chr&gt; | contact &lt;chr&gt; | day_of_week &lt;dbl&gt; | month &lt;chr&gt; | duration &lt;dbl&gt; | campaign &lt;dbl&gt; | pdays &lt;dbl&gt; | previous &lt;dbl&gt; | poutcome &lt;chr&gt; | y &lt;chr&gt; |\n",
       "|---|---|---|---|---|---|---|---|---|---|---|---|---|---|---|---|---|\n",
       "| 58 | management   | married | tertiary  | no | 2143 | yes | no  | NA | 5 | may | 261 | 1 | -1 | 0 | NA | no |\n",
       "| 44 | technician   | single  | secondary | no |   29 | yes | no  | NA | 5 | may | 151 | 1 | -1 | 0 | NA | no |\n",
       "| 33 | entrepreneur | married | secondary | no |    2 | yes | yes | NA | 5 | may |  76 | 1 | -1 | 0 | NA | no |\n",
       "| 47 | blue-collar  | married | NA        | no | 1506 | yes | no  | NA | 5 | may |  92 | 1 | -1 | 0 | NA | no |\n",
       "| 33 | NA           | single  | NA        | no |    1 | no  | no  | NA | 5 | may | 198 | 1 | -1 | 0 | NA | no |\n",
       "| 35 | management   | married | tertiary  | no |  231 | yes | no  | NA | 5 | may | 139 | 1 | -1 | 0 | NA | no |\n",
       "\n"
      ],
      "text/plain": [
       "  age job          marital education default balance housing loan contact\n",
       "1 58  management   married tertiary  no      2143    yes     no   NA     \n",
       "2 44  technician   single  secondary no        29    yes     no   NA     \n",
       "3 33  entrepreneur married secondary no         2    yes     yes  NA     \n",
       "4 47  blue-collar  married NA        no      1506    yes     no   NA     \n",
       "5 33  NA           single  NA        no         1    no      no   NA     \n",
       "6 35  management   married tertiary  no       231    yes     no   NA     \n",
       "  day_of_week month duration campaign pdays previous poutcome y \n",
       "1 5           may   261      1        -1    0        NA       no\n",
       "2 5           may   151      1        -1    0        NA       no\n",
       "3 5           may    76      1        -1    0        NA       no\n",
       "4 5           may    92      1        -1    0        NA       no\n",
       "5 5           may   198      1        -1    0        NA       no\n",
       "6 5           may   139      1        -1    0        NA       no"
      ]
     },
     "metadata": {},
     "output_type": "display_data"
    }
   ],
   "source": [
    "# Display the first few records of the dataframe\n",
    "head(df)"
   ]
  },
  {
   "cell_type": "markdown",
   "id": "dd617e0e-e0c1-4d1e-9b6a-58cf719a4a8a",
   "metadata": {},
   "source": [
    "## Number of independent and dependent variables:"
   ]
  },
  {
   "cell_type": "code",
   "execution_count": 5,
   "id": "54cd6a16-5611-49e6-8483-1eac02964a84",
   "metadata": {},
   "outputs": [
    {
     "name": "stdout",
     "output_type": "stream",
     "text": [
      "Number of independent variables: 16 \n",
      "Number of dependent variables: 1 \n"
     ]
    }
   ],
   "source": [
    "# Identifying independent and dependent variables\n",
    "independent_vars <- names(df)[1:(ncol(df) - 1)]\n",
    "dependent_var <- names(df)[ncol(df)]\n",
    "# Print information about variables and the data frame\n",
    "cat(\"Number of independent variables:\", length(independent_vars), \"\\n\")\n",
    "cat(\"Number of dependent variables:\", 1, \"\\n\")"
   ]
  },
  {
   "cell_type": "markdown",
   "id": "a4651740-224b-4b57-b307-3bf40fa697b7",
   "metadata": {},
   "source": [
    "## Number of records:¶"
   ]
  },
  {
   "cell_type": "code",
   "execution_count": 6,
   "id": "1a343d6b-a6d8-47fc-9b6b-57798b5ef282",
   "metadata": {},
   "outputs": [
    {
     "name": "stdout",
     "output_type": "stream",
     "text": [
      "Number of records: 45211 \n"
     ]
    }
   ],
   "source": [
    "cat(\"Number of records:\", nrow(df), \"\\n\")"
   ]
  },
  {
   "cell_type": "code",
   "execution_count": 7,
   "id": "367e71fd-7989-42d4-8f22-b7748336b954",
   "metadata": {},
   "outputs": [
    {
     "data": {
      "text/html": [
       "<style>\n",
       ".list-inline {list-style: none; margin:0; padding: 0}\n",
       ".list-inline>li {display: inline-block}\n",
       ".list-inline>li:not(:last-child)::after {content: \"\\00b7\"; padding: 0 .5ex}\n",
       "</style>\n",
       "<ol class=list-inline><li>45211</li><li>17</li></ol>\n"
      ],
      "text/latex": [
       "\\begin{enumerate*}\n",
       "\\item 45211\n",
       "\\item 17\n",
       "\\end{enumerate*}\n"
      ],
      "text/markdown": [
       "1. 45211\n",
       "2. 17\n",
       "\n",
       "\n"
      ],
      "text/plain": [
       "[1] 45211    17"
      ]
     },
     "metadata": {},
     "output_type": "display_data"
    }
   ],
   "source": [
    "# Print the dimensions of the data frame\n",
    "dim(df)"
   ]
  },
  {
   "cell_type": "markdown",
   "id": "6c56708f-de09-43b0-b6c9-416bfa1623f4",
   "metadata": {},
   "source": [
    "## Categorical Features"
   ]
  },
  {
   "cell_type": "code",
   "execution_count": 8,
   "id": "c0d8eca6-73a9-42fc-a912-0fa55424073f",
   "metadata": {},
   "outputs": [
    {
     "name": "stdout",
     "output_type": "stream",
     "text": [
      " [1] \"job\"       \"marital\"   \"education\" \"default\"   \"housing\"   \"loan\"     \n",
      " [7] \"contact\"   \"month\"     \"poutcome\"  \"y\"        \n",
      "Number of Categorical Features : 10 \n"
     ]
    }
   ],
   "source": [
    "# Identify categorical features\n",
    "categorical_features <- df %>% select_if(~is.character(.)) %>% names()\n",
    "print(categorical_features)\n",
    "cat('Number of Categorical Features :', length(categorical_features), '\\n')"
   ]
  },
  {
   "cell_type": "markdown",
   "id": "0fc8d793-4b14-47c0-8c0e-ddaba7f46f74",
   "metadata": {},
   "source": [
    "## Unique counts of categories in columns"
   ]
  },
  {
   "cell_type": "code",
   "execution_count": 9,
   "id": "13cee372-89b4-49b5-9095-30868b7b4bee",
   "metadata": {},
   "outputs": [
    {
     "name": "stdout",
     "output_type": "stream",
     "text": [
      "The feature is job and the number of categories are 12\n",
      "The feature is marital and the number of categories are 3\n",
      "The feature is education and the number of categories are 4\n",
      "The feature is default and the number of categories are 2\n",
      "The feature is housing and the number of categories are 2\n",
      "The feature is loan and the number of categories are 2\n",
      "The feature is contact and the number of categories are 3\n",
      "The feature is month and the number of categories are 12\n",
      "The feature is poutcome and the number of categories are 4\n",
      "The feature is y and the number of categories are 2\n"
     ]
    }
   ],
   "source": [
    "# Print details about categorical features\n",
    "for(feature in categorical_features) {\n",
    "  cat(sprintf(\"The feature is %s and the number of categories are %d\\n\", feature, n_distinct(df[[feature]])))\n",
    "}"
   ]
  },
  {
   "cell_type": "markdown",
   "id": "67c152b5-847b-44a5-9c95-36ef45d050e0",
   "metadata": {},
   "source": [
    "## Numerical Features"
   ]
  },
  {
   "cell_type": "code",
   "execution_count": 10,
   "id": "2ebe06d7-3973-4744-90c6-5a6b9f407eb6",
   "metadata": {},
   "outputs": [
    {
     "name": "stdout",
     "output_type": "stream",
     "text": [
      "[1] \"age\"         \"balance\"     \"day_of_week\" \"duration\"    \"campaign\"   \n",
      "[6] \"pdays\"       \"previous\"   \n",
      "Num of Numerical Features : 7 \n"
     ]
    }
   ],
   "source": [
    "# Identify numerical features\n",
    "numerical_features <- df %>% select_if(~is.numeric(.)) %>% names()\n",
    "print(numerical_features)\n",
    "cat('Num of Numerical Features :', length(numerical_features), '\\n')"
   ]
  },
  {
   "cell_type": "code",
   "execution_count": 11,
   "id": "17e4161f-3f1c-4437-8e1a-6e85954c4c92",
   "metadata": {},
   "outputs": [
    {
     "name": "stdout",
     "output_type": "stream",
     "text": [
      " [1] \"job\"       \"marital\"   \"education\" \"default\"   \"housing\"   \"loan\"     \n",
      " [7] \"contact\"   \"month\"     \"poutcome\"  \"y\"        \n",
      "Number of numerical variables: 10 \n"
     ]
    },
    {
     "data": {
      "text/html": [
       "<table class=\"dataframe\">\n",
       "<caption>A tibble: 6 × 10</caption>\n",
       "<thead>\n",
       "\t<tr><th scope=col>job</th><th scope=col>marital</th><th scope=col>education</th><th scope=col>default</th><th scope=col>housing</th><th scope=col>loan</th><th scope=col>contact</th><th scope=col>month</th><th scope=col>poutcome</th><th scope=col>y</th></tr>\n",
       "\t<tr><th scope=col>&lt;chr&gt;</th><th scope=col>&lt;chr&gt;</th><th scope=col>&lt;chr&gt;</th><th scope=col>&lt;chr&gt;</th><th scope=col>&lt;chr&gt;</th><th scope=col>&lt;chr&gt;</th><th scope=col>&lt;chr&gt;</th><th scope=col>&lt;chr&gt;</th><th scope=col>&lt;chr&gt;</th><th scope=col>&lt;chr&gt;</th></tr>\n",
       "</thead>\n",
       "<tbody>\n",
       "\t<tr><td>management  </td><td>married</td><td>tertiary </td><td>no</td><td>yes</td><td>no </td><td>NA</td><td>may</td><td>NA</td><td>no</td></tr>\n",
       "\t<tr><td>technician  </td><td>single </td><td>secondary</td><td>no</td><td>yes</td><td>no </td><td>NA</td><td>may</td><td>NA</td><td>no</td></tr>\n",
       "\t<tr><td>entrepreneur</td><td>married</td><td>secondary</td><td>no</td><td>yes</td><td>yes</td><td>NA</td><td>may</td><td>NA</td><td>no</td></tr>\n",
       "\t<tr><td>blue-collar </td><td>married</td><td>NA       </td><td>no</td><td>yes</td><td>no </td><td>NA</td><td>may</td><td>NA</td><td>no</td></tr>\n",
       "\t<tr><td>NA          </td><td>single </td><td>NA       </td><td>no</td><td>no </td><td>no </td><td>NA</td><td>may</td><td>NA</td><td>no</td></tr>\n",
       "\t<tr><td>management  </td><td>married</td><td>tertiary </td><td>no</td><td>yes</td><td>no </td><td>NA</td><td>may</td><td>NA</td><td>no</td></tr>\n",
       "</tbody>\n",
       "</table>\n"
      ],
      "text/latex": [
       "A tibble: 6 × 10\n",
       "\\begin{tabular}{llllllllll}\n",
       " job & marital & education & default & housing & loan & contact & month & poutcome & y\\\\\n",
       " <chr> & <chr> & <chr> & <chr> & <chr> & <chr> & <chr> & <chr> & <chr> & <chr>\\\\\n",
       "\\hline\n",
       "\t management   & married & tertiary  & no & yes & no  & NA & may & NA & no\\\\\n",
       "\t technician   & single  & secondary & no & yes & no  & NA & may & NA & no\\\\\n",
       "\t entrepreneur & married & secondary & no & yes & yes & NA & may & NA & no\\\\\n",
       "\t blue-collar  & married & NA        & no & yes & no  & NA & may & NA & no\\\\\n",
       "\t NA           & single  & NA        & no & no  & no  & NA & may & NA & no\\\\\n",
       "\t management   & married & tertiary  & no & yes & no  & NA & may & NA & no\\\\\n",
       "\\end{tabular}\n"
      ],
      "text/markdown": [
       "\n",
       "A tibble: 6 × 10\n",
       "\n",
       "| job &lt;chr&gt; | marital &lt;chr&gt; | education &lt;chr&gt; | default &lt;chr&gt; | housing &lt;chr&gt; | loan &lt;chr&gt; | contact &lt;chr&gt; | month &lt;chr&gt; | poutcome &lt;chr&gt; | y &lt;chr&gt; |\n",
       "|---|---|---|---|---|---|---|---|---|---|\n",
       "| management   | married | tertiary  | no | yes | no  | NA | may | NA | no |\n",
       "| technician   | single  | secondary | no | yes | no  | NA | may | NA | no |\n",
       "| entrepreneur | married | secondary | no | yes | yes | NA | may | NA | no |\n",
       "| blue-collar  | married | NA        | no | yes | no  | NA | may | NA | no |\n",
       "| NA           | single  | NA        | no | no  | no  | NA | may | NA | no |\n",
       "| management   | married | tertiary  | no | yes | no  | NA | may | NA | no |\n",
       "\n"
      ],
      "text/plain": [
       "  job          marital education default housing loan contact month poutcome y \n",
       "1 management   married tertiary  no      yes     no   NA      may   NA       no\n",
       "2 technician   single  secondary no      yes     no   NA      may   NA       no\n",
       "3 entrepreneur married secondary no      yes     yes  NA      may   NA       no\n",
       "4 blue-collar  married NA        no      yes     no   NA      may   NA       no\n",
       "5 NA           single  NA        no      no      no   NA      may   NA       no\n",
       "6 management   married tertiary  no      yes     no   NA      may   NA       no"
      ]
     },
     "metadata": {},
     "output_type": "display_data"
    }
   ],
   "source": [
    "# Reprint numerical features, excluding character features\n",
    "numerical_features <- df %>% select_if(~is.character(.)) %>% names()\n",
    "print(numerical_features)\n",
    "cat(\"Number of numerical variables:\", length(numerical_features), '\\n')\n",
    "# Display first few rows of numerical features\n",
    "head(select(df, all_of(numerical_features)))"
   ]
  },
  {
   "cell_type": "markdown",
   "id": "ef9aeedd-0986-4d57-95bf-dd1d7b353211",
   "metadata": {},
   "source": [
    "## Binary Features"
   ]
  },
  {
   "cell_type": "code",
   "execution_count": 12,
   "id": "7a6b588d-68d2-4b3f-a381-9223b21c5c43",
   "metadata": {},
   "outputs": [
    {
     "name": "stdout",
     "output_type": "stream",
     "text": [
      "default might be binary\n",
      "housing might be binary\n",
      "loan might be binary\n",
      "y might be binary\n"
     ]
    }
   ],
   "source": [
    "# Check for binary columns\n",
    "for(col in names(df)) {\n",
    "  if(n_distinct(df[[col]]) == 2) {\n",
    "    cat(sprintf(\"%s might be binary\\n\", col))\n",
    "  }\n",
    "}"
   ]
  },
  {
   "cell_type": "markdown",
   "id": "c958e293-694f-4b60-ab7a-f18c61292cec",
   "metadata": {},
   "source": [
    "## Discrete Features"
   ]
  },
  {
   "cell_type": "code",
   "execution_count": 13,
   "id": "d6e26cc9-eec8-4b17-b7e0-46d9b366576f",
   "metadata": {},
   "outputs": [
    {
     "name": "stdout",
     "output_type": "stream",
     "text": [
      "We have 0 discrete features:  \n",
      "Number of Discrete Features: 0 \n"
     ]
    }
   ],
   "source": [
    "# Identifying discrete and continuous features\n",
    "discrete_features <- df %>%\n",
    "  select_if(~is.numeric(.)) %>%\n",
    "  select_if(~n_distinct(.) <= 25) %>%\n",
    "  names()\n",
    "\n",
    "cat('We have', length(discrete_features), 'discrete features:', discrete_features, '\\n')\n",
    "cat('Number of Discrete Features:', length(discrete_features), '\\n')"
   ]
  },
  {
   "cell_type": "markdown",
   "id": "b2d5afaf-e57e-4e89-84ef-36b2d213171d",
   "metadata": {},
   "source": [
    "## Continous Features"
   ]
  },
  {
   "cell_type": "code",
   "execution_count": 14,
   "id": "d54c7161-793c-44ce-8bd1-0ff5d5a071ff",
   "metadata": {},
   "outputs": [
    {
     "name": "stdout",
     "output_type": "stream",
     "text": [
      "\n",
      "We have 7 continuous_features: age balance day_of_week duration campaign pdays previous \n",
      "Number of Continuous Features: 7 \n"
     ]
    }
   ],
   "source": [
    "continuous_features <- df %>%\n",
    "  select_if(~is.numeric(.)) %>%\n",
    "  select_if(~n_distinct(.) > 25) %>%\n",
    "  names()\n",
    "\n",
    "cat('\\nWe have', length(continuous_features), 'continuous_features:', continuous_features, '\\n')\n",
    "cat('Number of Continuous Features:', length(continuous_features), '\\n')"
   ]
  },
  {
   "cell_type": "markdown",
   "id": "86af058e-330c-4c81-8ecf-d7e8e34f00f1",
   "metadata": {},
   "source": [
    "## Data types of variables:"
   ]
  },
  {
   "cell_type": "code",
   "execution_count": 15,
   "id": "31aa3346-4505-4cd3-9a43-5b66f697c09b",
   "metadata": {},
   "outputs": [
    {
     "name": "stdout",
     "output_type": "stream",
     "text": [
      "spc_tbl_ [45,211 × 17] (S3: spec_tbl_df/tbl_df/tbl/data.frame)\n",
      " $ age        : num [1:45211] 58 44 33 47 33 35 28 42 58 43 ...\n",
      " $ job        : chr [1:45211] \"management\" \"technician\" \"entrepreneur\" \"blue-collar\" ...\n",
      " $ marital    : chr [1:45211] \"married\" \"single\" \"married\" \"married\" ...\n",
      " $ education  : chr [1:45211] \"tertiary\" \"secondary\" \"secondary\" NA ...\n",
      " $ default    : chr [1:45211] \"no\" \"no\" \"no\" \"no\" ...\n",
      " $ balance    : num [1:45211] 2143 29 2 1506 1 ...\n",
      " $ housing    : chr [1:45211] \"yes\" \"yes\" \"yes\" \"yes\" ...\n",
      " $ loan       : chr [1:45211] \"no\" \"no\" \"yes\" \"no\" ...\n",
      " $ contact    : chr [1:45211] NA NA NA NA ...\n",
      " $ day_of_week: num [1:45211] 5 5 5 5 5 5 5 5 5 5 ...\n",
      " $ month      : chr [1:45211] \"may\" \"may\" \"may\" \"may\" ...\n",
      " $ duration   : num [1:45211] 261 151 76 92 198 139 217 380 50 55 ...\n",
      " $ campaign   : num [1:45211] 1 1 1 1 1 1 1 1 1 1 ...\n",
      " $ pdays      : num [1:45211] -1 -1 -1 -1 -1 -1 -1 -1 -1 -1 ...\n",
      " $ previous   : num [1:45211] 0 0 0 0 0 0 0 0 0 0 ...\n",
      " $ poutcome   : chr [1:45211] NA NA NA NA ...\n",
      " $ y          : chr [1:45211] \"no\" \"no\" \"no\" \"no\" ...\n",
      " - attr(*, \"spec\")=\n",
      "  .. cols(\n",
      "  ..   age = \u001b[32mcol_double()\u001b[39m,\n",
      "  ..   job = \u001b[31mcol_character()\u001b[39m,\n",
      "  ..   marital = \u001b[31mcol_character()\u001b[39m,\n",
      "  ..   education = \u001b[31mcol_character()\u001b[39m,\n",
      "  ..   default = \u001b[31mcol_character()\u001b[39m,\n",
      "  ..   balance = \u001b[32mcol_double()\u001b[39m,\n",
      "  ..   housing = \u001b[31mcol_character()\u001b[39m,\n",
      "  ..   loan = \u001b[31mcol_character()\u001b[39m,\n",
      "  ..   contact = \u001b[31mcol_character()\u001b[39m,\n",
      "  ..   day_of_week = \u001b[32mcol_double()\u001b[39m,\n",
      "  ..   month = \u001b[31mcol_character()\u001b[39m,\n",
      "  ..   duration = \u001b[32mcol_double()\u001b[39m,\n",
      "  ..   campaign = \u001b[32mcol_double()\u001b[39m,\n",
      "  ..   pdays = \u001b[32mcol_double()\u001b[39m,\n",
      "  ..   previous = \u001b[32mcol_double()\u001b[39m,\n",
      "  ..   poutcome = \u001b[31mcol_character()\u001b[39m,\n",
      "  ..   y = \u001b[31mcol_character()\u001b[39m\n",
      "  .. )\n",
      " - attr(*, \"problems\")=<externalptr> \n"
     ]
    }
   ],
   "source": [
    "# Print data types of variables\n",
    "str(df)"
   ]
  },
  {
   "cell_type": "code",
   "execution_count": 16,
   "id": "b9244d99-62da-46ee-83d2-79092e3d49aa",
   "metadata": {},
   "outputs": [
    {
     "name": "stdout",
     "output_type": "stream",
     "text": [
      "\n",
      "       admin.   blue-collar  entrepreneur     housemaid    management \n",
      "    11.510807     21.663736      3.310108      2.760279     21.053803 \n",
      "      retired self-employed      services       student    technician \n",
      "     5.039735      3.514903      9.246934      2.088017     16.911159 \n",
      "   unemployed \n",
      "     2.900519 \n",
      "---------------------------\n",
      "\n",
      "divorced  married   single \n",
      "11.51711 60.19332 28.28958 \n",
      "---------------------------\n",
      "\n",
      "  primary secondary  tertiary \n",
      " 15.80246  53.51755  30.67998 \n",
      "---------------------------\n",
      "\n",
      "       no       yes \n",
      "98.197341  1.802659 \n",
      "---------------------------\n",
      "\n",
      "      no      yes \n",
      "44.41618 55.58382 \n",
      "---------------------------\n",
      "\n",
      "      no      yes \n",
      "83.97735 16.02265 \n",
      "---------------------------\n",
      "\n",
      " cellular telephone \n",
      "90.972632  9.027368 \n",
      "---------------------------\n",
      "\n",
      "       apr        aug        dec        feb        jan        jul        jun \n",
      " 6.4851474 13.8174338  0.4733361  5.8591936  3.1032271 15.2507133 11.8134967 \n",
      "       mar        may        nov        oct        sep \n",
      " 1.0550530 30.4483422  8.7810489  1.6323461  1.2806618 \n",
      "---------------------------\n",
      "\n",
      " failure    other  success \n",
      "59.39166 22.29762 18.31071 \n",
      "---------------------------\n",
      "\n",
      "      no      yes \n",
      "88.30152 11.69848 \n",
      "---------------------------\n"
     ]
    }
   ],
   "source": [
    "# Proportion of count data on categorical columns\n",
    "for(col in categorical_features) {\n",
    "  print(prop.table(table(df[[col]])) * 100)\n",
    "  cat('---------------------------\\n')\n",
    "}"
   ]
  },
  {
   "cell_type": "markdown",
   "id": "12d83b54-dfbf-43a7-90c4-bb2498ea9fa9",
   "metadata": {},
   "source": [
    "## Summary Statistics"
   ]
  },
  {
   "cell_type": "code",
   "execution_count": 17,
   "id": "ecbc4294-c9d3-49f7-95c5-006f8da0ba54",
   "metadata": {},
   "outputs": [],
   "source": [
    "# Load the necessary libraries\n",
    "library(dplyr)\n",
    "library(tidyr)"
   ]
  },
  {
   "cell_type": "code",
   "execution_count": 18,
   "id": "22e2c96e-3554-403c-a1df-da4f27ff4e64",
   "metadata": {},
   "outputs": [
    {
     "data": {
      "text/plain": [
       "      age            job              marital           education        \n",
       " Min.   :18.00   Length:45211       Length:45211       Length:45211      \n",
       " 1st Qu.:33.00   Class :character   Class :character   Class :character  \n",
       " Median :39.00   Mode  :character   Mode  :character   Mode  :character  \n",
       " Mean   :40.94                                                           \n",
       " 3rd Qu.:48.00                                                           \n",
       " Max.   :95.00                                                           \n",
       "   default             balance         housing              loan          \n",
       " Length:45211       Min.   : -8019   Length:45211       Length:45211      \n",
       " Class :character   1st Qu.:    72   Class :character   Class :character  \n",
       " Mode  :character   Median :   448   Mode  :character   Mode  :character  \n",
       "                    Mean   :  1362                                        \n",
       "                    3rd Qu.:  1428                                        \n",
       "                    Max.   :102127                                        \n",
       "   contact           day_of_week       month              duration     \n",
       " Length:45211       Min.   : 1.00   Length:45211       Min.   :   0.0  \n",
       " Class :character   1st Qu.: 8.00   Class :character   1st Qu.: 103.0  \n",
       " Mode  :character   Median :16.00   Mode  :character   Median : 180.0  \n",
       "                    Mean   :15.81                      Mean   : 258.2  \n",
       "                    3rd Qu.:21.00                      3rd Qu.: 319.0  \n",
       "                    Max.   :31.00                      Max.   :4918.0  \n",
       "    campaign          pdays          previous          poutcome        \n",
       " Min.   : 1.000   Min.   : -1.0   Min.   :  0.0000   Length:45211      \n",
       " 1st Qu.: 1.000   1st Qu.: -1.0   1st Qu.:  0.0000   Class :character  \n",
       " Median : 2.000   Median : -1.0   Median :  0.0000   Mode  :character  \n",
       " Mean   : 2.764   Mean   : 40.2   Mean   :  0.5803                     \n",
       " 3rd Qu.: 3.000   3rd Qu.: -1.0   3rd Qu.:  0.0000                     \n",
       " Max.   :63.000   Max.   :871.0   Max.   :275.0000                     \n",
       "      y            \n",
       " Length:45211      \n",
       " Class :character  \n",
       " Mode  :character  \n",
       "                   \n",
       "                   \n",
       "                   "
      ]
     },
     "metadata": {},
     "output_type": "display_data"
    }
   ],
   "source": [
    "# Summary statistics for numerical columns\n",
    "summary(df)"
   ]
  },
  {
   "cell_type": "markdown",
   "id": "bca1606e-a869-412f-8d5f-68b7fa738da3",
   "metadata": {},
   "source": [
    "# Step 2: Data Cleaning"
   ]
  },
  {
   "cell_type": "markdown",
   "id": "c36e2bf9-4248-4497-93fe-e8fcc6f6418b",
   "metadata": {},
   "source": [
    "## Checking for Null Values"
   ]
  },
  {
   "cell_type": "code",
   "execution_count": 19,
   "id": "e1b12a55-61cf-438a-8a9e-50cdd81accb4",
   "metadata": {},
   "outputs": [
    {
     "data": {
      "text/html": [
       "<style>\n",
       ".dl-inline {width: auto; margin:0; padding: 0}\n",
       ".dl-inline>dt, .dl-inline>dd {float: none; width: auto; display: inline-block}\n",
       ".dl-inline>dt::after {content: \":\\0020\"; padding-right: .5ex}\n",
       ".dl-inline>dt:not(:first-of-type) {padding-left: .5ex}\n",
       "</style><dl class=dl-inline><dt>age</dt><dd>0</dd><dt>job</dt><dd>288</dd><dt>marital</dt><dd>0</dd><dt>education</dt><dd>1857</dd><dt>default</dt><dd>0</dd><dt>balance</dt><dd>0</dd><dt>housing</dt><dd>0</dd><dt>loan</dt><dd>0</dd><dt>contact</dt><dd>13020</dd><dt>day_of_week</dt><dd>0</dd><dt>month</dt><dd>0</dd><dt>duration</dt><dd>0</dd><dt>campaign</dt><dd>0</dd><dt>pdays</dt><dd>0</dd><dt>previous</dt><dd>0</dd><dt>poutcome</dt><dd>36959</dd><dt>y</dt><dd>0</dd></dl>\n"
      ],
      "text/latex": [
       "\\begin{description*}\n",
       "\\item[age] 0\n",
       "\\item[job] 288\n",
       "\\item[marital] 0\n",
       "\\item[education] 1857\n",
       "\\item[default] 0\n",
       "\\item[balance] 0\n",
       "\\item[housing] 0\n",
       "\\item[loan] 0\n",
       "\\item[contact] 13020\n",
       "\\item[day\\textbackslash{}\\_of\\textbackslash{}\\_week] 0\n",
       "\\item[month] 0\n",
       "\\item[duration] 0\n",
       "\\item[campaign] 0\n",
       "\\item[pdays] 0\n",
       "\\item[previous] 0\n",
       "\\item[poutcome] 36959\n",
       "\\item[y] 0\n",
       "\\end{description*}\n"
      ],
      "text/markdown": [
       "age\n",
       ":   0job\n",
       ":   288marital\n",
       ":   0education\n",
       ":   1857default\n",
       ":   0balance\n",
       ":   0housing\n",
       ":   0loan\n",
       ":   0contact\n",
       ":   13020day_of_week\n",
       ":   0month\n",
       ":   0duration\n",
       ":   0campaign\n",
       ":   0pdays\n",
       ":   0previous\n",
       ":   0poutcome\n",
       ":   36959y\n",
       ":   0\n",
       "\n"
      ],
      "text/plain": [
       "        age         job     marital   education     default     balance \n",
       "          0         288           0        1857           0           0 \n",
       "    housing        loan     contact day_of_week       month    duration \n",
       "          0           0       13020           0           0           0 \n",
       "   campaign       pdays    previous    poutcome           y \n",
       "          0           0           0       36959           0 "
      ]
     },
     "metadata": {},
     "output_type": "display_data"
    }
   ],
   "source": [
    "# Counting missing values for each column\n",
    "colSums(is.na(df))"
   ]
  },
  {
   "cell_type": "markdown",
   "id": "441949b0-d766-4093-8dc0-f1533ad7c3c3",
   "metadata": {},
   "source": [
    "## Checking for unique values"
   ]
  },
  {
   "cell_type": "code",
   "execution_count": 20,
   "id": "b36af9ed-435f-437a-997f-f4a8c41ef1ed",
   "metadata": {},
   "outputs": [
    {
     "data": {
      "text/html": [
       "<style>\n",
       ".dl-inline {width: auto; margin:0; padding: 0}\n",
       ".dl-inline>dt, .dl-inline>dd {float: none; width: auto; display: inline-block}\n",
       ".dl-inline>dt::after {content: \":\\0020\"; padding-right: .5ex}\n",
       ".dl-inline>dt:not(:first-of-type) {padding-left: .5ex}\n",
       "</style><dl class=dl-inline><dt>age</dt><dd>77</dd><dt>job</dt><dd>12</dd><dt>marital</dt><dd>3</dd><dt>education</dt><dd>4</dd><dt>default</dt><dd>2</dd><dt>balance</dt><dd>7168</dd><dt>housing</dt><dd>2</dd><dt>loan</dt><dd>2</dd><dt>contact</dt><dd>3</dd><dt>day_of_week</dt><dd>31</dd><dt>month</dt><dd>12</dd><dt>duration</dt><dd>1573</dd><dt>campaign</dt><dd>48</dd><dt>pdays</dt><dd>559</dd><dt>previous</dt><dd>41</dd><dt>poutcome</dt><dd>4</dd><dt>y</dt><dd>2</dd></dl>\n"
      ],
      "text/latex": [
       "\\begin{description*}\n",
       "\\item[age] 77\n",
       "\\item[job] 12\n",
       "\\item[marital] 3\n",
       "\\item[education] 4\n",
       "\\item[default] 2\n",
       "\\item[balance] 7168\n",
       "\\item[housing] 2\n",
       "\\item[loan] 2\n",
       "\\item[contact] 3\n",
       "\\item[day\\textbackslash{}\\_of\\textbackslash{}\\_week] 31\n",
       "\\item[month] 12\n",
       "\\item[duration] 1573\n",
       "\\item[campaign] 48\n",
       "\\item[pdays] 559\n",
       "\\item[previous] 41\n",
       "\\item[poutcome] 4\n",
       "\\item[y] 2\n",
       "\\end{description*}\n"
      ],
      "text/markdown": [
       "age\n",
       ":   77job\n",
       ":   12marital\n",
       ":   3education\n",
       ":   4default\n",
       ":   2balance\n",
       ":   7168housing\n",
       ":   2loan\n",
       ":   2contact\n",
       ":   3day_of_week\n",
       ":   31month\n",
       ":   12duration\n",
       ":   1573campaign\n",
       ":   48pdays\n",
       ":   559previous\n",
       ":   41poutcome\n",
       ":   4y\n",
       ":   2\n",
       "\n"
      ],
      "text/plain": [
       "        age         job     marital   education     default     balance \n",
       "         77          12           3           4           2        7168 \n",
       "    housing        loan     contact day_of_week       month    duration \n",
       "          2           2           3          31          12        1573 \n",
       "   campaign       pdays    previous    poutcome           y \n",
       "         48         559          41           4           2 "
      ]
     },
     "metadata": {},
     "output_type": "display_data"
    }
   ],
   "source": [
    "# Number of unique values per column\n",
    "sapply(df, function(x) length(unique(x)))"
   ]
  },
  {
   "cell_type": "markdown",
   "id": "f5ee53f4-8bd5-4868-9b98-e21511107ce5",
   "metadata": {},
   "source": [
    "## All Features"
   ]
  },
  {
   "cell_type": "code",
   "execution_count": 21,
   "id": "165a3832-110c-4fa8-8930-8b0482bef753",
   "metadata": {},
   "outputs": [
    {
     "data": {
      "text/html": [
       "<style>\n",
       ".list-inline {list-style: none; margin:0; padding: 0}\n",
       ".list-inline>li {display: inline-block}\n",
       ".list-inline>li:not(:last-child)::after {content: \"\\00b7\"; padding: 0 .5ex}\n",
       "</style>\n",
       "<ol class=list-inline><li>'age'</li><li>'job'</li><li>'marital'</li><li>'education'</li><li>'default'</li><li>'balance'</li><li>'housing'</li><li>'loan'</li><li>'contact'</li><li>'day_of_week'</li><li>'month'</li><li>'duration'</li><li>'campaign'</li><li>'pdays'</li><li>'previous'</li><li>'poutcome'</li><li>'y'</li></ol>\n"
      ],
      "text/latex": [
       "\\begin{enumerate*}\n",
       "\\item 'age'\n",
       "\\item 'job'\n",
       "\\item 'marital'\n",
       "\\item 'education'\n",
       "\\item 'default'\n",
       "\\item 'balance'\n",
       "\\item 'housing'\n",
       "\\item 'loan'\n",
       "\\item 'contact'\n",
       "\\item 'day\\_of\\_week'\n",
       "\\item 'month'\n",
       "\\item 'duration'\n",
       "\\item 'campaign'\n",
       "\\item 'pdays'\n",
       "\\item 'previous'\n",
       "\\item 'poutcome'\n",
       "\\item 'y'\n",
       "\\end{enumerate*}\n"
      ],
      "text/markdown": [
       "1. 'age'\n",
       "2. 'job'\n",
       "3. 'marital'\n",
       "4. 'education'\n",
       "5. 'default'\n",
       "6. 'balance'\n",
       "7. 'housing'\n",
       "8. 'loan'\n",
       "9. 'contact'\n",
       "10. 'day_of_week'\n",
       "11. 'month'\n",
       "12. 'duration'\n",
       "13. 'campaign'\n",
       "14. 'pdays'\n",
       "15. 'previous'\n",
       "16. 'poutcome'\n",
       "17. 'y'\n",
       "\n",
       "\n"
      ],
      "text/plain": [
       " [1] \"age\"         \"job\"         \"marital\"     \"education\"   \"default\"    \n",
       " [6] \"balance\"     \"housing\"     \"loan\"        \"contact\"     \"day_of_week\"\n",
       "[11] \"month\"       \"duration\"    \"campaign\"    \"pdays\"       \"previous\"   \n",
       "[16] \"poutcome\"    \"y\"          "
      ]
     },
     "metadata": {},
     "output_type": "display_data"
    }
   ],
   "source": [
    "names(df)"
   ]
  },
  {
   "cell_type": "markdown",
   "id": "d81f7280-482e-4fb9-87a5-407ea1a023ad",
   "metadata": {},
   "source": [
    "## Checking for low variance:"
   ]
  },
  {
   "cell_type": "code",
   "execution_count": 22,
   "id": "e8e90a2a-c9fe-45af-958c-6eeeffd90160",
   "metadata": {},
   "outputs": [
    {
     "name": "stdout",
     "output_type": "stream",
     "text": [
      "Columns with low variance (possible candidates for removal):  \n"
     ]
    }
   ],
   "source": [
    "# Checking for columns with a single unique value\n",
    "low_variance_cols <- names(df)[sapply(df, function(x) length(unique(na.omit(x))) <= 1)]\n",
    "cat(\"Columns with low variance (possible candidates for removal):\", low_variance_cols, \"\\n\")"
   ]
  },
  {
   "cell_type": "markdown",
   "id": "1cae9a16-33ab-4c83-90fb-b24f79a8f52b",
   "metadata": {},
   "source": [
    "## Checking & handling for duplicates"
   ]
  },
  {
   "cell_type": "code",
   "execution_count": 23,
   "id": "4f9dc820-a52b-4181-bbfd-b928492e0dcd",
   "metadata": {},
   "outputs": [
    {
     "name": "stdout",
     "output_type": "stream",
     "text": [
      "No duplicates found.\n"
     ]
    }
   ],
   "source": [
    "# Checking for duplicates\n",
    "if(any(duplicated(df))) {\n",
    "  cat(\"Duplicates found:\", sum(duplicated(df)), \"\\n\")\n",
    "  df <- df[!duplicated(df), ]\n",
    "  cat(\"Duplicates have been removed.\\n\")\n",
    "} else {\n",
    "  cat(\"No duplicates found.\\n\")\n",
    "}"
   ]
  },
  {
   "cell_type": "markdown",
   "id": "7e3bc48c-73f0-4802-ba20-ed36831d53c9",
   "metadata": {},
   "source": [
    "## Handling Missing Values"
   ]
  },
  {
   "cell_type": "code",
   "execution_count": 24,
   "id": "6660f7b4-daf1-4588-8f58-7834af81c2eb",
   "metadata": {},
   "outputs": [],
   "source": [
    "library(lubridate)"
   ]
  },
  {
   "cell_type": "code",
   "execution_count": 25,
   "id": "ac463d5d-9002-4ca2-8475-58e481b85e02",
   "metadata": {},
   "outputs": [
    {
     "name": "stdout",
     "output_type": "stream",
     "text": [
      "[1] \"Missing values found in the following columns:\"\n",
      "      job education   contact  poutcome \n",
      "      288      1857     13020     36959 \n",
      "[1] \"Missing values have been handled.\"\n"
     ]
    }
   ],
   "source": [
    "# Checking for missing values in all columns\n",
    "missing_data <- colSums(is.na(df))\n",
    "missing_data <- missing_data[missing_data > 0]\n",
    "\n",
    "if (length(missing_data) > 0) {\n",
    "  print(\"Missing values found in the following columns:\")\n",
    "  print(missing_data)\n",
    "  # Handling missing values (example using median imputation for numerical columns)\n",
    "  df <- df %>%\n",
    "    mutate(across(where(is.numeric), ~ifelse(is.na(.), median(., na.rm = TRUE), .))) %>%\n",
    "    mutate(across(where(is.factor), ~ifelse(is.na(.), Mode(.)[1], .))) # For categorical data, using mode\n",
    "  print(\"Missing values have been handled.\")\n",
    "} else {\n",
    "  print(\"No missing values found.\")\n",
    "}"
   ]
  },
  {
   "cell_type": "markdown",
   "id": "242476d4-64dd-4602-ae30-60b52d81561b",
   "metadata": {},
   "source": [
    "## Copy of Original Data"
   ]
  },
  {
   "cell_type": "code",
   "execution_count": 26,
   "id": "f93224fe-343a-4596-9142-b8eaf32f3c55",
   "metadata": {},
   "outputs": [
    {
     "data": {
      "text/html": [
       "<table class=\"dataframe\">\n",
       "<caption>A tibble: 6 × 17</caption>\n",
       "<thead>\n",
       "\t<tr><th scope=col>age</th><th scope=col>job</th><th scope=col>marital</th><th scope=col>education</th><th scope=col>default</th><th scope=col>balance</th><th scope=col>housing</th><th scope=col>loan</th><th scope=col>contact</th><th scope=col>day_of_week</th><th scope=col>month</th><th scope=col>duration</th><th scope=col>campaign</th><th scope=col>pdays</th><th scope=col>previous</th><th scope=col>poutcome</th><th scope=col>y</th></tr>\n",
       "\t<tr><th scope=col>&lt;dbl&gt;</th><th scope=col>&lt;chr&gt;</th><th scope=col>&lt;chr&gt;</th><th scope=col>&lt;chr&gt;</th><th scope=col>&lt;chr&gt;</th><th scope=col>&lt;dbl&gt;</th><th scope=col>&lt;chr&gt;</th><th scope=col>&lt;chr&gt;</th><th scope=col>&lt;chr&gt;</th><th scope=col>&lt;dbl&gt;</th><th scope=col>&lt;chr&gt;</th><th scope=col>&lt;dbl&gt;</th><th scope=col>&lt;dbl&gt;</th><th scope=col>&lt;dbl&gt;</th><th scope=col>&lt;dbl&gt;</th><th scope=col>&lt;chr&gt;</th><th scope=col>&lt;chr&gt;</th></tr>\n",
       "</thead>\n",
       "<tbody>\n",
       "\t<tr><td>58</td><td>management  </td><td>married</td><td>tertiary </td><td>no</td><td>2143</td><td>yes</td><td>no </td><td>NA</td><td>5</td><td>may</td><td>261</td><td>1</td><td>-1</td><td>0</td><td>NA</td><td>no</td></tr>\n",
       "\t<tr><td>44</td><td>technician  </td><td>single </td><td>secondary</td><td>no</td><td>  29</td><td>yes</td><td>no </td><td>NA</td><td>5</td><td>may</td><td>151</td><td>1</td><td>-1</td><td>0</td><td>NA</td><td>no</td></tr>\n",
       "\t<tr><td>33</td><td>entrepreneur</td><td>married</td><td>secondary</td><td>no</td><td>   2</td><td>yes</td><td>yes</td><td>NA</td><td>5</td><td>may</td><td> 76</td><td>1</td><td>-1</td><td>0</td><td>NA</td><td>no</td></tr>\n",
       "\t<tr><td>47</td><td>blue-collar </td><td>married</td><td>NA       </td><td>no</td><td>1506</td><td>yes</td><td>no </td><td>NA</td><td>5</td><td>may</td><td> 92</td><td>1</td><td>-1</td><td>0</td><td>NA</td><td>no</td></tr>\n",
       "\t<tr><td>33</td><td>NA          </td><td>single </td><td>NA       </td><td>no</td><td>   1</td><td>no </td><td>no </td><td>NA</td><td>5</td><td>may</td><td>198</td><td>1</td><td>-1</td><td>0</td><td>NA</td><td>no</td></tr>\n",
       "\t<tr><td>35</td><td>management  </td><td>married</td><td>tertiary </td><td>no</td><td> 231</td><td>yes</td><td>no </td><td>NA</td><td>5</td><td>may</td><td>139</td><td>1</td><td>-1</td><td>0</td><td>NA</td><td>no</td></tr>\n",
       "</tbody>\n",
       "</table>\n"
      ],
      "text/latex": [
       "A tibble: 6 × 17\n",
       "\\begin{tabular}{lllllllllllllllll}\n",
       " age & job & marital & education & default & balance & housing & loan & contact & day\\_of\\_week & month & duration & campaign & pdays & previous & poutcome & y\\\\\n",
       " <dbl> & <chr> & <chr> & <chr> & <chr> & <dbl> & <chr> & <chr> & <chr> & <dbl> & <chr> & <dbl> & <dbl> & <dbl> & <dbl> & <chr> & <chr>\\\\\n",
       "\\hline\n",
       "\t 58 & management   & married & tertiary  & no & 2143 & yes & no  & NA & 5 & may & 261 & 1 & -1 & 0 & NA & no\\\\\n",
       "\t 44 & technician   & single  & secondary & no &   29 & yes & no  & NA & 5 & may & 151 & 1 & -1 & 0 & NA & no\\\\\n",
       "\t 33 & entrepreneur & married & secondary & no &    2 & yes & yes & NA & 5 & may &  76 & 1 & -1 & 0 & NA & no\\\\\n",
       "\t 47 & blue-collar  & married & NA        & no & 1506 & yes & no  & NA & 5 & may &  92 & 1 & -1 & 0 & NA & no\\\\\n",
       "\t 33 & NA           & single  & NA        & no &    1 & no  & no  & NA & 5 & may & 198 & 1 & -1 & 0 & NA & no\\\\\n",
       "\t 35 & management   & married & tertiary  & no &  231 & yes & no  & NA & 5 & may & 139 & 1 & -1 & 0 & NA & no\\\\\n",
       "\\end{tabular}\n"
      ],
      "text/markdown": [
       "\n",
       "A tibble: 6 × 17\n",
       "\n",
       "| age &lt;dbl&gt; | job &lt;chr&gt; | marital &lt;chr&gt; | education &lt;chr&gt; | default &lt;chr&gt; | balance &lt;dbl&gt; | housing &lt;chr&gt; | loan &lt;chr&gt; | contact &lt;chr&gt; | day_of_week &lt;dbl&gt; | month &lt;chr&gt; | duration &lt;dbl&gt; | campaign &lt;dbl&gt; | pdays &lt;dbl&gt; | previous &lt;dbl&gt; | poutcome &lt;chr&gt; | y &lt;chr&gt; |\n",
       "|---|---|---|---|---|---|---|---|---|---|---|---|---|---|---|---|---|\n",
       "| 58 | management   | married | tertiary  | no | 2143 | yes | no  | NA | 5 | may | 261 | 1 | -1 | 0 | NA | no |\n",
       "| 44 | technician   | single  | secondary | no |   29 | yes | no  | NA | 5 | may | 151 | 1 | -1 | 0 | NA | no |\n",
       "| 33 | entrepreneur | married | secondary | no |    2 | yes | yes | NA | 5 | may |  76 | 1 | -1 | 0 | NA | no |\n",
       "| 47 | blue-collar  | married | NA        | no | 1506 | yes | no  | NA | 5 | may |  92 | 1 | -1 | 0 | NA | no |\n",
       "| 33 | NA           | single  | NA        | no |    1 | no  | no  | NA | 5 | may | 198 | 1 | -1 | 0 | NA | no |\n",
       "| 35 | management   | married | tertiary  | no |  231 | yes | no  | NA | 5 | may | 139 | 1 | -1 | 0 | NA | no |\n",
       "\n"
      ],
      "text/plain": [
       "  age job          marital education default balance housing loan contact\n",
       "1 58  management   married tertiary  no      2143    yes     no   NA     \n",
       "2 44  technician   single  secondary no        29    yes     no   NA     \n",
       "3 33  entrepreneur married secondary no         2    yes     yes  NA     \n",
       "4 47  blue-collar  married NA        no      1506    yes     no   NA     \n",
       "5 33  NA           single  NA        no         1    no      no   NA     \n",
       "6 35  management   married tertiary  no       231    yes     no   NA     \n",
       "  day_of_week month duration campaign pdays previous poutcome y \n",
       "1 5           may   261      1        -1    0        NA       no\n",
       "2 5           may   151      1        -1    0        NA       no\n",
       "3 5           may    76      1        -1    0        NA       no\n",
       "4 5           may    92      1        -1    0        NA       no\n",
       "5 5           may   198      1        -1    0        NA       no\n",
       "6 5           may   139      1        -1    0        NA       no"
      ]
     },
     "metadata": {},
     "output_type": "display_data"
    }
   ],
   "source": [
    "df1 <- df\n",
    "head(df1)"
   ]
  },
  {
   "cell_type": "markdown",
   "id": "db6c6c82-d80c-42aa-a89e-a0c2116c73d7",
   "metadata": {},
   "source": [
    "## Detecting Outliers"
   ]
  },
  {
   "cell_type": "code",
   "execution_count": 27,
   "id": "9a53c386-846b-4016-b6ff-d98472a3082c",
   "metadata": {},
   "outputs": [
    {
     "name": "stderr",
     "output_type": "stream",
     "text": [
      "Using job, marital, education, default, housing, loan, contact, month, poutcome, y as id variables\n",
      "\n"
     ]
    },
    {
     "data": {
      "image/png": "[encoded data removed]",
      "text/plain": [
       "plot without title"
      ]
     },
     "metadata": {
      "image/png": {
       "height": 420,
       "width": 420
      }
     },
     "output_type": "display_data"
    }
   ],
   "source": [
    "# Install and load necessary packages if not already installed\n",
    "if (!require(\"ggplot2\")) install.packages(\"ggplot2\")\n",
    "library(ggplot2)\n",
    "\n",
    "# Assuming df1 is your dataframe and is already loaded into R\n",
    "# To recreate a similar layout, you can reshape the data to long format and use facet_wrap\n",
    "df1_long <- reshape2::melt(df1)\n",
    "\n",
    "# Plotting\n",
    "p <- ggplot(df1_long, aes(x = variable, y = value)) + \n",
    "  geom_boxplot(fill = '#7b3f00') +  # set the color of the boxplots\n",
    "  facet_wrap(~variable, scales = \"free\", ncol = 5) +  # arrange plots in a 2x5 grid\n",
    "  theme_minimal() +  # a minimal theme\n",
    "  theme(axis.text.x = element_text(angle = 45, hjust = 1))  # adjust text angle for x-axis labels\n",
    "\n",
    "# Display the plot\n",
    "print(p)\n"
   ]
  },
  {
   "cell_type": "code",
   "execution_count": 28,
   "id": "cae6aabf-83b1-4732-8b7c-07b241415c92",
   "metadata": {},
   "outputs": [],
   "source": [
    "# Assuming df1 is your dataframe and it's already loaded in R\n",
    "\n",
    "# Selecting the required columns\n",
    "selected_columns <- df1 %>% select(age, campaign, duration, balance, pdays, previous)\n",
    "\n",
    "# Calculating the IQR for each column and filtering outliers\n",
    "df1 <- df1 %>%\n",
    "  mutate(across(c(age, campaign, duration, balance, pdays, previous), ~ {\n",
    "    q1 <- quantile(., 0.25, na.rm = TRUE)\n",
    "    q3 <- quantile(., 0.75, na.rm = TRUE)\n",
    "    iqr <- q3 - q1\n",
    "    lower_bound <- q1 - 1.5 * iqr\n",
    "    upper_bound <- q3 + 1.5 * iqr\n",
    "    ifelse(. < lower_bound | . > upper_bound, NA, .)  # Replace outliers with NA\n",
    "  }))\n",
    "\n",
    "# This code assumes you want to replace outliers with NA. If you need to completely remove rows with any outliers,\n",
    "# you would follow up with:\n",
    "df1 <- df1 %>% filter(complete.cases(.))\n"
   ]
  },
  {
   "cell_type": "markdown",
   "id": "bfe99016-0595-4744-ac7b-b1decafdc5dc",
   "metadata": {},
   "source": [
    "# Step 4: Train & Test Split"
   ]
  },
  {
   "cell_type": "code",
   "execution_count": 29,
   "id": "71ba376c-d358-42fa-af5e-65b64d687015",
   "metadata": {},
   "outputs": [
    {
     "name": "stderr",
     "output_type": "stream",
     "text": [
      "Loading required package: tidymodels\n",
      "\n",
      "Warning message:\n",
      "\"package 'tidymodels' was built under R version 4.3.3\"\n",
      "── \u001b[1mAttaching packages\u001b[22m ────────────────────────────────────────────────────────────────────────────── tidymodels 1.2.0 ──\n",
      "\n",
      "\u001b[32m✔\u001b[39m \u001b[34mbroom       \u001b[39m 1.0.5      \u001b[32m✔\u001b[39m \u001b[34mrsample     \u001b[39m 1.2.1 \n",
      "\u001b[32m✔\u001b[39m \u001b[34mdials       \u001b[39m 1.2.1      \u001b[32m✔\u001b[39m \u001b[34mtune        \u001b[39m 1.2.1 \n",
      "\u001b[32m✔\u001b[39m \u001b[34minfer       \u001b[39m 1.0.7      \u001b[32m✔\u001b[39m \u001b[34mworkflows   \u001b[39m 1.1.4 \n",
      "\u001b[32m✔\u001b[39m \u001b[34mmodeldata   \u001b[39m 1.3.0      \u001b[32m✔\u001b[39m \u001b[34mworkflowsets\u001b[39m 1.1.0 \n",
      "\u001b[32m✔\u001b[39m \u001b[34mparsnip     \u001b[39m 1.2.1      \u001b[32m✔\u001b[39m \u001b[34myardstick   \u001b[39m 1.3.1 \n",
      "\u001b[32m✔\u001b[39m \u001b[34mrecipes     \u001b[39m 1.0.10     \n",
      "\n",
      "Warning message:\n",
      "\"package 'dials' was built under R version 4.3.3\"\n",
      "Warning message:\n",
      "\"package 'infer' was built under R version 4.3.3\"\n",
      "Warning message:\n",
      "\"package 'modeldata' was built under R version 4.3.3\"\n",
      "Warning message:\n",
      "\"package 'parsnip' was built under R version 4.3.3\"\n",
      "Warning message:\n",
      "\"package 'recipes' was built under R version 4.3.3\"\n",
      "Warning message:\n",
      "\"package 'rsample' was built under R version 4.3.3\"\n",
      "Warning message:\n",
      "\"package 'tune' was built under R version 4.3.3\"\n",
      "Warning message:\n",
      "\"package 'workflows' was built under R version 4.3.3\"\n",
      "Warning message:\n",
      "\"package 'workflowsets' was built under R version 4.3.3\"\n",
      "Warning message:\n",
      "\"package 'yardstick' was built under R version 4.3.3\"\n",
      "── \u001b[1mConflicts\u001b[22m ───────────────────────────────────────────────────────────────────────────────── tidymodels_conflicts() ──\n",
      "\u001b[31m✖\u001b[39m \u001b[34mscales\u001b[39m::\u001b[32mdiscard()\u001b[39m masks \u001b[34mpurrr\u001b[39m::discard()\n",
      "\u001b[31m✖\u001b[39m \u001b[34mplotly\u001b[39m::\u001b[32mfilter()\u001b[39m  masks \u001b[34mdplyr\u001b[39m::filter(), \u001b[34mstats\u001b[39m::filter()\n",
      "\u001b[31m✖\u001b[39m \u001b[34mrecipes\u001b[39m::\u001b[32mfixed()\u001b[39m  masks \u001b[34mstringr\u001b[39m::fixed()\n",
      "\u001b[31m✖\u001b[39m \u001b[34mdplyr\u001b[39m::\u001b[32mlag()\u001b[39m      masks \u001b[34mstats\u001b[39m::lag()\n",
      "\u001b[31m✖\u001b[39m \u001b[34myardstick\u001b[39m::\u001b[32mspec()\u001b[39m masks \u001b[34mreadr\u001b[39m::spec()\n",
      "\u001b[31m✖\u001b[39m \u001b[34mrecipes\u001b[39m::\u001b[32mstep()\u001b[39m   masks \u001b[34mstats\u001b[39m::step()\n",
      "\u001b[34m•\u001b[39m Learn how to get started at \u001b[32mhttps://www.tidymodels.org/start/\u001b[39m\n",
      "\n"
     ]
    }
   ],
   "source": [
    "if (!require(\"tidymodels\")) install.packages(\"tidymodels\")"
   ]
  },
  {
   "cell_type": "code",
   "execution_count": 30,
   "id": "04757f1a-20c3-4a46-9d5b-dbb4cf186539",
   "metadata": {},
   "outputs": [],
   "source": [
    "if (!require(\"recipes\")) install.packages(\"recipes\")"
   ]
  },
  {
   "cell_type": "code",
   "execution_count": 31,
   "id": "1809b98a-7c96-4bfc-9e4b-8646f9e675bc",
   "metadata": {},
   "outputs": [],
   "source": [
    "library(tidymodels)\n",
    "library(dplyr)\n",
    "library(recipes)"
   ]
  },
  {
   "cell_type": "code",
   "execution_count": 32,
   "id": "00942d0a-5e75-4ece-8b84-c6f9a456fd65",
   "metadata": {},
   "outputs": [
    {
     "name": "stdout",
     "output_type": "stream",
     "text": [
      "\u001b[90m# A tibble: 0 × 16\u001b[39m\n",
      "\u001b[90m# ℹ 16 variables: age <dbl>, job <chr>, marital <chr>, education <chr>,\u001b[39m\n",
      "\u001b[90m#   balance <dbl>, housing <chr>, loan <chr>, contact <chr>, day_of_week <dbl>,\u001b[39m\n",
      "\u001b[90m#   month <chr>, duration <dbl>, campaign <dbl>, pdays <dbl>, previous <dbl>,\u001b[39m\n",
      "\u001b[90m#   poutcome <chr>, y <chr>\u001b[39m\n"
     ]
    }
   ],
   "source": [
    "# Dropping the 'default' column from df1 using base R\n",
    "df1 <- df1[, !names(df1) %in% \"default\"]\n",
    "print(head(df1))"
   ]
  },
  {
   "cell_type": "markdown",
   "id": "000ecc6e-870a-4314-a019-7d5d5273a790",
   "metadata": {},
   "source": [
    "**Manual encoding target column**"
   ]
  },
  {
   "cell_type": "code",
   "execution_count": 33,
   "id": "38b9a98d-cd87-410c-91d5-6f1bd5c59223",
   "metadata": {},
   "outputs": [],
   "source": [
    "# Define the target variable and encode it\n",
    "df1$y <- ifelse(df1$y == \"no\", 1, 0)"
   ]
  },
  {
   "cell_type": "code",
   "execution_count": 34,
   "id": "c1bd08d3-f843-4762-a81b-0e3528fa94be",
   "metadata": {},
   "outputs": [],
   "source": [
    "# Define predictor matrix X and target vector y\n",
    "X <- select(df1, -y)\n",
    "yt <- df1$y"
   ]
  },
  {
   "cell_type": "markdown",
   "id": "d9132abe-5841-424c-bb8f-ae6bb11ce9dd",
   "metadata": {},
   "source": [
    "## **Feature Encoding and Scaling**"
   ]
  },
  {
   "cell_type": "code",
   "execution_count": 35,
   "id": "e8417623-f506-4ff6-b4a1-ac7614c509d6",
   "metadata": {},
   "outputs": [],
   "source": [
    "# Identify numerical and categorical features\n",
    "num_features <- names(select_if(X, is.numeric))"
   ]
  },
  {
   "cell_type": "code",
   "execution_count": 36,
   "id": "738f53c7-26cf-48e7-9abc-d0d918277c3a",
   "metadata": {},
   "outputs": [
    {
     "data": {
      "text/html": [
       "<style>\n",
       ".list-inline {list-style: none; margin:0; padding: 0}\n",
       ".list-inline>li {display: inline-block}\n",
       ".list-inline>li:not(:last-child)::after {content: \"\\00b7\"; padding: 0 .5ex}\n",
       "</style>\n",
       "<ol class=list-inline><li>'age'</li><li>'balance'</li><li>'day_of_week'</li><li>'duration'</li><li>'campaign'</li><li>'pdays'</li><li>'previous'</li></ol>\n"
      ],
      "text/latex": [
       "\\begin{enumerate*}\n",
       "\\item 'age'\n",
       "\\item 'balance'\n",
       "\\item 'day\\_of\\_week'\n",
       "\\item 'duration'\n",
       "\\item 'campaign'\n",
       "\\item 'pdays'\n",
       "\\item 'previous'\n",
       "\\end{enumerate*}\n"
      ],
      "text/markdown": [
       "1. 'age'\n",
       "2. 'balance'\n",
       "3. 'day_of_week'\n",
       "4. 'duration'\n",
       "5. 'campaign'\n",
       "6. 'pdays'\n",
       "7. 'previous'\n",
       "\n",
       "\n"
      ],
      "text/plain": [
       "[1] \"age\"         \"balance\"     \"day_of_week\" \"duration\"    \"campaign\"   \n",
       "[6] \"pdays\"       \"previous\"   "
      ]
     },
     "metadata": {},
     "output_type": "display_data"
    }
   ],
   "source": [
    "num_features"
   ]
  },
  {
   "cell_type": "code",
   "execution_count": 37,
   "id": "19c5f508-82b0-416d-99b8-b926f855ade6",
   "metadata": {},
   "outputs": [
    {
     "data": {
      "text/html": [
       "<style>\n",
       ".list-inline {list-style: none; margin:0; padding: 0}\n",
       ".list-inline>li {display: inline-block}\n",
       ".list-inline>li:not(:last-child)::after {content: \"\\00b7\"; padding: 0 .5ex}\n",
       "</style>\n",
       "<ol class=list-inline><li>'job'</li><li>'marital'</li><li>'education'</li><li>'housing'</li><li>'loan'</li><li>'contact'</li><li>'month'</li><li>'poutcome'</li></ol>\n"
      ],
      "text/latex": [
       "\\begin{enumerate*}\n",
       "\\item 'job'\n",
       "\\item 'marital'\n",
       "\\item 'education'\n",
       "\\item 'housing'\n",
       "\\item 'loan'\n",
       "\\item 'contact'\n",
       "\\item 'month'\n",
       "\\item 'poutcome'\n",
       "\\end{enumerate*}\n"
      ],
      "text/markdown": [
       "1. 'job'\n",
       "2. 'marital'\n",
       "3. 'education'\n",
       "4. 'housing'\n",
       "5. 'loan'\n",
       "6. 'contact'\n",
       "7. 'month'\n",
       "8. 'poutcome'\n",
       "\n",
       "\n"
      ],
      "text/plain": [
       "[1] \"job\"       \"marital\"   \"education\" \"housing\"   \"loan\"      \"contact\"  \n",
       "[7] \"month\"     \"poutcome\" "
      ]
     },
     "metadata": {},
     "output_type": "display_data"
    }
   ],
   "source": [
    "cat_features <- names(select_if(X, is.character))\n",
    "cat_features"
   ]
  },
  {
   "cell_type": "markdown",
   "id": "1d1b1776-c3f5-4330-8952-1f7fe821bc13",
   "metadata": {},
   "source": [
    "### **Preprocessing using Column Transformer**"
   ]
  },
  {
   "cell_type": "code",
   "execution_count": 38,
   "id": "97011edc-aa63-4625-93d6-25f1c5a296b6",
   "metadata": {},
   "outputs": [],
   "source": [
    "# Define column roles\n",
    "or_columns <- c('housing','loan','poutcome')\n",
    "oh_columns <- c('job','month','marital','education','contact')\n",
    "transform_columns <- c('day_of_week')"
   ]
  },
  {
   "cell_type": "code",
   "execution_count": 42,
   "id": "be671ec4-f318-4647-8147-5599fbe3dc75",
   "metadata": {},
   "outputs": [
    {
     "data": {
      "text/html": [
       "<style>\n",
       ".dl-inline {width: auto; margin:0; padding: 0}\n",
       ".dl-inline>dt, .dl-inline>dd {float: none; width: auto; display: inline-block}\n",
       ".dl-inline>dt::after {content: \":\\0020\"; padding-right: .5ex}\n",
       ".dl-inline>dt:not(:first-of-type) {padding-left: .5ex}\n",
       "</style><dl class=dl-inline><dt>job</dt><dd>0</dd><dt>month</dt><dd>0</dd><dt>marital</dt><dd>0</dd><dt>education</dt><dd>0</dd><dt>contact</dt><dd>0</dd><dt>housing</dt><dd>0</dd><dt>loan</dt><dd>0</dd><dt>poutcome</dt><dd>0</dd></dl>\n"
      ],
      "text/latex": [
       "\\begin{description*}\n",
       "\\item[job] 0\n",
       "\\item[month] 0\n",
       "\\item[marital] 0\n",
       "\\item[education] 0\n",
       "\\item[contact] 0\n",
       "\\item[housing] 0\n",
       "\\item[loan] 0\n",
       "\\item[poutcome] 0\n",
       "\\end{description*}\n"
      ],
      "text/markdown": [
       "job\n",
       ":   0month\n",
       ":   0marital\n",
       ":   0education\n",
       ":   0contact\n",
       ":   0housing\n",
       ":   0loan\n",
       ":   0poutcome\n",
       ":   0\n",
       "\n"
      ],
      "text/plain": [
       "      job     month   marital education   contact   housing      loan  poutcome \n",
       "        0         0         0         0         0         0         0         0 "
      ]
     },
     "metadata": {},
     "output_type": "display_data"
    }
   ],
   "source": [
    "# Checking the number of levels in each categorical variable\n",
    "sapply(df1[c(\"job\", \"month\", \"marital\", \"education\", \"contact\", \"housing\", \"loan\", \"poutcome\")], function(x) length(unique(x)))"
   ]
  },
  {
   "cell_type": "code",
   "execution_count": 39,
   "id": "f60db1c7-2249-4ba9-abae-811ca1e24392",
   "metadata": {},
   "outputs": [],
   "source": [
    "# Convert categorical variables to factors\n",
    "df1 <- df1 %>%\n",
    "  mutate(across(c(job, month, marital, education, contact, housing, loan, poutcome), as.factor))"
   ]
  },
  {
   "cell_type": "code",
   "execution_count": 40,
   "id": "7fd85395-73c9-468b-be50-c6e4d19907d0",
   "metadata": {},
   "outputs": [],
   "source": [
    "# Now create the recipe\n",
    "recipe <- recipe(y ~ ., data = df1) %>%\n",
    "  step_dummy(all_nominal(), -all_outcomes()) %>%\n",
    "  step_YeoJohnson(all_numeric(), -all_outcomes()) %>%\n",
    "  step_normalize(all_numeric(), -all_outcomes())"
   ]
  },
  {
   "cell_type": "code",
   "execution_count": 41,
   "id": "a9b65894-ad0f-4698-994a-7b11bcaefe5d",
   "metadata": {},
   "outputs": [
    {
     "ename": "ERROR",
     "evalue": "\u001b[1m\u001b[33mError\u001b[39m in `step_dummy()`:\u001b[22m\n\u001b[1mCaused by error in `contrasts<-`:\u001b[22m\n\u001b[33m!\u001b[39m contrasts can be applied only to factors with 2 or more levels\n",
     "output_type": "error",
     "traceback": [
      "\u001b[1m\u001b[33mError\u001b[39m in `step_dummy()`:\u001b[22m\n\u001b[1mCaused by error in `contrasts<-`:\u001b[22m\n\u001b[33m!\u001b[39m contrasts can be applied only to factors with 2 or more levels\nTraceback:\n",
      "1. prep(recipe)",
      "2. prep.recipe(recipe)",
      "3. recipes_error_context(bake(x$steps[[i]], new_data = training), \n .     step_name = step_name)",
      "4. withCallingHandlers(expr = force(expr), error = function(cnd) {\n .     stop_recipes_step(call = call(step_name), parent = cnd)\n . })",
      "5. force(expr)",
      "6. bake(x$steps[[i]], new_data = training)",
      "7. bake.step_dummy(x$steps[[i]], new_data = training)",
      "8. model.matrix(object = levels, data = indicators)",
      "9. model.matrix.default(object = levels, data = indicators)",
      "10. `contrasts<-`(`*tmp*`, value = contr.funs[1 + isOF[nn]])",
      "11. stop(\"contrasts can be applied only to factors with 2 or more levels\")",
      "12. .handleSimpleError(function (cnd) \n  . {\n  .     stop_recipes_step(call = call(step_name), parent = cnd)\n  . }, \"contrasts can be applied only to factors with 2 or more levels\", \n  .     base::quote(`contrasts<-`(`*tmp*`, value = contr.funs[1 + \n  .         isOF[nn]])))",
      "13. h(simpleError(msg, call))",
      "14. stop_recipes_step(call = call(step_name), parent = cnd)",
      "15. stop_recipes(class = \"recipes_error_step\", call = call, parent = parent)",
      "16. rlang::abort(class = c(class, \"recipes_error\"), call = call, \n  .     parent = parent)",
      "17. signal_abort(cnd, .file)"
     ]
    }
   ],
   "source": [
    "# Prepare and bake the recipe\n",
    "prepped_recipe <- prep(recipe)\n",
    "X_transformed <- bake(prepped_recipe, new_data = NULL)"
   ]
  },
  {
   "cell_type": "code",
   "execution_count": 50,
   "id": "5332d11e-9a6e-4851-8bbe-817f5fcef9b3",
   "metadata": {},
   "outputs": [
    {
     "name": "stdout",
     "output_type": "stream",
     "text": [
      "\u001b[90m# A tibble: 25,480 × 22\u001b[39m\n",
      "   no_of_employees prevailing_wage company_age case_status continent_Asia\n",
      "             \u001b[3m\u001b[90m<dbl>\u001b[39m\u001b[23m           \u001b[3m\u001b[90m<dbl>\u001b[39m\u001b[23m       \u001b[3m\u001b[90m<dbl>\u001b[39m\u001b[23m       \u001b[3m\u001b[90m<dbl>\u001b[39m\u001b[23m          \u001b[3m\u001b[90m<dbl>\u001b[39m\u001b[23m\n",
      "\u001b[90m 1\u001b[39m          1.52           -\u001b[31m1\u001b[39m\u001b[31m.\u001b[39m\u001b[31m94\u001b[39m     -\u001b[31m0\u001b[39m\u001b[31m.\u001b[39m\u001b[31m952\u001b[39m              1          0.715\n",
      "\u001b[90m 2\u001b[39m          0.030\u001b[4m9\u001b[24m          0.345    -\u001b[31m0\u001b[39m\u001b[31m.\u001b[39m\u001b[31m463\u001b[39m              0          0.715\n",
      "\u001b[90m 3\u001b[39m          2.88            0.916    -\u001b[31m1\u001b[39m\u001b[31m.\u001b[39m\u001b[31m0\u001b[39m\u001b[31m8\u001b[39m               1          0.715\n",
      "\u001b[90m 4\u001b[39m         -\u001b[31m1\u001b[39m\u001b[31m.\u001b[39m\u001b[31m34\u001b[39m            0.345     1.63               1          0.715\n",
      "\u001b[90m 5\u001b[39m         -\u001b[31m0\u001b[39m\u001b[31m.\u001b[39m\u001b[31m432\u001b[39m           1.26     -\u001b[31m0\u001b[39m\u001b[31m.\u001b[39m\u001b[31m734\u001b[39m              0         -\u001b[31m1\u001b[39m\u001b[31m.\u001b[39m\u001b[31m40\u001b[39m \n",
      "\u001b[90m 6\u001b[39m          0.011\u001b[4m2\u001b[24m          0.262    -\u001b[31m1\u001b[39m\u001b[31m.\u001b[39m\u001b[31m71\u001b[39m               0          0.715\n",
      "\u001b[90m 7\u001b[39m          0.547          -\u001b[31m0\u001b[39m\u001b[31m.\u001b[39m\u001b[31m175\u001b[39m     0.051\u001b[4m9\u001b[24m             0          0.715\n",
      "\u001b[90m 8\u001b[39m          0.183          -\u001b[31m1\u001b[39m\u001b[31m.\u001b[39m\u001b[31m97\u001b[39m      1.44               1         -\u001b[31m1\u001b[39m\u001b[31m.\u001b[39m\u001b[31m40\u001b[39m \n",
      "\u001b[90m 9\u001b[39m          0.519           0.198    -\u001b[31m1\u001b[39m\u001b[31m.\u001b[39m\u001b[31m71\u001b[39m               0          0.715\n",
      "\u001b[90m10\u001b[39m         -\u001b[31m0\u001b[39m\u001b[31m.\u001b[39m\u001b[31m0\u001b[39m\u001b[31m13\u001b[4m1\u001b[24m\u001b[39m          0.080\u001b[4m7\u001b[24m   -\u001b[31m0\u001b[39m\u001b[31m.\u001b[39m\u001b[31m000\u001b[39m\u001b[31m\u001b[4m6\u001b[24m\u001b[4m8\u001b[24m\u001b[4m2\u001b[24m\u001b[39m           0         -\u001b[31m1\u001b[39m\u001b[31m.\u001b[39m\u001b[31m40\u001b[39m \n",
      "\u001b[90m# ℹ 25,470 more rows\u001b[39m\n",
      "\u001b[90m# ℹ 17 more variables: continent_Europe <dbl>, continent_North.America <dbl>,\u001b[39m\n",
      "\u001b[90m#   continent_Oceania <dbl>, continent_South.America <dbl>,\u001b[39m\n",
      "\u001b[90m#   education_of_employee_Doctorate <dbl>,\u001b[39m\n",
      "\u001b[90m#   education_of_employee_High.School <dbl>,\u001b[39m\n",
      "\u001b[90m#   education_of_employee_Master.s <dbl>, has_job_experience_Y <dbl>,\u001b[39m\n",
      "\u001b[90m#   requires_job_training_Y <dbl>, region_of_employment_Midwest <dbl>, …\u001b[39m\n"
     ]
    }
   ],
   "source": [
    "print(X_transformed)"
   ]
  },
  {
   "cell_type": "markdown",
   "id": "d5abd7b1-50da-4a0d-bf91-b6ff98a628c1",
   "metadata": {},
   "source": [
    "### **Resampling**"
   ]
  },
  {
   "cell_type": "code",
   "execution_count": 51,
   "id": "e9744867-3692-4539-829e-a9c2e1f09973",
   "metadata": {},
   "outputs": [
    {
     "name": "stderr",
     "output_type": "stream",
     "text": [
      "Loading required package: ROSE\n",
      "\n",
      "Warning message in library(package, lib.loc = lib.loc, character.only = TRUE, logical.return = TRUE, :\n",
      "\"there is no package called 'ROSE'\"\n",
      "Installing package into 'C:/Users/SANA JALGAONKAR/AppData/Local/R/win-library/4.3'\n",
      "(as 'lib' is unspecified)\n",
      "\n",
      "also installing the dependency 'tree'\n",
      "\n",
      "\n"
     ]
    },
    {
     "name": "stdout",
     "output_type": "stream",
     "text": [
      "package 'tree' successfully unpacked and MD5 sums checked\n",
      "package 'ROSE' successfully unpacked and MD5 sums checked\n",
      "\n",
      "The downloaded binary packages are in\n",
      "\tC:\\Users\\SANA JALGAONKAR\\AppData\\Local\\Temp\\Rtmpo7sGzC\\downloaded_packages\n"
     ]
    },
    {
     "name": "stderr",
     "output_type": "stream",
     "text": [
      "Loading required package: caret\n",
      "\n",
      "Warning message:\n",
      "\"package 'caret' was built under R version 4.3.3\"\n",
      "Loading required package: lattice\n",
      "\n",
      "\n",
      "Attaching package: 'caret'\n",
      "\n",
      "\n",
      "The following objects are masked from 'package:yardstick':\n",
      "\n",
      "    precision, recall, sensitivity, specificity\n",
      "\n",
      "\n",
      "The following object is masked from 'package:purrr':\n",
      "\n",
      "    lift\n",
      "\n",
      "\n",
      "Warning message:\n",
      "\"package 'ROSE' was built under R version 4.3.3\"\n",
      "Loaded ROSE 0.0-4\n",
      "\n",
      "\n"
     ]
    }
   ],
   "source": [
    "# Install and load necessary packages\n",
    "if (!require('ROSE')) install.packages('ROSE', dependencies=TRUE)\n",
    "if (!require('caret')) install.packages('caret', dependencies=TRUE)\n",
    "library(ROSE)\n",
    "library(caret)"
   ]
  },
  {
   "cell_type": "code",
   "execution_count": 54,
   "id": "b8b1e233-443f-4968-85ff-47ef25b015f2",
   "metadata": {},
   "outputs": [],
   "source": [
    "# Prepare the dataset, assuming df1 and target y have been defined and properly prepared\n",
    "data_frame <- cbind(X, y = as.factor(y))  # Ensure target variable 'y' is a factor"
   ]
  },
  {
   "cell_type": "code",
   "execution_count": 55,
   "id": "979a15e4-9c68-4d66-880c-8bf31dfb7545",
   "metadata": {},
   "outputs": [],
   "source": [
    "# Setting N to be at least the size of the original data or larger\n",
    "N_size <- max(2000, nrow(data_frame))"
   ]
  },
  {
   "cell_type": "code",
   "execution_count": 56,
   "id": "78fb833e-ae75-49c9-9b15-f714b9f2157b",
   "metadata": {},
   "outputs": [],
   "source": [
    "# Resampling using SMOTE (ROSE package)\n",
    "set.seed(42)\n",
    "data_balanced <- ovun.sample(y ~ ., data = data_frame, method = \"over\", N = N_size, seed = 42)$data\n",
    "\n",
    "# Separate the balanced data\n",
    "X_res <- data_balanced[, -ncol(data_balanced)]\n",
    "y_res <- data_balanced$y"
   ]
  },
  {
   "cell_type": "code",
   "execution_count": 57,
   "id": "62631e36-23e1-49a6-9379-0b94957f1a1a",
   "metadata": {},
   "outputs": [],
   "source": [
    "# Splitting the dataset into training and testing\n",
    "set.seed(42)\n",
    "split <- createDataPartition(y_res, p = 0.7, list = FALSE)\n",
    "X_train <- X_res[split, ]\n",
    "X_test <- X_res[-split, ]\n",
    "y_train <- y_res[split]\n",
    "y_test <- y_res[-split]"
   ]
  },
  {
   "cell_type": "markdown",
   "id": "14b042ee-a020-4f55-8636-a59ff17733b4",
   "metadata": {},
   "source": [
    "## Print the number of records in the training and testing data"
   ]
  },
  {
   "cell_type": "code",
   "execution_count": 58,
   "id": "77254491-e85d-4bfb-8693-3bb14f737d63",
   "metadata": {},
   "outputs": [
    {
     "name": "stdout",
     "output_type": "stream",
     "text": [
      "Training records: 17837 Testing records: 7643 \n"
     ]
    }
   ],
   "source": [
    "cat(\"Training records:\", nrow(X_train), \"Testing records:\", nrow(X_test), \"\\n\")"
   ]
  },
  {
   "cell_type": "markdown",
   "id": "80e9c705-ee39-4746-9d45-bf7b78198bda",
   "metadata": {},
   "source": [
    "## Save training data to CSV"
   ]
  },
  {
   "cell_type": "code",
   "execution_count": 59,
   "id": "921df432-fbc4-46dc-9b1e-86110152fca4",
   "metadata": {},
   "outputs": [
    {
     "name": "stdout",
     "output_type": "stream",
     "text": [
      "Training data has been saved to 'visa_training_data_R.csv'.\n"
     ]
    }
   ],
   "source": [
    "# Saving training and testing data\n",
    "write.csv(cbind(X_train, y_train), 'visa_training_data_R.csv', row.names = FALSE)\n",
    "cat(\"Training data has been saved to 'visa_training_data_R.csv'.\\n\")"
   ]
  },
  {
   "cell_type": "markdown",
   "id": "e272f94e-c37f-4c4e-b313-4a4ea8712ffa",
   "metadata": {},
   "source": [
    "## Save testing data to CSV"
   ]
  },
  {
   "cell_type": "code",
   "execution_count": 60,
   "id": "0d493fff-eb0a-496f-96aa-4c27890ad83c",
   "metadata": {},
   "outputs": [
    {
     "name": "stdout",
     "output_type": "stream",
     "text": [
      "Testing data has been saved to 'visa_testing_data_R.csv'.\n"
     ]
    }
   ],
   "source": [
    "write.csv(cbind(X_test, y_test), 'visa_testing_data_R.csv', row.names = FALSE)\n",
    "cat(\"Testing data has been saved to 'visa_testing_data_R.csv'.\\n\")"
   ]
  },
  {
   "cell_type": "markdown",
   "id": "40a504bb-7baf-4f48-96c4-0ef92e057b2f",
   "metadata": {},
   "source": [
    "# Step 6: Logistic Regression using SkLearn"
   ]
  },
  {
   "cell_type": "code",
   "execution_count": 61,
   "id": "0cd964ed-c62e-4a17-963d-f4924ac7d03a",
   "metadata": {},
   "outputs": [
    {
     "name": "stderr",
     "output_type": "stream",
     "text": [
      "Loading required package: pROC\n",
      "\n",
      "Warning message:\n",
      "\"package 'pROC' was built under R version 4.3.3\"\n",
      "Type 'citation(\"pROC\")' for a citation.\n",
      "\n",
      "\n",
      "Attaching package: 'pROC'\n",
      "\n",
      "\n",
      "The following objects are masked from 'package:stats':\n",
      "\n",
      "    cov, smooth, var\n",
      "\n",
      "\n",
      "Loading required package: Metrics\n",
      "\n",
      "Warning message in library(package, lib.loc = lib.loc, character.only = TRUE, logical.return = TRUE, :\n",
      "\"there is no package called 'Metrics'\"\n",
      "Installing package into 'C:/Users/SANA JALGAONKAR/AppData/Local/R/win-library/4.3'\n",
      "(as 'lib' is unspecified)\n",
      "\n"
     ]
    },
    {
     "name": "stdout",
     "output_type": "stream",
     "text": [
      "package 'Metrics' successfully unpacked and MD5 sums checked\n",
      "\n",
      "The downloaded binary packages are in\n",
      "\tC:\\Users\\SANA JALGAONKAR\\AppData\\Local\\Temp\\Rtmpo7sGzC\\downloaded_packages\n"
     ]
    },
    {
     "name": "stderr",
     "output_type": "stream",
     "text": [
      "Warning message:\n",
      "\"package 'Metrics' was built under R version 4.3.3\"\n",
      "\n",
      "Attaching package: 'Metrics'\n",
      "\n",
      "\n",
      "The following object is masked from 'package:pROC':\n",
      "\n",
      "    auc\n",
      "\n",
      "\n",
      "The following objects are masked from 'package:caret':\n",
      "\n",
      "    precision, recall\n",
      "\n",
      "\n",
      "The following objects are masked from 'package:yardstick':\n",
      "\n",
      "    accuracy, mae, mape, mase, precision, recall, rmse, smape\n",
      "\n",
      "\n"
     ]
    }
   ],
   "source": [
    "# Install necessary R packages\n",
    "if (!require(caret)) install.packages('caret', dependencies=TRUE)\n",
    "if (!require(pROC)) install.packages('pROC', dependencies=TRUE)\n",
    "if (!require(Metrics)) install.packages('Metrics', dependencies=TRUE)\n",
    "library(caret)\n",
    "library(pROC)\n",
    "library(Metrics)"
   ]
  },
  {
   "cell_type": "code",
   "execution_count": 71,
   "id": "0d4d8313-2cb1-4436-9625-158fb1be3881",
   "metadata": {},
   "outputs": [],
   "source": [
    "library(caret)\n",
    "library(pROC)"
   ]
  },
  {
   "cell_type": "code",
   "execution_count": 72,
   "id": "8b35113a-2367-46dd-a5f4-3882bb8cf47f",
   "metadata": {},
   "outputs": [],
   "source": [
    "# Ensure factor levels consistency by defining them explicitly\n",
    "y_train <- factor(y_train, levels = c(0, 1))\n",
    "y_test <- factor(y_test, levels = c(0, 1))"
   ]
  },
  {
   "cell_type": "code",
   "execution_count": 73,
   "id": "df42cb36-ea5a-4519-864e-3cd83a7f52c0",
   "metadata": {},
   "outputs": [],
   "source": [
    "# Train Logistic Regression model\n",
    "lr_model <- glm(y_train ~ ., data = as.data.frame(X_train), family = binomial())"
   ]
  },
  {
   "cell_type": "code",
   "execution_count": 74,
   "id": "ea693e4f-9579-4d03-bac4-900e033cd466",
   "metadata": {},
   "outputs": [],
   "source": [
    "# Make predictions and convert probabilities to binary outcome based on threshold\n",
    "y_train_pred_prob <- predict(lr_model, type = \"response\", newdata = as.data.frame(X_train))\n",
    "y_test_pred_prob <- predict(lr_model, type = \"response\", newdata = as.data.frame(X_test))"
   ]
  },
  {
   "cell_type": "code",
   "execution_count": 75,
   "id": "cb23d179-4bec-4d23-a6cd-15df30247e5d",
   "metadata": {},
   "outputs": [],
   "source": [
    "y_train_pred_class <- factor(ifelse(y_train_pred_prob > 0.5, 1, 0), levels = c(0, 1))\n",
    "y_test_pred_class <- factor(ifelse(y_test_pred_prob > 0.5, 1, 0), levels = c(0, 1))"
   ]
  },
  {
   "cell_type": "code",
   "execution_count": 82,
   "id": "7b954eb5-971a-4982-a47b-dd9316412c57",
   "metadata": {},
   "outputs": [],
   "source": [
    "# Evaluation function\n",
    "evaluate_clf <- function(true, predicted) {\n",
    "  # Ensure both true and predicted are factors and have the same levels\n",
    "  true <- factor(true, levels = c(0, 1))\n",
    "  predicted <- factor(predicted, levels = c(0, 1))\n",
    "  \n",
    "  conf_matrix <- confusionMatrix(predicted, true)\n",
    "  \n",
    "  acc <- conf_matrix$overall['Accuracy']\n",
    "  precision <- conf_matrix$byClass['Precision']\n",
    "  recall <- conf_matrix$byClass['Sensitivity']\n",
    "  f1 <- 2 * (precision * recall) / (precision + recall)\n",
    "  \n",
    "  # roc_curve <- roc(as.numeric(true), as.numeric(predicted))  # ensure numeric input for roc function\n",
    "  # roc_auc <- auc(roc_curve)\n",
    "  \n",
    "  return(list(Accuracy = acc, F1 = f1, Precision = precision, Recall = recall))\n",
    "}"
   ]
  },
  {
   "cell_type": "code",
   "execution_count": 83,
   "id": "61b0ec17-a58c-4127-bf25-d00244ad8ca3",
   "metadata": {},
   "outputs": [
    {
     "name": "stdout",
     "output_type": "stream",
     "text": [
      "Model performance for Training set\n",
      "$Accuracy\n",
      " Accuracy \n",
      "0.7444638 \n",
      "\n",
      "$F1\n",
      "Precision \n",
      " 0.821311 \n",
      "\n",
      "$Precision\n",
      "Precision \n",
      "0.7705039 \n",
      "\n",
      "$Recall\n",
      "Sensitivity \n",
      "  0.8792915 \n",
      "\n"
     ]
    }
   ],
   "source": [
    "# Evaluate performance on training set\n",
    "model_train_metrics <- evaluate_clf(y_train, y_train_pred_class)\n",
    "cat('Model performance for Training set\\n')\n",
    "print(model_train_metrics)"
   ]
  },
  {
   "cell_type": "code",
   "execution_count": 84,
   "id": "66d8fb93-2f3d-4f48-989d-7a569d658271",
   "metadata": {},
   "outputs": [
    {
     "name": "stdout",
     "output_type": "stream",
     "text": [
      "Model performance for Test set\n",
      "$Accuracy\n",
      " Accuracy \n",
      "0.7345283 \n",
      "\n",
      "$F1\n",
      "Precision \n",
      "0.8155287 \n",
      "\n",
      "$Precision\n",
      "Precision \n",
      "0.7609433 \n",
      "\n",
      "$Recall\n",
      "Sensitivity \n",
      "  0.8785504 \n",
      "\n"
     ]
    }
   ],
   "source": [
    "# Evaluate performance on test set\n",
    "model_test_metrics <- evaluate_clf(y_test, y_test_pred_class)\n",
    "cat('Model performance for Test set\\n')\n",
    "print(model_test_metrics)"
   ]
  },
  {
   "cell_type": "markdown",
   "id": "06751f20-871b-4353-8513-f1ad337cc90b",
   "metadata": {},
   "source": [
    "# Step 8: Random Forest Using SkLearn"
   ]
  },
  {
   "cell_type": "code",
   "execution_count": 85,
   "id": "f75dedcf-90ba-4db0-9b8f-0778727b776e",
   "metadata": {},
   "outputs": [
    {
     "name": "stderr",
     "output_type": "stream",
     "text": [
      "Loading required package: randomForest\n",
      "\n",
      "Warning message:\n",
      "\"package 'randomForest' was built under R version 4.3.3\"\n",
      "randomForest 4.7-1.1\n",
      "\n",
      "Type rfNews() to see new features/changes/bug fixes.\n",
      "\n",
      "\n",
      "Attaching package: 'randomForest'\n",
      "\n",
      "\n",
      "The following object is masked from 'package:dplyr':\n",
      "\n",
      "    combine\n",
      "\n",
      "\n",
      "The following object is masked from 'package:ggplot2':\n",
      "\n",
      "    margin\n",
      "\n",
      "\n"
     ]
    }
   ],
   "source": [
    "# Install and load necessary packages\n",
    "if (!require(randomForest)) install.packages('randomForest', dependencies=TRUE)\n",
    "library(randomForest)\n",
    "library(caret)\n",
    "library(pROC)"
   ]
  },
  {
   "cell_type": "code",
   "execution_count": 86,
   "id": "ace4ab1d-e9d4-4951-b768-6f01740816e0",
   "metadata": {},
   "outputs": [],
   "source": [
    "# Install and load necessary packages\n",
    "if (!require(randomForest)) install.packages('randomForest', dependencies=TRUE)\n",
    "library(randomForest)\n",
    "library(caret)\n",
    "library(pROC)"
   ]
  },
  {
   "cell_type": "code",
   "execution_count": 87,
   "id": "91d3cf09-f5fc-4045-ba3a-fb5489b2546c",
   "metadata": {},
   "outputs": [],
   "source": [
    "# Train RandomForest model\n",
    "rf_model <- randomForest(x = X_train, y = y_train, ntree = 500)  # setting ntree as an example"
   ]
  },
  {
   "cell_type": "code",
   "execution_count": 88,
   "id": "d28e641b-95e8-4d03-9fd0-5070d93fce77",
   "metadata": {},
   "outputs": [],
   "source": [
    "# Make predictions\n",
    "y_train_pred <- predict(rf_model, X_train)\n",
    "y_test_pred <- predict(rf_model, X_test)"
   ]
  },
  {
   "cell_type": "code",
   "execution_count": 89,
   "id": "184a313a-7753-4c89-94b1-2d9adf7cb7fc",
   "metadata": {},
   "outputs": [
    {
     "name": "stdout",
     "output_type": "stream",
     "text": [
      "Model performance for Training set:\n",
      "$Accuracy\n",
      " Accuracy \n",
      "0.9342378 \n",
      "\n",
      "$F1\n",
      "Precision \n",
      "0.9522141 \n",
      "\n",
      "$Precision\n",
      "Precision \n",
      "0.9250435 \n",
      "\n",
      "$Recall\n",
      "Sensitivity \n",
      "  0.9810291 \n",
      "\n"
     ]
    }
   ],
   "source": [
    "# Training set performance\n",
    "rfc_metrics_train <- evaluate_clf(y_train, y_train_pred)\n",
    "cat(\"Model performance for Training set:\\n\")\n",
    "print(rfc_metrics_train)"
   ]
  },
  {
   "cell_type": "code",
   "execution_count": 90,
   "id": "5912b7c0-ecdf-46e4-9e8b-cdfb6e8b4df3",
   "metadata": {},
   "outputs": [
    {
     "name": "stdout",
     "output_type": "stream",
     "text": [
      "Model performance for Test set:\n",
      "$Accuracy\n",
      " Accuracy \n",
      "0.7962842 \n",
      "\n",
      "$F1\n",
      "Precision \n",
      "0.8536517 \n",
      "\n",
      "$Precision\n",
      "Precision \n",
      "0.8205638 \n",
      "\n",
      "$Recall\n",
      "Sensitivity \n",
      "  0.8895201 \n",
      "\n"
     ]
    }
   ],
   "source": [
    "# Test set performance\n",
    "rfc_metrics_test <- evaluate_clf(y_test, y_test_pred)\n",
    "cat(\"Model performance for Test set:\\n\")\n",
    "print(rfc_metrics_test)"
   ]
  },
  {
   "cell_type": "code",
   "execution_count": 91,
   "id": "ce5ee63a-dfa5-40c7-9fec-95ccdda74d64",
   "metadata": {},
   "outputs": [
    {
     "name": "stdout",
     "output_type": "stream",
     "text": [
      "Random Forest Accuracy (Test Set): 0.7962842 \n"
     ]
    }
   ],
   "source": [
    "# Additional evaluation metrics\n",
    "rfc_accuracy <- rfc_metrics_test$Accuracy\n",
    "cat(\"Random Forest Accuracy (Test Set):\", rfc_accuracy, \"\\n\")"
   ]
  },
  {
   "cell_type": "code",
   "execution_count": null,
   "id": "c3792ea9-9f8c-459a-a076-f68bf83afaee",
   "metadata": {},
   "outputs": [],
   "source": []
  }
 ],
 "metadata": {
  "kernelspec": {
   "display_name": "R",
   "language": "R",
   "name": "ir"
  },
  "language_info": {
   "codemirror_mode": "r",
   "file_extension": ".r",
   "mimetype": "text/x-r-source",
   "name": "R",
   "pygments_lexer": "r",
   "version": "4.3.2"
  }
 },
 "nbformat": 4,
 "nbformat_minor": 5
}
