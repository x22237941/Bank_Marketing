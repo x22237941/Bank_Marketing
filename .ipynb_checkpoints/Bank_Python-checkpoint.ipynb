{
 "cells": [
  {
   "cell_type": "markdown",
   "id": "927991c8-4afb-4f36-abd7-c8ff386c6d4e",
   "metadata": {},
   "source": [
    "# Bank Marketing"
   ]
  },
  {
   "cell_type": "markdown",
   "id": "4e48d63f-91bf-4907-86dd-b3988bcfebaf",
   "metadata": {},
   "source": [
    "The data is related with direct marketing campaigns (phone calls) of a Portuguese banking institution. "
   ]
  },
  {
   "cell_type": "markdown",
   "id": "b849bd5b-6a71-4bcd-a30a-02db3cdaa117",
   "metadata": {},
   "source": [
    "The classification goal is to predict if the client will subscribe (yes/no) a term deposit (variable y)."
   ]
  },
  {
   "cell_type": "markdown",
   "id": "30ce0d6e-9497-4085-83df-9f4d55f29938",
   "metadata": {},
   "source": [
    "# Importing required libraries"
   ]
  },
  {
   "cell_type": "code",
   "execution_count": 1,
   "id": "164d37c8-1c2b-4cb6-b1ed-c5580a39eaf2",
   "metadata": {},
   "outputs": [],
   "source": [
    "import pandas as pd\n",
    "import numpy as np\n",
    "import matplotlib.pyplot as plt\n",
    "import seaborn as sns\n",
    "import plotly.express as px\n",
    "import warnings\n",
    "\n",
    "warnings.filterwarnings(\"ignore\")\n",
    "\n",
    "%matplotlib inline"
   ]
  },
  {
   "cell_type": "markdown",
   "id": "051efc5c-08c8-4d73-8ed1-185f202f72a8",
   "metadata": {},
   "source": [
    "# Extracting Data From UCI"
   ]
  },
  {
   "cell_type": "code",
   "execution_count": 2,
   "id": "44e5a344-ce24-4d24-9b88-c41f979dd196",
   "metadata": {},
   "outputs": [
    {
     "name": "stdout",
     "output_type": "stream",
     "text": [
      "Requirement already satisfied: ucimlrepo in c:\\users\\sana jalgaonkar\\appdata\\local\\programs\\python\\python312\\lib\\site-packages (0.0.6)\n",
      "Note: you may need to restart the kernel to use updated packages.\n"
     ]
    }
   ],
   "source": [
    "pip install ucimlrepo"
   ]
  },
  {
   "cell_type": "code",
   "execution_count": 3,
   "id": "18ad38d2-5be7-4e94-9044-af760074cd8a",
   "metadata": {},
   "outputs": [],
   "source": [
    "from ucimlrepo import fetch_ucirepo "
   ]
  },
  {
   "cell_type": "code",
   "execution_count": 4,
   "id": "40226e01-a882-4d68-b4ab-2a99c5e3e983",
   "metadata": {},
   "outputs": [],
   "source": [
    "# Fetch dataset \n",
    "bank_marketing = fetch_ucirepo(id=222) "
   ]
  },
  {
   "cell_type": "code",
   "execution_count": 5,
   "id": "2925b4d3-0b30-4ed1-9b24-cbedcff12d42",
   "metadata": {},
   "outputs": [
    {
     "data": {
      "text/plain": [
       "{'data': {'ids': None,\n",
       "  'features':        age           job   marital  education default  balance housing loan  \\\n",
       "  0       58    management   married   tertiary      no     2143     yes   no   \n",
       "  1       44    technician    single  secondary      no       29     yes   no   \n",
       "  2       33  entrepreneur   married  secondary      no        2     yes  yes   \n",
       "  3       47   blue-collar   married        NaN      no     1506     yes   no   \n",
       "  4       33           NaN    single        NaN      no        1      no   no   \n",
       "  ...    ...           ...       ...        ...     ...      ...     ...  ...   \n",
       "  45206   51    technician   married   tertiary      no      825      no   no   \n",
       "  45207   71       retired  divorced    primary      no     1729      no   no   \n",
       "  45208   72       retired   married  secondary      no     5715      no   no   \n",
       "  45209   57   blue-collar   married  secondary      no      668      no   no   \n",
       "  45210   37  entrepreneur   married  secondary      no     2971      no   no   \n",
       "  \n",
       "           contact  day_of_week month  duration  campaign  pdays  previous  \\\n",
       "  0            NaN            5   may       261         1     -1         0   \n",
       "  1            NaN            5   may       151         1     -1         0   \n",
       "  2            NaN            5   may        76         1     -1         0   \n",
       "  3            NaN            5   may        92         1     -1         0   \n",
       "  4            NaN            5   may       198         1     -1         0   \n",
       "  ...          ...          ...   ...       ...       ...    ...       ...   \n",
       "  45206   cellular           17   nov       977         3     -1         0   \n",
       "  45207   cellular           17   nov       456         2     -1         0   \n",
       "  45208   cellular           17   nov      1127         5    184         3   \n",
       "  45209  telephone           17   nov       508         4     -1         0   \n",
       "  45210   cellular           17   nov       361         2    188        11   \n",
       "  \n",
       "        poutcome  \n",
       "  0          NaN  \n",
       "  1          NaN  \n",
       "  2          NaN  \n",
       "  3          NaN  \n",
       "  4          NaN  \n",
       "  ...        ...  \n",
       "  45206      NaN  \n",
       "  45207      NaN  \n",
       "  45208  success  \n",
       "  45209      NaN  \n",
       "  45210    other  \n",
       "  \n",
       "  [45211 rows x 16 columns],\n",
       "  'targets':          y\n",
       "  0       no\n",
       "  1       no\n",
       "  2       no\n",
       "  3       no\n",
       "  4       no\n",
       "  ...    ...\n",
       "  45206  yes\n",
       "  45207  yes\n",
       "  45208  yes\n",
       "  45209   no\n",
       "  45210   no\n",
       "  \n",
       "  [45211 rows x 1 columns],\n",
       "  'original':        age           job   marital  education default  balance housing loan  \\\n",
       "  0       58    management   married   tertiary      no     2143     yes   no   \n",
       "  1       44    technician    single  secondary      no       29     yes   no   \n",
       "  2       33  entrepreneur   married  secondary      no        2     yes  yes   \n",
       "  3       47   blue-collar   married        NaN      no     1506     yes   no   \n",
       "  4       33           NaN    single        NaN      no        1      no   no   \n",
       "  ...    ...           ...       ...        ...     ...      ...     ...  ...   \n",
       "  45206   51    technician   married   tertiary      no      825      no   no   \n",
       "  45207   71       retired  divorced    primary      no     1729      no   no   \n",
       "  45208   72       retired   married  secondary      no     5715      no   no   \n",
       "  45209   57   blue-collar   married  secondary      no      668      no   no   \n",
       "  45210   37  entrepreneur   married  secondary      no     2971      no   no   \n",
       "  \n",
       "           contact  day_of_week month  duration  campaign  pdays  previous  \\\n",
       "  0            NaN            5   may       261         1     -1         0   \n",
       "  1            NaN            5   may       151         1     -1         0   \n",
       "  2            NaN            5   may        76         1     -1         0   \n",
       "  3            NaN            5   may        92         1     -1         0   \n",
       "  4            NaN            5   may       198         1     -1         0   \n",
       "  ...          ...          ...   ...       ...       ...    ...       ...   \n",
       "  45206   cellular           17   nov       977         3     -1         0   \n",
       "  45207   cellular           17   nov       456         2     -1         0   \n",
       "  45208   cellular           17   nov      1127         5    184         3   \n",
       "  45209  telephone           17   nov       508         4     -1         0   \n",
       "  45210   cellular           17   nov       361         2    188        11   \n",
       "  \n",
       "        poutcome    y  \n",
       "  0          NaN   no  \n",
       "  1          NaN   no  \n",
       "  2          NaN   no  \n",
       "  3          NaN   no  \n",
       "  4          NaN   no  \n",
       "  ...        ...  ...  \n",
       "  45206      NaN  yes  \n",
       "  45207      NaN  yes  \n",
       "  45208  success  yes  \n",
       "  45209      NaN   no  \n",
       "  45210    other   no  \n",
       "  \n",
       "  [45211 rows x 17 columns],\n",
       "  'headers': Index(['age', 'job', 'marital', 'education', 'default', 'balance', 'housing',\n",
       "         'loan', 'contact', 'day_of_week', 'month', 'duration', 'campaign',\n",
       "         'pdays', 'previous', 'poutcome', 'y'],\n",
       "        dtype='object')},\n",
       " 'metadata': {'uci_id': 222,\n",
       "  'name': 'Bank Marketing',\n",
       "  'repository_url': 'https://archive.ics.uci.edu/dataset/222/bank+marketing',\n",
       "  'data_url': 'https://archive.ics.uci.edu/static/public/222/data.csv',\n",
       "  'abstract': 'The data is related with direct marketing campaigns (phone calls) of a Portuguese banking institution. The classification goal is to predict if the client will subscribe a term deposit (variable y).',\n",
       "  'area': 'Business',\n",
       "  'tasks': ['Classification'],\n",
       "  'characteristics': ['Multivariate'],\n",
       "  'num_instances': 45211,\n",
       "  'num_features': 16,\n",
       "  'feature_types': ['Categorical', 'Integer'],\n",
       "  'demographics': ['Age', 'Occupation', 'Marital Status', 'Education Level'],\n",
       "  'target_col': ['y'],\n",
       "  'index_col': None,\n",
       "  'has_missing_values': 'yes',\n",
       "  'missing_values_symbol': 'NaN',\n",
       "  'year_of_dataset_creation': 2014,\n",
       "  'last_updated': 'Fri Aug 18 2023',\n",
       "  'dataset_doi': '10.24432/C5K306',\n",
       "  'creators': ['S. Moro', 'P. Rita', 'P. Cortez'],\n",
       "  'intro_paper': {'title': 'A data-driven approach to predict the success of bank telemarketing',\n",
       "   'authors': 'Sérgio Moro, P. Cortez, P. Rita',\n",
       "   'published_in': 'Decision Support Systems',\n",
       "   'year': 2014,\n",
       "   'url': 'https://www.semanticscholar.org/paper/cab86052882d126d43f72108c6cb41b295cc8a9e',\n",
       "   'doi': '10.1016/j.dss.2014.03.001'},\n",
       "  'additional_info': {'summary': \"The data is related with direct marketing campaigns of a Portuguese banking institution. The marketing campaigns were based on phone calls. Often, more than one contact to the same client was required, in order to access if the product (bank term deposit) would be ('yes') or not ('no') subscribed. \\n\\nThere are four datasets: \\n1) bank-additional-full.csv with all examples (41188) and 20 inputs, ordered by date (from May 2008 to November 2010), very close to the data analyzed in [Moro et al., 2014]\\n2) bank-additional.csv with 10% of the examples (4119), randomly selected from 1), and 20 inputs.\\n3) bank-full.csv with all examples and 17 inputs, ordered by date (older version of this dataset with less inputs). \\n4) bank.csv with 10% of the examples and 17 inputs, randomly selected from 3 (older version of this dataset with less inputs). \\nThe smallest datasets are provided to test more computationally demanding machine learning algorithms (e.g., SVM). \\n\\nThe classification goal is to predict if the client will subscribe (yes/no) a term deposit (variable y).\",\n",
       "   'purpose': None,\n",
       "   'funded_by': None,\n",
       "   'instances_represent': None,\n",
       "   'recommended_data_splits': None,\n",
       "   'sensitive_data': None,\n",
       "   'preprocessing_description': None,\n",
       "   'variable_info': 'Input variables:\\n   # bank client data:\\n   1 - age (numeric)\\n   2 - job : type of job (categorical: \"admin.\",\"unknown\",\"unemployed\",\"management\",\"housemaid\",\"entrepreneur\",\"student\",\\n                                       \"blue-collar\",\"self-employed\",\"retired\",\"technician\",\"services\") \\n   3 - marital : marital status (categorical: \"married\",\"divorced\",\"single\"; note: \"divorced\" means divorced or widowed)\\n   4 - education (categorical: \"unknown\",\"secondary\",\"primary\",\"tertiary\")\\n   5 - default: has credit in default? (binary: \"yes\",\"no\")\\n   6 - balance: average yearly balance, in euros (numeric) \\n   7 - housing: has housing loan? (binary: \"yes\",\"no\")\\n   8 - loan: has personal loan? (binary: \"yes\",\"no\")\\n   # related with the last contact of the current campaign:\\n   9 - contact: contact communication type (categorical: \"unknown\",\"telephone\",\"cellular\") \\n  10 - day: last contact day of the month (numeric)\\n  11 - month: last contact month of year (categorical: \"jan\", \"feb\", \"mar\", ..., \"nov\", \"dec\")\\n  12 - duration: last contact duration, in seconds (numeric)\\n   # other attributes:\\n  13 - campaign: number of contacts performed during this campaign and for this client (numeric, includes last contact)\\n  14 - pdays: number of days that passed by after the client was last contacted from a previous campaign (numeric, -1 means client was not previously contacted)\\n  15 - previous: number of contacts performed before this campaign and for this client (numeric)\\n  16 - poutcome: outcome of the previous marketing campaign (categorical: \"unknown\",\"other\",\"failure\",\"success\")\\n\\n  Output variable (desired target):\\n  17 - y - has the client subscribed a term deposit? (binary: \"yes\",\"no\")\\n',\n",
       "   'citation': None}},\n",
       " 'variables':            name     role         type      demographic  \\\n",
       " 0           age  Feature      Integer              Age   \n",
       " 1           job  Feature  Categorical       Occupation   \n",
       " 2       marital  Feature  Categorical   Marital Status   \n",
       " 3     education  Feature  Categorical  Education Level   \n",
       " 4       default  Feature       Binary             None   \n",
       " 5       balance  Feature      Integer             None   \n",
       " 6       housing  Feature       Binary             None   \n",
       " 7          loan  Feature       Binary             None   \n",
       " 8       contact  Feature  Categorical             None   \n",
       " 9   day_of_week  Feature         Date             None   \n",
       " 10        month  Feature         Date             None   \n",
       " 11     duration  Feature      Integer             None   \n",
       " 12     campaign  Feature      Integer             None   \n",
       " 13        pdays  Feature      Integer             None   \n",
       " 14     previous  Feature      Integer             None   \n",
       " 15     poutcome  Feature  Categorical             None   \n",
       " 16            y   Target       Binary             None   \n",
       " \n",
       "                                           description  units missing_values  \n",
       " 0                                                None   None             no  \n",
       " 1   type of job (categorical: 'admin.','blue-colla...   None             no  \n",
       " 2   marital status (categorical: 'divorced','marri...   None             no  \n",
       " 3   (categorical: 'basic.4y','basic.6y','basic.9y'...   None             no  \n",
       " 4                              has credit in default?   None             no  \n",
       " 5                              average yearly balance  euros             no  \n",
       " 6                                   has housing loan?   None             no  \n",
       " 7                                  has personal loan?   None             no  \n",
       " 8   contact communication type (categorical: 'cell...   None            yes  \n",
       " 9                        last contact day of the week   None             no  \n",
       " 10  last contact month of year (categorical: 'jan'...   None             no  \n",
       " 11   last contact duration, in seconds (numeric). ...   None             no  \n",
       " 12  number of contacts performed during this campa...   None             no  \n",
       " 13  number of days that passed by after the client...   None            yes  \n",
       " 14  number of contacts performed before this campa...   None             no  \n",
       " 15  outcome of the previous marketing campaign (ca...   None            yes  \n",
       " 16          has the client subscribed a term deposit?   None             no  }"
      ]
     },
     "execution_count": 5,
     "metadata": {},
     "output_type": "execute_result"
    }
   ],
   "source": [
    "bank_marketing"
   ]
  },
  {
   "cell_type": "markdown",
   "id": "c215d857-39b5-41de-b486-4ecb6be4613f",
   "metadata": {},
   "source": [
    "# Check if the file already exists"
   ]
  },
  {
   "cell_type": "code",
   "execution_count": 6,
   "id": "2e5ee081-8049-490a-82e5-66e485d88e02",
   "metadata": {},
   "outputs": [],
   "source": [
    "import os\n",
    "if os.path.exists('bank_marketing_data.csv'):\n",
    "    data = bank_marketing['data']['original']\n",
    "    data.to_csv('bank_marketing_data.csv', index=False, mode='w')\n",
    "else:\n",
    "    data = bank_marketing['data']['original']\n",
    "    data.to_csv('bank_marketing_data.csv', index=False)"
   ]
  },
  {
   "cell_type": "markdown",
   "id": "02e1c44f-25b5-48e9-9cb8-0d817c1e381f",
   "metadata": {},
   "source": [
    "# Step 1: Preliminary Analysis"
   ]
  },
  {
   "cell_type": "code",
   "execution_count": 7,
   "id": "912d3fbb-43f7-4f10-92d9-49a8d01c8d1b",
   "metadata": {},
   "outputs": [],
   "source": [
    "df = pd.read_csv(r\"bank_marketing_data.csv\")"
   ]
  },
  {
   "cell_type": "code",
   "execution_count": 8,
   "id": "377860b8-a2c9-4761-af2c-5a5aaca2eed9",
   "metadata": {},
   "outputs": [
    {
     "data": {
      "text/html": [
       "<div>\n",
       "<style scoped>\n",
       "    .dataframe tbody tr th:only-of-type {\n",
       "        vertical-align: middle;\n",
       "    }\n",
       "\n",
       "    .dataframe tbody tr th {\n",
       "        vertical-align: top;\n",
       "    }\n",
       "\n",
       "    .dataframe thead th {\n",
       "        text-align: right;\n",
       "    }\n",
       "</style>\n",
       "<table border=\"1\" class=\"dataframe\">\n",
       "  <thead>\n",
       "    <tr style=\"text-align: right;\">\n",
       "      <th></th>\n",
       "      <th>age</th>\n",
       "      <th>job</th>\n",
       "      <th>marital</th>\n",
       "      <th>education</th>\n",
       "      <th>default</th>\n",
       "      <th>balance</th>\n",
       "      <th>housing</th>\n",
       "      <th>loan</th>\n",
       "      <th>contact</th>\n",
       "      <th>day_of_week</th>\n",
       "      <th>month</th>\n",
       "      <th>duration</th>\n",
       "      <th>campaign</th>\n",
       "      <th>pdays</th>\n",
       "      <th>previous</th>\n",
       "      <th>poutcome</th>\n",
       "      <th>y</th>\n",
       "    </tr>\n",
       "  </thead>\n",
       "  <tbody>\n",
       "    <tr>\n",
       "      <th>0</th>\n",
       "      <td>58</td>\n",
       "      <td>management</td>\n",
       "      <td>married</td>\n",
       "      <td>tertiary</td>\n",
       "      <td>no</td>\n",
       "      <td>2143</td>\n",
       "      <td>yes</td>\n",
       "      <td>no</td>\n",
       "      <td>NaN</td>\n",
       "      <td>5</td>\n",
       "      <td>may</td>\n",
       "      <td>261</td>\n",
       "      <td>1</td>\n",
       "      <td>-1</td>\n",
       "      <td>0</td>\n",
       "      <td>NaN</td>\n",
       "      <td>no</td>\n",
       "    </tr>\n",
       "    <tr>\n",
       "      <th>1</th>\n",
       "      <td>44</td>\n",
       "      <td>technician</td>\n",
       "      <td>single</td>\n",
       "      <td>secondary</td>\n",
       "      <td>no</td>\n",
       "      <td>29</td>\n",
       "      <td>yes</td>\n",
       "      <td>no</td>\n",
       "      <td>NaN</td>\n",
       "      <td>5</td>\n",
       "      <td>may</td>\n",
       "      <td>151</td>\n",
       "      <td>1</td>\n",
       "      <td>-1</td>\n",
       "      <td>0</td>\n",
       "      <td>NaN</td>\n",
       "      <td>no</td>\n",
       "    </tr>\n",
       "    <tr>\n",
       "      <th>2</th>\n",
       "      <td>33</td>\n",
       "      <td>entrepreneur</td>\n",
       "      <td>married</td>\n",
       "      <td>secondary</td>\n",
       "      <td>no</td>\n",
       "      <td>2</td>\n",
       "      <td>yes</td>\n",
       "      <td>yes</td>\n",
       "      <td>NaN</td>\n",
       "      <td>5</td>\n",
       "      <td>may</td>\n",
       "      <td>76</td>\n",
       "      <td>1</td>\n",
       "      <td>-1</td>\n",
       "      <td>0</td>\n",
       "      <td>NaN</td>\n",
       "      <td>no</td>\n",
       "    </tr>\n",
       "    <tr>\n",
       "      <th>3</th>\n",
       "      <td>47</td>\n",
       "      <td>blue-collar</td>\n",
       "      <td>married</td>\n",
       "      <td>NaN</td>\n",
       "      <td>no</td>\n",
       "      <td>1506</td>\n",
       "      <td>yes</td>\n",
       "      <td>no</td>\n",
       "      <td>NaN</td>\n",
       "      <td>5</td>\n",
       "      <td>may</td>\n",
       "      <td>92</td>\n",
       "      <td>1</td>\n",
       "      <td>-1</td>\n",
       "      <td>0</td>\n",
       "      <td>NaN</td>\n",
       "      <td>no</td>\n",
       "    </tr>\n",
       "    <tr>\n",
       "      <th>4</th>\n",
       "      <td>33</td>\n",
       "      <td>NaN</td>\n",
       "      <td>single</td>\n",
       "      <td>NaN</td>\n",
       "      <td>no</td>\n",
       "      <td>1</td>\n",
       "      <td>no</td>\n",
       "      <td>no</td>\n",
       "      <td>NaN</td>\n",
       "      <td>5</td>\n",
       "      <td>may</td>\n",
       "      <td>198</td>\n",
       "      <td>1</td>\n",
       "      <td>-1</td>\n",
       "      <td>0</td>\n",
       "      <td>NaN</td>\n",
       "      <td>no</td>\n",
       "    </tr>\n",
       "  </tbody>\n",
       "</table>\n",
       "</div>"
      ],
      "text/plain": [
       "   age           job  marital  education default  balance housing loan  \\\n",
       "0   58    management  married   tertiary      no     2143     yes   no   \n",
       "1   44    technician   single  secondary      no       29     yes   no   \n",
       "2   33  entrepreneur  married  secondary      no        2     yes  yes   \n",
       "3   47   blue-collar  married        NaN      no     1506     yes   no   \n",
       "4   33           NaN   single        NaN      no        1      no   no   \n",
       "\n",
       "  contact  day_of_week month  duration  campaign  pdays  previous poutcome   y  \n",
       "0     NaN            5   may       261         1     -1         0      NaN  no  \n",
       "1     NaN            5   may       151         1     -1         0      NaN  no  \n",
       "2     NaN            5   may        76         1     -1         0      NaN  no  \n",
       "3     NaN            5   may        92         1     -1         0      NaN  no  \n",
       "4     NaN            5   may       198         1     -1         0      NaN  no  "
      ]
     },
     "execution_count": 8,
     "metadata": {},
     "output_type": "execute_result"
    }
   ],
   "source": [
    "df.head()"
   ]
  },
  {
   "cell_type": "markdown",
   "id": "dd617e0e-e0c1-4d1e-9b6a-58cf719a4a8a",
   "metadata": {},
   "source": [
    "## Number of independent and dependent variables:"
   ]
  },
  {
   "cell_type": "code",
   "execution_count": 9,
   "id": "54cd6a16-5611-49e6-8483-1eac02964a84",
   "metadata": {},
   "outputs": [
    {
     "name": "stdout",
     "output_type": "stream",
     "text": [
      "Number of independent variables: 16\n",
      "Number of dependent variables: 1\n"
     ]
    }
   ],
   "source": [
    "independent_vars = df.columns[:-1]\n",
    "dependent_var = df.columns[-1]\n",
    "print(\"Number of independent variables:\", len(independent_vars))\n",
    "print(\"Number of dependent variables:\", 1)"
   ]
  },
  {
   "cell_type": "markdown",
   "id": "a4651740-224b-4b57-b307-3bf40fa697b7",
   "metadata": {},
   "source": [
    "## Number of records:¶"
   ]
  },
  {
   "cell_type": "code",
   "execution_count": 10,
   "id": "1a343d6b-a6d8-47fc-9b6b-57798b5ef282",
   "metadata": {},
   "outputs": [
    {
     "name": "stdout",
     "output_type": "stream",
     "text": [
      "Number of records: 45211\n"
     ]
    }
   ],
   "source": [
    "print(\"Number of records:\", len(df))"
   ]
  },
  {
   "cell_type": "code",
   "execution_count": 11,
   "id": "367e71fd-7989-42d4-8f22-b7748336b954",
   "metadata": {},
   "outputs": [
    {
     "data": {
      "text/plain": [
       "(45211, 17)"
      ]
     },
     "execution_count": 11,
     "metadata": {},
     "output_type": "execute_result"
    }
   ],
   "source": [
    "df.shape"
   ]
  },
  {
   "cell_type": "markdown",
   "id": "6c56708f-de09-43b0-b6c9-416bfa1623f4",
   "metadata": {},
   "source": [
    "## Categorical Features"
   ]
  },
  {
   "cell_type": "code",
   "execution_count": 12,
   "id": "c0d8eca6-73a9-42fc-a912-0fa55424073f",
   "metadata": {},
   "outputs": [
    {
     "name": "stdout",
     "output_type": "stream",
     "text": [
      "['job', 'marital', 'education', 'default', 'housing', 'loan', 'contact', 'month', 'poutcome', 'y']\n",
      "Number of Categorical Features : 10\n"
     ]
    }
   ],
   "source": [
    "categorical_features=[feature for feature in df.columns if df[feature].dtypes=='O']\n",
    "print(categorical_features)\n",
    "print('Number of Categorical Features :', len(categorical_features))"
   ]
  },
  {
   "cell_type": "markdown",
   "id": "0fc8d793-4b14-47c0-8c0e-ddaba7f46f74",
   "metadata": {},
   "source": [
    "## Unique counts of categories in columns"
   ]
  },
  {
   "cell_type": "code",
   "execution_count": 13,
   "id": "13cee372-89b4-49b5-9095-30868b7b4bee",
   "metadata": {},
   "outputs": [
    {
     "name": "stdout",
     "output_type": "stream",
     "text": [
      "The feature is job and the number of categories are 12\n",
      "The feature is marital and the number of categories are 3\n",
      "The feature is education and the number of categories are 4\n",
      "The feature is default and the number of categories are 2\n",
      "The feature is housing and the number of categories are 2\n",
      "The feature is loan and the number of categories are 2\n",
      "The feature is contact and the number of categories are 3\n",
      "The feature is month and the number of categories are 12\n",
      "The feature is poutcome and the number of categories are 4\n",
      "The feature is y and the number of categories are 2\n"
     ]
    }
   ],
   "source": [
    "for feature in categorical_features:\n",
    "    print(\"The feature is {} and the number of categories are {}\".format(feature,len(df[feature].unique())))"
   ]
  },
  {
   "cell_type": "markdown",
   "id": "67c152b5-847b-44a5-9c95-36ef45d050e0",
   "metadata": {},
   "source": [
    "## Numerical Features"
   ]
  },
  {
   "cell_type": "code",
   "execution_count": 14,
   "id": "2ebe06d7-3973-4744-90c6-5a6b9f407eb6",
   "metadata": {},
   "outputs": [
    {
     "name": "stdout",
     "output_type": "stream",
     "text": [
      "['age', 'balance', 'day_of_week', 'duration', 'campaign', 'pdays', 'previous']\n",
      "Num of Numerical Features : 7\n"
     ]
    }
   ],
   "source": [
    "numerical_features = [feature for feature in df.columns if df[feature].dtype in ['int64', 'float64']]\n",
    "print(numerical_features)\n",
    "print('Num of Numerical Features :', len(numerical_features))"
   ]
  },
  {
   "cell_type": "code",
   "execution_count": 15,
   "id": "17e4161f-3f1c-4437-8e1a-6e85954c4c92",
   "metadata": {},
   "outputs": [
    {
     "name": "stdout",
     "output_type": "stream",
     "text": [
      "Number of numerical variable 7\n"
     ]
    },
    {
     "data": {
      "text/html": [
       "<div>\n",
       "<style scoped>\n",
       "    .dataframe tbody tr th:only-of-type {\n",
       "        vertical-align: middle;\n",
       "    }\n",
       "\n",
       "    .dataframe tbody tr th {\n",
       "        vertical-align: top;\n",
       "    }\n",
       "\n",
       "    .dataframe thead th {\n",
       "        text-align: right;\n",
       "    }\n",
       "</style>\n",
       "<table border=\"1\" class=\"dataframe\">\n",
       "  <thead>\n",
       "    <tr style=\"text-align: right;\">\n",
       "      <th></th>\n",
       "      <th>age</th>\n",
       "      <th>balance</th>\n",
       "      <th>day_of_week</th>\n",
       "      <th>duration</th>\n",
       "      <th>campaign</th>\n",
       "      <th>pdays</th>\n",
       "      <th>previous</th>\n",
       "    </tr>\n",
       "  </thead>\n",
       "  <tbody>\n",
       "    <tr>\n",
       "      <th>0</th>\n",
       "      <td>58</td>\n",
       "      <td>2143</td>\n",
       "      <td>5</td>\n",
       "      <td>261</td>\n",
       "      <td>1</td>\n",
       "      <td>-1</td>\n",
       "      <td>0</td>\n",
       "    </tr>\n",
       "    <tr>\n",
       "      <th>1</th>\n",
       "      <td>44</td>\n",
       "      <td>29</td>\n",
       "      <td>5</td>\n",
       "      <td>151</td>\n",
       "      <td>1</td>\n",
       "      <td>-1</td>\n",
       "      <td>0</td>\n",
       "    </tr>\n",
       "    <tr>\n",
       "      <th>2</th>\n",
       "      <td>33</td>\n",
       "      <td>2</td>\n",
       "      <td>5</td>\n",
       "      <td>76</td>\n",
       "      <td>1</td>\n",
       "      <td>-1</td>\n",
       "      <td>0</td>\n",
       "    </tr>\n",
       "    <tr>\n",
       "      <th>3</th>\n",
       "      <td>47</td>\n",
       "      <td>1506</td>\n",
       "      <td>5</td>\n",
       "      <td>92</td>\n",
       "      <td>1</td>\n",
       "      <td>-1</td>\n",
       "      <td>0</td>\n",
       "    </tr>\n",
       "    <tr>\n",
       "      <th>4</th>\n",
       "      <td>33</td>\n",
       "      <td>1</td>\n",
       "      <td>5</td>\n",
       "      <td>198</td>\n",
       "      <td>1</td>\n",
       "      <td>-1</td>\n",
       "      <td>0</td>\n",
       "    </tr>\n",
       "  </tbody>\n",
       "</table>\n",
       "</div>"
      ],
      "text/plain": [
       "   age  balance  day_of_week  duration  campaign  pdays  previous\n",
       "0   58     2143            5       261         1     -1         0\n",
       "1   44       29            5       151         1     -1         0\n",
       "2   33        2            5        76         1     -1         0\n",
       "3   47     1506            5        92         1     -1         0\n",
       "4   33        1            5       198         1     -1         0"
      ]
     },
     "execution_count": 15,
     "metadata": {},
     "output_type": "execute_result"
    }
   ],
   "source": [
    "numerical_features=[feature for feature in df.columns if df[feature].dtypes!='O']\n",
    "print(\"Number of numerical variable\",len(numerical_features))\n",
    "df[numerical_features].head()"
   ]
  },
  {
   "cell_type": "markdown",
   "id": "ef9aeedd-0986-4d57-95bf-dd1d7b353211",
   "metadata": {},
   "source": [
    "## Binary Features"
   ]
  },
  {
   "cell_type": "code",
   "execution_count": 16,
   "id": "7a6b588d-68d2-4b3f-a381-9223b21c5c43",
   "metadata": {},
   "outputs": [
    {
     "name": "stdout",
     "output_type": "stream",
     "text": [
      "default might be binary\n",
      "housing might be binary\n",
      "loan might be binary\n",
      "contact might be binary\n",
      "y might be binary\n"
     ]
    }
   ],
   "source": [
    "for col in df.columns:\n",
    "    if df[col].nunique() == 2:\n",
    "        print(f\"{col} might be binary\")"
   ]
  },
  {
   "cell_type": "markdown",
   "id": "c958e293-694f-4b60-ab7a-f18c61292cec",
   "metadata": {},
   "source": [
    "## Discrete Features"
   ]
  },
  {
   "cell_type": "code",
   "execution_count": 17,
   "id": "d6e26cc9-eec8-4b17-b7e0-46d9b366576f",
   "metadata": {},
   "outputs": [
    {
     "name": "stdout",
     "output_type": "stream",
     "text": [
      "We have 0 discrete features : []\n",
      "Number of Discrete Features : 0\n"
     ]
    }
   ],
   "source": [
    "discrete_features=[feature for feature in numerical_features if len(df[feature].unique())<=25]\n",
    "print('We have {} discrete features : {}'.format(len(discrete_features), discrete_features))\n",
    "print('Number of Discrete Features :',len(discrete_features))"
   ]
  },
  {
   "cell_type": "markdown",
   "id": "b2d5afaf-e57e-4e89-84ef-36b2d213171d",
   "metadata": {},
   "source": [
    "## Continous Features"
   ]
  },
  {
   "cell_type": "code",
   "execution_count": 18,
   "id": "d54c7161-793c-44ce-8bd1-0ff5d5a071ff",
   "metadata": {},
   "outputs": [
    {
     "name": "stdout",
     "output_type": "stream",
     "text": [
      "\n",
      "We have 7 continuous_features : ['age', 'balance', 'day_of_week', 'duration', 'campaign', 'pdays', 'previous']\n",
      "Number of Continuous Features : 7\n"
     ]
    }
   ],
   "source": [
    "continuous_features=[feature for feature in numerical_features if len(df[feature].unique()) > 25]\n",
    "print('\\nWe have {} continuous_features : {}'.format(len(continuous_features), continuous_features))\n",
    "print('Number of Continuous Features :',len(continuous_features))"
   ]
  },
  {
   "cell_type": "markdown",
   "id": "86af058e-330c-4c81-8ecf-d7e8e34f00f1",
   "metadata": {},
   "source": [
    "## Data types of variables:"
   ]
  },
  {
   "cell_type": "code",
   "execution_count": 19,
   "id": "31aa3346-4505-4cd3-9a43-5b66f697c09b",
   "metadata": {},
   "outputs": [
    {
     "name": "stdout",
     "output_type": "stream",
     "text": [
      "Data types of variables:\n",
      "<class 'pandas.core.frame.DataFrame'>\n",
      "RangeIndex: 45211 entries, 0 to 45210\n",
      "Data columns (total 17 columns):\n",
      " #   Column       Non-Null Count  Dtype \n",
      "---  ------       --------------  ----- \n",
      " 0   age          45211 non-null  int64 \n",
      " 1   job          44923 non-null  object\n",
      " 2   marital      45211 non-null  object\n",
      " 3   education    43354 non-null  object\n",
      " 4   default      45211 non-null  object\n",
      " 5   balance      45211 non-null  int64 \n",
      " 6   housing      45211 non-null  object\n",
      " 7   loan         45211 non-null  object\n",
      " 8   contact      32191 non-null  object\n",
      " 9   day_of_week  45211 non-null  int64 \n",
      " 10  month        45211 non-null  object\n",
      " 11  duration     45211 non-null  int64 \n",
      " 12  campaign     45211 non-null  int64 \n",
      " 13  pdays        45211 non-null  int64 \n",
      " 14  previous     45211 non-null  int64 \n",
      " 15  poutcome     8252 non-null   object\n",
      " 16  y            45211 non-null  object\n",
      "dtypes: int64(7), object(10)\n",
      "memory usage: 5.9+ MB\n"
     ]
    }
   ],
   "source": [
    "print(\"Data types of variables:\")\n",
    "df.info()"
   ]
  },
  {
   "cell_type": "code",
   "execution_count": 20,
   "id": "b9244d99-62da-46ee-83d2-79092e3d49aa",
   "metadata": {},
   "outputs": [
    {
     "name": "stdout",
     "output_type": "stream",
     "text": [
      "job\n",
      "blue-collar      21.663736\n",
      "management       21.053803\n",
      "technician       16.911159\n",
      "admin.           11.510807\n",
      "services          9.246934\n",
      "retired           5.039735\n",
      "self-employed     3.514903\n",
      "entrepreneur      3.310108\n",
      "unemployed        2.900519\n",
      "housemaid         2.760279\n",
      "student           2.088017\n",
      "Name: proportion, dtype: float64\n",
      "---------------------------\n",
      "marital\n",
      "married     60.193316\n",
      "single      28.289576\n",
      "divorced    11.517109\n",
      "Name: proportion, dtype: float64\n",
      "---------------------------\n",
      "education\n",
      "secondary    53.517553\n",
      "tertiary     30.679983\n",
      "primary      15.802463\n",
      "Name: proportion, dtype: float64\n",
      "---------------------------\n",
      "default\n",
      "no     98.197341\n",
      "yes     1.802659\n",
      "Name: proportion, dtype: float64\n",
      "---------------------------\n",
      "housing\n",
      "yes    55.583818\n",
      "no     44.416182\n",
      "Name: proportion, dtype: float64\n",
      "---------------------------\n",
      "loan\n",
      "no     83.977351\n",
      "yes    16.022649\n",
      "Name: proportion, dtype: float64\n",
      "---------------------------\n",
      "contact\n",
      "cellular     90.972632\n",
      "telephone     9.027368\n",
      "Name: proportion, dtype: float64\n",
      "---------------------------\n",
      "month\n",
      "may    30.448342\n",
      "jul    15.250713\n",
      "aug    13.817434\n",
      "jun    11.813497\n",
      "nov     8.781049\n",
      "apr     6.485147\n",
      "feb     5.859194\n",
      "jan     3.103227\n",
      "oct     1.632346\n",
      "sep     1.280662\n",
      "mar     1.055053\n",
      "dec     0.473336\n",
      "Name: proportion, dtype: float64\n",
      "---------------------------\n",
      "poutcome\n",
      "failure    59.391663\n",
      "other      22.297625\n",
      "success    18.310713\n",
      "Name: proportion, dtype: float64\n",
      "---------------------------\n",
      "y\n",
      "no     88.30152\n",
      "yes    11.69848\n",
      "Name: proportion, dtype: float64\n",
      "---------------------------\n"
     ]
    }
   ],
   "source": [
    "# proportion of count data on categorical columns\n",
    "for col in categorical_features:\n",
    "    print(df[col].value_counts(normalize=True) * 100)\n",
    "    print('---------------------------')"
   ]
  },
  {
   "cell_type": "markdown",
   "id": "12d83b54-dfbf-43a7-90c4-bb2498ea9fa9",
   "metadata": {},
   "source": [
    "## Summary Statistics"
   ]
  },
  {
   "cell_type": "code",
   "execution_count": 21,
   "id": "22e2c96e-3554-403c-a1df-da4f27ff4e64",
   "metadata": {},
   "outputs": [
    {
     "data": {
      "text/html": [
       "<div>\n",
       "<style scoped>\n",
       "    .dataframe tbody tr th:only-of-type {\n",
       "        vertical-align: middle;\n",
       "    }\n",
       "\n",
       "    .dataframe tbody tr th {\n",
       "        vertical-align: top;\n",
       "    }\n",
       "\n",
       "    .dataframe thead th {\n",
       "        text-align: right;\n",
       "    }\n",
       "</style>\n",
       "<table border=\"1\" class=\"dataframe\">\n",
       "  <thead>\n",
       "    <tr style=\"text-align: right;\">\n",
       "      <th></th>\n",
       "      <th>age</th>\n",
       "      <th>balance</th>\n",
       "      <th>day_of_week</th>\n",
       "      <th>duration</th>\n",
       "      <th>campaign</th>\n",
       "      <th>pdays</th>\n",
       "      <th>previous</th>\n",
       "    </tr>\n",
       "  </thead>\n",
       "  <tbody>\n",
       "    <tr>\n",
       "      <th>count</th>\n",
       "      <td>45211.000000</td>\n",
       "      <td>45211.000000</td>\n",
       "      <td>45211.000000</td>\n",
       "      <td>45211.000000</td>\n",
       "      <td>45211.000000</td>\n",
       "      <td>45211.000000</td>\n",
       "      <td>45211.000000</td>\n",
       "    </tr>\n",
       "    <tr>\n",
       "      <th>mean</th>\n",
       "      <td>40.936210</td>\n",
       "      <td>1362.272058</td>\n",
       "      <td>15.806419</td>\n",
       "      <td>258.163080</td>\n",
       "      <td>2.763841</td>\n",
       "      <td>40.197828</td>\n",
       "      <td>0.580323</td>\n",
       "    </tr>\n",
       "    <tr>\n",
       "      <th>std</th>\n",
       "      <td>10.618762</td>\n",
       "      <td>3044.765829</td>\n",
       "      <td>8.322476</td>\n",
       "      <td>257.527812</td>\n",
       "      <td>3.098021</td>\n",
       "      <td>100.128746</td>\n",
       "      <td>2.303441</td>\n",
       "    </tr>\n",
       "    <tr>\n",
       "      <th>min</th>\n",
       "      <td>18.000000</td>\n",
       "      <td>-8019.000000</td>\n",
       "      <td>1.000000</td>\n",
       "      <td>0.000000</td>\n",
       "      <td>1.000000</td>\n",
       "      <td>-1.000000</td>\n",
       "      <td>0.000000</td>\n",
       "    </tr>\n",
       "    <tr>\n",
       "      <th>25%</th>\n",
       "      <td>33.000000</td>\n",
       "      <td>72.000000</td>\n",
       "      <td>8.000000</td>\n",
       "      <td>103.000000</td>\n",
       "      <td>1.000000</td>\n",
       "      <td>-1.000000</td>\n",
       "      <td>0.000000</td>\n",
       "    </tr>\n",
       "    <tr>\n",
       "      <th>50%</th>\n",
       "      <td>39.000000</td>\n",
       "      <td>448.000000</td>\n",
       "      <td>16.000000</td>\n",
       "      <td>180.000000</td>\n",
       "      <td>2.000000</td>\n",
       "      <td>-1.000000</td>\n",
       "      <td>0.000000</td>\n",
       "    </tr>\n",
       "    <tr>\n",
       "      <th>75%</th>\n",
       "      <td>48.000000</td>\n",
       "      <td>1428.000000</td>\n",
       "      <td>21.000000</td>\n",
       "      <td>319.000000</td>\n",
       "      <td>3.000000</td>\n",
       "      <td>-1.000000</td>\n",
       "      <td>0.000000</td>\n",
       "    </tr>\n",
       "    <tr>\n",
       "      <th>max</th>\n",
       "      <td>95.000000</td>\n",
       "      <td>102127.000000</td>\n",
       "      <td>31.000000</td>\n",
       "      <td>4918.000000</td>\n",
       "      <td>63.000000</td>\n",
       "      <td>871.000000</td>\n",
       "      <td>275.000000</td>\n",
       "    </tr>\n",
       "  </tbody>\n",
       "</table>\n",
       "</div>"
      ],
      "text/plain": [
       "                age        balance   day_of_week      duration      campaign  \\\n",
       "count  45211.000000   45211.000000  45211.000000  45211.000000  45211.000000   \n",
       "mean      40.936210    1362.272058     15.806419    258.163080      2.763841   \n",
       "std       10.618762    3044.765829      8.322476    257.527812      3.098021   \n",
       "min       18.000000   -8019.000000      1.000000      0.000000      1.000000   \n",
       "25%       33.000000      72.000000      8.000000    103.000000      1.000000   \n",
       "50%       39.000000     448.000000     16.000000    180.000000      2.000000   \n",
       "75%       48.000000    1428.000000     21.000000    319.000000      3.000000   \n",
       "max       95.000000  102127.000000     31.000000   4918.000000     63.000000   \n",
       "\n",
       "              pdays      previous  \n",
       "count  45211.000000  45211.000000  \n",
       "mean      40.197828      0.580323  \n",
       "std      100.128746      2.303441  \n",
       "min       -1.000000      0.000000  \n",
       "25%       -1.000000      0.000000  \n",
       "50%       -1.000000      0.000000  \n",
       "75%       -1.000000      0.000000  \n",
       "max      871.000000    275.000000  "
      ]
     },
     "execution_count": 21,
     "metadata": {},
     "output_type": "execute_result"
    }
   ],
   "source": [
    "df.describe()"
   ]
  },
  {
   "cell_type": "markdown",
   "id": "bca1606e-a869-412f-8d5f-68b7fa738da3",
   "metadata": {},
   "source": [
    "# Step 2: Data Cleaning"
   ]
  },
  {
   "cell_type": "markdown",
   "id": "c36e2bf9-4248-4497-93fe-e8fcc6f6418b",
   "metadata": {},
   "source": [
    "## Checking for Null Values"
   ]
  },
  {
   "cell_type": "code",
   "execution_count": 22,
   "id": "e1b12a55-61cf-438a-8a9e-50cdd81accb4",
   "metadata": {},
   "outputs": [
    {
     "data": {
      "text/plain": [
       "age                0\n",
       "job              288\n",
       "marital            0\n",
       "education       1857\n",
       "default            0\n",
       "balance            0\n",
       "housing            0\n",
       "loan               0\n",
       "contact        13020\n",
       "day_of_week        0\n",
       "month              0\n",
       "duration           0\n",
       "campaign           0\n",
       "pdays              0\n",
       "previous           0\n",
       "poutcome       36959\n",
       "y                  0\n",
       "dtype: int64"
      ]
     },
     "execution_count": 22,
     "metadata": {},
     "output_type": "execute_result"
    }
   ],
   "source": [
    "df.isnull().sum()"
   ]
  },
  {
   "cell_type": "markdown",
   "id": "441949b0-d766-4093-8dc0-f1533ad7c3c3",
   "metadata": {},
   "source": [
    "## Checking for unique values"
   ]
  },
  {
   "cell_type": "code",
   "execution_count": 23,
   "id": "b36af9ed-435f-437a-997f-f4a8c41ef1ed",
   "metadata": {},
   "outputs": [
    {
     "data": {
      "text/plain": [
       "age              77\n",
       "job              11\n",
       "marital           3\n",
       "education         3\n",
       "default           2\n",
       "balance        7168\n",
       "housing           2\n",
       "loan              2\n",
       "contact           2\n",
       "day_of_week      31\n",
       "month            12\n",
       "duration       1573\n",
       "campaign         48\n",
       "pdays           559\n",
       "previous         41\n",
       "poutcome          3\n",
       "y                 2\n",
       "dtype: int64"
      ]
     },
     "execution_count": 23,
     "metadata": {},
     "output_type": "execute_result"
    }
   ],
   "source": [
    "df.nunique()"
   ]
  },
  {
   "cell_type": "markdown",
   "id": "f5ee53f4-8bd5-4868-9b98-e21511107ce5",
   "metadata": {},
   "source": [
    "## All Features"
   ]
  },
  {
   "cell_type": "code",
   "execution_count": 24,
   "id": "165a3832-110c-4fa8-8930-8b0482bef753",
   "metadata": {},
   "outputs": [
    {
     "data": {
      "text/plain": [
       "Index(['age', 'job', 'marital', 'education', 'default', 'balance', 'housing',\n",
       "       'loan', 'contact', 'day_of_week', 'month', 'duration', 'campaign',\n",
       "       'pdays', 'previous', 'poutcome', 'y'],\n",
       "      dtype='object')"
      ]
     },
     "execution_count": 24,
     "metadata": {},
     "output_type": "execute_result"
    }
   ],
   "source": [
    "df.columns"
   ]
  },
  {
   "cell_type": "markdown",
   "id": "d81f7280-482e-4fb9-87a5-407ea1a023ad",
   "metadata": {},
   "source": [
    "## Checking for low variance:"
   ]
  },
  {
   "cell_type": "code",
   "execution_count": 25,
   "id": "e8e90a2a-c9fe-45af-958c-6eeeffd90160",
   "metadata": {},
   "outputs": [
    {
     "name": "stdout",
     "output_type": "stream",
     "text": [
      "Columns with low variance (possible candidates for removal): []\n"
     ]
    }
   ],
   "source": [
    "# Checking for columns with a single unique value\n",
    "low_variance_cols = [col for col in df.columns if df[col].nunique() <= 1]\n",
    "print(\"Columns with low variance (possible candidates for removal):\", low_variance_cols)"
   ]
  },
  {
   "cell_type": "markdown",
   "id": "1cae9a16-33ab-4c83-90fb-b24f79a8f52b",
   "metadata": {},
   "source": [
    "## Checking & handling for duplicates"
   ]
  },
  {
   "cell_type": "code",
   "execution_count": 26,
   "id": "4f9dc820-a52b-4181-bbfd-b928492e0dcd",
   "metadata": {},
   "outputs": [
    {
     "name": "stdout",
     "output_type": "stream",
     "text": [
      "No duplicates found.\n"
     ]
    }
   ],
   "source": [
    "# Checking for duplicates\n",
    "if df.duplicated().any():\n",
    "    print(\"Duplicates found:\", df.duplicated().sum())\n",
    "    df = df.drop_duplicates()\n",
    "    print(\"Duplicates have been removed.\")\n",
    "else:\n",
    "    print(\"No duplicates found.\")"
   ]
  },
  {
   "cell_type": "markdown",
   "id": "7e3bc48c-73f0-4802-ba20-ed36831d53c9",
   "metadata": {},
   "source": [
    "## Handling Missing Values"
   ]
  },
  {
   "cell_type": "code",
   "execution_count": 27,
   "id": "ac463d5d-9002-4ca2-8475-58e481b85e02",
   "metadata": {},
   "outputs": [
    {
     "name": "stdout",
     "output_type": "stream",
     "text": [
      "Missing values found in the following columns:\n",
      "job            288\n",
      "education     1857\n",
      "contact      13020\n",
      "poutcome     36959\n",
      "dtype: int64\n",
      "Missing values have been handled.\n"
     ]
    }
   ],
   "source": [
    "# Checking for missing values in all columns\n",
    "missing_data = df.isnull().sum()\n",
    "missing_data = missing_data[missing_data > 0]\n",
    "\n",
    "if not missing_data.empty:\n",
    "    print(\"Missing values found in the following columns:\")\n",
    "    print(missing_data)\n",
    "    # Handling missing values (example using median imputation for numerical columns)\n",
    "    for column in df.columns:\n",
    "        if df[column].dtype == np.number:\n",
    "            df[column].fillna(df[column].median(), inplace=True)\n",
    "        else:\n",
    "            df[column].fillna(df[column].mode()[0], inplace=True)  # For categorical data, using mode\n",
    "    print(\"Missing values have been handled.\")\n",
    "else:\n",
    "    print(\"No missing values found.\")"
   ]
  },
  {
   "cell_type": "markdown",
   "id": "242476d4-64dd-4602-ae30-60b52d81561b",
   "metadata": {},
   "source": [
    "## Copy of Original Data"
   ]
  },
  {
   "cell_type": "code",
   "execution_count": 28,
   "id": "f93224fe-343a-4596-9142-b8eaf32f3c55",
   "metadata": {},
   "outputs": [
    {
     "data": {
      "text/html": [
       "<div>\n",
       "<style scoped>\n",
       "    .dataframe tbody tr th:only-of-type {\n",
       "        vertical-align: middle;\n",
       "    }\n",
       "\n",
       "    .dataframe tbody tr th {\n",
       "        vertical-align: top;\n",
       "    }\n",
       "\n",
       "    .dataframe thead th {\n",
       "        text-align: right;\n",
       "    }\n",
       "</style>\n",
       "<table border=\"1\" class=\"dataframe\">\n",
       "  <thead>\n",
       "    <tr style=\"text-align: right;\">\n",
       "      <th></th>\n",
       "      <th>age</th>\n",
       "      <th>job</th>\n",
       "      <th>marital</th>\n",
       "      <th>education</th>\n",
       "      <th>default</th>\n",
       "      <th>balance</th>\n",
       "      <th>housing</th>\n",
       "      <th>loan</th>\n",
       "      <th>contact</th>\n",
       "      <th>day_of_week</th>\n",
       "      <th>month</th>\n",
       "      <th>duration</th>\n",
       "      <th>campaign</th>\n",
       "      <th>pdays</th>\n",
       "      <th>previous</th>\n",
       "      <th>poutcome</th>\n",
       "      <th>y</th>\n",
       "    </tr>\n",
       "  </thead>\n",
       "  <tbody>\n",
       "    <tr>\n",
       "      <th>0</th>\n",
       "      <td>58</td>\n",
       "      <td>management</td>\n",
       "      <td>married</td>\n",
       "      <td>tertiary</td>\n",
       "      <td>no</td>\n",
       "      <td>2143</td>\n",
       "      <td>yes</td>\n",
       "      <td>no</td>\n",
       "      <td>cellular</td>\n",
       "      <td>5</td>\n",
       "      <td>may</td>\n",
       "      <td>261</td>\n",
       "      <td>1</td>\n",
       "      <td>-1</td>\n",
       "      <td>0</td>\n",
       "      <td>failure</td>\n",
       "      <td>no</td>\n",
       "    </tr>\n",
       "    <tr>\n",
       "      <th>1</th>\n",
       "      <td>44</td>\n",
       "      <td>technician</td>\n",
       "      <td>single</td>\n",
       "      <td>secondary</td>\n",
       "      <td>no</td>\n",
       "      <td>29</td>\n",
       "      <td>yes</td>\n",
       "      <td>no</td>\n",
       "      <td>cellular</td>\n",
       "      <td>5</td>\n",
       "      <td>may</td>\n",
       "      <td>151</td>\n",
       "      <td>1</td>\n",
       "      <td>-1</td>\n",
       "      <td>0</td>\n",
       "      <td>failure</td>\n",
       "      <td>no</td>\n",
       "    </tr>\n",
       "    <tr>\n",
       "      <th>2</th>\n",
       "      <td>33</td>\n",
       "      <td>entrepreneur</td>\n",
       "      <td>married</td>\n",
       "      <td>secondary</td>\n",
       "      <td>no</td>\n",
       "      <td>2</td>\n",
       "      <td>yes</td>\n",
       "      <td>yes</td>\n",
       "      <td>cellular</td>\n",
       "      <td>5</td>\n",
       "      <td>may</td>\n",
       "      <td>76</td>\n",
       "      <td>1</td>\n",
       "      <td>-1</td>\n",
       "      <td>0</td>\n",
       "      <td>failure</td>\n",
       "      <td>no</td>\n",
       "    </tr>\n",
       "    <tr>\n",
       "      <th>3</th>\n",
       "      <td>47</td>\n",
       "      <td>blue-collar</td>\n",
       "      <td>married</td>\n",
       "      <td>secondary</td>\n",
       "      <td>no</td>\n",
       "      <td>1506</td>\n",
       "      <td>yes</td>\n",
       "      <td>no</td>\n",
       "      <td>cellular</td>\n",
       "      <td>5</td>\n",
       "      <td>may</td>\n",
       "      <td>92</td>\n",
       "      <td>1</td>\n",
       "      <td>-1</td>\n",
       "      <td>0</td>\n",
       "      <td>failure</td>\n",
       "      <td>no</td>\n",
       "    </tr>\n",
       "    <tr>\n",
       "      <th>4</th>\n",
       "      <td>33</td>\n",
       "      <td>blue-collar</td>\n",
       "      <td>single</td>\n",
       "      <td>secondary</td>\n",
       "      <td>no</td>\n",
       "      <td>1</td>\n",
       "      <td>no</td>\n",
       "      <td>no</td>\n",
       "      <td>cellular</td>\n",
       "      <td>5</td>\n",
       "      <td>may</td>\n",
       "      <td>198</td>\n",
       "      <td>1</td>\n",
       "      <td>-1</td>\n",
       "      <td>0</td>\n",
       "      <td>failure</td>\n",
       "      <td>no</td>\n",
       "    </tr>\n",
       "  </tbody>\n",
       "</table>\n",
       "</div>"
      ],
      "text/plain": [
       "   age           job  marital  education default  balance housing loan  \\\n",
       "0   58    management  married   tertiary      no     2143     yes   no   \n",
       "1   44    technician   single  secondary      no       29     yes   no   \n",
       "2   33  entrepreneur  married  secondary      no        2     yes  yes   \n",
       "3   47   blue-collar  married  secondary      no     1506     yes   no   \n",
       "4   33   blue-collar   single  secondary      no        1      no   no   \n",
       "\n",
       "    contact  day_of_week month  duration  campaign  pdays  previous poutcome  \\\n",
       "0  cellular            5   may       261         1     -1         0  failure   \n",
       "1  cellular            5   may       151         1     -1         0  failure   \n",
       "2  cellular            5   may        76         1     -1         0  failure   \n",
       "3  cellular            5   may        92         1     -1         0  failure   \n",
       "4  cellular            5   may       198         1     -1         0  failure   \n",
       "\n",
       "    y  \n",
       "0  no  \n",
       "1  no  \n",
       "2  no  \n",
       "3  no  \n",
       "4  no  "
      ]
     },
     "execution_count": 28,
     "metadata": {},
     "output_type": "execute_result"
    }
   ],
   "source": [
    "df1=df\n",
    "df1.head()"
   ]
  },
  {
   "cell_type": "markdown",
   "id": "0e0c4003-5824-419f-a8f7-64220ef3c5bf",
   "metadata": {},
   "source": [
    "## Detecting Outliers"
   ]
  },
  {
   "cell_type": "code",
   "execution_count": 29,
   "id": "0a112ea9-0150-44da-b5b4-cf030d8035a9",
   "metadata": {},
   "outputs": [
    {
     "data": {
      "image/png": "[encoded data removed]",
      "text/plain": [
       "<Figure size 2000x1000 with 10 Axes>"
      ]
     },
     "metadata": {},
     "output_type": "display_data"
    }
   ],
   "source": [
    "df1.plot(kind='box', subplots=True, layout=(2,5),figsize=(20,10),color='#7b3f00')\n",
    "plt.show()"
   ]
  },
  {
   "cell_type": "markdown",
   "id": "8c20cb15-409b-4506-af57-97922091e6f0",
   "metadata": {},
   "source": [
    "age, balance, duration, campaign, pdays and previous has outliers"
   ]
  },
  {
   "cell_type": "code",
   "execution_count": 30,
   "id": "88396512-6d20-429b-9b10-f1d356848806",
   "metadata": {},
   "outputs": [],
   "source": [
    "column = df1[['age','campaign','duration','balance','pdays','previous']]\n",
    "q1 = np.percentile(column, 25)\n",
    "q3 = np.percentile(column, 75)\n",
    "iqr = q3 - q1\n",
    "lower_bound = q1 - 1.5 * iqr\n",
    "upper_bound = q3 + 1.5 * iqr\n",
    "df1[['age','campaign','duration','balance','pdays','previous']] = column[(column > lower_bound) & (column < upper_bound)]"
   ]
  },
  {
   "cell_type": "markdown",
   "id": "9642a3e6-b1e6-4b13-b6d6-1d182597f1c3",
   "metadata": {},
   "source": [
    "# Step 3: Feature Engineering"
   ]
  },
  {
   "cell_type": "code",
   "execution_count": 31,
   "id": "dce33463-d9e1-4092-bc85-6dd9e96717e4",
   "metadata": {},
   "outputs": [
    {
     "data": {
      "text/plain": [
       "y\n",
       "no     39922\n",
       "yes     5289\n",
       "Name: y, dtype: int64"
      ]
     },
     "execution_count": 31,
     "metadata": {},
     "output_type": "execute_result"
    }
   ],
   "source": [
    "df1['y'].groupby(df1['y']).count()"
   ]
  },
  {
   "cell_type": "markdown",
   "id": "8371e8f5-f153-4da8-b3ad-968661683269",
   "metadata": {},
   "source": [
    "## Drop Unwanted Columns"
   ]
  },
  {
   "cell_type": "code",
   "execution_count": 32,
   "id": "346507af-7694-4452-bf09-2e2be4650e52",
   "metadata": {},
   "outputs": [],
   "source": [
    "df1.drop('default', inplace=True, axis=1)"
   ]
  },
  {
   "cell_type": "code",
   "execution_count": 33,
   "id": "d70a8754-de00-4a3c-a5f8-6639eef0297b",
   "metadata": {},
   "outputs": [
    {
     "data": {
      "text/html": [
       "<div>\n",
       "<style scoped>\n",
       "    .dataframe tbody tr th:only-of-type {\n",
       "        vertical-align: middle;\n",
       "    }\n",
       "\n",
       "    .dataframe tbody tr th {\n",
       "        vertical-align: top;\n",
       "    }\n",
       "\n",
       "    .dataframe thead th {\n",
       "        text-align: right;\n",
       "    }\n",
       "</style>\n",
       "<table border=\"1\" class=\"dataframe\">\n",
       "  <thead>\n",
       "    <tr style=\"text-align: right;\">\n",
       "      <th></th>\n",
       "      <th>age</th>\n",
       "      <th>job</th>\n",
       "      <th>marital</th>\n",
       "      <th>education</th>\n",
       "      <th>balance</th>\n",
       "      <th>housing</th>\n",
       "      <th>loan</th>\n",
       "      <th>contact</th>\n",
       "      <th>day_of_week</th>\n",
       "      <th>month</th>\n",
       "      <th>duration</th>\n",
       "      <th>campaign</th>\n",
       "      <th>pdays</th>\n",
       "      <th>previous</th>\n",
       "      <th>poutcome</th>\n",
       "      <th>y</th>\n",
       "    </tr>\n",
       "  </thead>\n",
       "  <tbody>\n",
       "    <tr>\n",
       "      <th>0</th>\n",
       "      <td>58</td>\n",
       "      <td>management</td>\n",
       "      <td>married</td>\n",
       "      <td>tertiary</td>\n",
       "      <td>NaN</td>\n",
       "      <td>yes</td>\n",
       "      <td>no</td>\n",
       "      <td>cellular</td>\n",
       "      <td>5</td>\n",
       "      <td>may</td>\n",
       "      <td>261.0</td>\n",
       "      <td>1</td>\n",
       "      <td>-1.0</td>\n",
       "      <td>0</td>\n",
       "      <td>failure</td>\n",
       "      <td>no</td>\n",
       "    </tr>\n",
       "    <tr>\n",
       "      <th>1</th>\n",
       "      <td>44</td>\n",
       "      <td>technician</td>\n",
       "      <td>single</td>\n",
       "      <td>secondary</td>\n",
       "      <td>29.0</td>\n",
       "      <td>yes</td>\n",
       "      <td>no</td>\n",
       "      <td>cellular</td>\n",
       "      <td>5</td>\n",
       "      <td>may</td>\n",
       "      <td>151.0</td>\n",
       "      <td>1</td>\n",
       "      <td>-1.0</td>\n",
       "      <td>0</td>\n",
       "      <td>failure</td>\n",
       "      <td>no</td>\n",
       "    </tr>\n",
       "    <tr>\n",
       "      <th>2</th>\n",
       "      <td>33</td>\n",
       "      <td>entrepreneur</td>\n",
       "      <td>married</td>\n",
       "      <td>secondary</td>\n",
       "      <td>2.0</td>\n",
       "      <td>yes</td>\n",
       "      <td>yes</td>\n",
       "      <td>cellular</td>\n",
       "      <td>5</td>\n",
       "      <td>may</td>\n",
       "      <td>76.0</td>\n",
       "      <td>1</td>\n",
       "      <td>-1.0</td>\n",
       "      <td>0</td>\n",
       "      <td>failure</td>\n",
       "      <td>no</td>\n",
       "    </tr>\n",
       "    <tr>\n",
       "      <th>3</th>\n",
       "      <td>47</td>\n",
       "      <td>blue-collar</td>\n",
       "      <td>married</td>\n",
       "      <td>secondary</td>\n",
       "      <td>NaN</td>\n",
       "      <td>yes</td>\n",
       "      <td>no</td>\n",
       "      <td>cellular</td>\n",
       "      <td>5</td>\n",
       "      <td>may</td>\n",
       "      <td>92.0</td>\n",
       "      <td>1</td>\n",
       "      <td>-1.0</td>\n",
       "      <td>0</td>\n",
       "      <td>failure</td>\n",
       "      <td>no</td>\n",
       "    </tr>\n",
       "    <tr>\n",
       "      <th>4</th>\n",
       "      <td>33</td>\n",
       "      <td>blue-collar</td>\n",
       "      <td>single</td>\n",
       "      <td>secondary</td>\n",
       "      <td>1.0</td>\n",
       "      <td>no</td>\n",
       "      <td>no</td>\n",
       "      <td>cellular</td>\n",
       "      <td>5</td>\n",
       "      <td>may</td>\n",
       "      <td>198.0</td>\n",
       "      <td>1</td>\n",
       "      <td>-1.0</td>\n",
       "      <td>0</td>\n",
       "      <td>failure</td>\n",
       "      <td>no</td>\n",
       "    </tr>\n",
       "  </tbody>\n",
       "</table>\n",
       "</div>"
      ],
      "text/plain": [
       "   age           job  marital  education  balance housing loan   contact  \\\n",
       "0   58    management  married   tertiary      NaN     yes   no  cellular   \n",
       "1   44    technician   single  secondary     29.0     yes   no  cellular   \n",
       "2   33  entrepreneur  married  secondary      2.0     yes  yes  cellular   \n",
       "3   47   blue-collar  married  secondary      NaN     yes   no  cellular   \n",
       "4   33   blue-collar   single  secondary      1.0      no   no  cellular   \n",
       "\n",
       "   day_of_week month  duration  campaign  pdays  previous poutcome   y  \n",
       "0            5   may     261.0         1   -1.0         0  failure  no  \n",
       "1            5   may     151.0         1   -1.0         0  failure  no  \n",
       "2            5   may      76.0         1   -1.0         0  failure  no  \n",
       "3            5   may      92.0         1   -1.0         0  failure  no  \n",
       "4            5   may     198.0         1   -1.0         0  failure  no  "
      ]
     },
     "execution_count": 33,
     "metadata": {},
     "output_type": "execute_result"
    }
   ],
   "source": [
    "df1.head()"
   ]
  },
  {
   "cell_type": "markdown",
   "id": "bfe99016-0595-4744-ac7b-b1decafdc5dc",
   "metadata": {},
   "source": [
    "# Step 4: Train & Test Split"
   ]
  },
  {
   "cell_type": "code",
   "execution_count": 34,
   "id": "c1bd08d3-f843-4762-a81b-0e3528fa94be",
   "metadata": {},
   "outputs": [],
   "source": [
    "X = df1.drop('y', axis=1)\n",
    "y = df1['y']"
   ]
  },
  {
   "cell_type": "markdown",
   "id": "000ecc6e-870a-4314-a019-7d5d5273a790",
   "metadata": {},
   "source": [
    "**Manual encoding target column**"
   ]
  },
  {
   "cell_type": "code",
   "execution_count": 35,
   "id": "38b9a98d-cd87-410c-91d5-6f1bd5c59223",
   "metadata": {},
   "outputs": [],
   "source": [
    "# If the target column has Denied it is encoded as 1 others as 0\n",
    "y= np.where(y=='no', 1,0)"
   ]
  },
  {
   "cell_type": "markdown",
   "id": "d9132abe-5841-424c-bb8f-ae6bb11ce9dd",
   "metadata": {},
   "source": [
    "## **Feature Encoding and Scaling**"
   ]
  },
  {
   "cell_type": "code",
   "execution_count": 36,
   "id": "e8417623-f506-4ff6-b4a1-ac7614c509d6",
   "metadata": {},
   "outputs": [],
   "source": [
    "num_features = list(X.select_dtypes(exclude=\"object\").columns)"
   ]
  },
  {
   "cell_type": "code",
   "execution_count": 37,
   "id": "738f53c7-26cf-48e7-9abc-d0d918277c3a",
   "metadata": {},
   "outputs": [
    {
     "data": {
      "text/plain": [
       "['age', 'balance', 'day_of_week', 'duration', 'campaign', 'pdays', 'previous']"
      ]
     },
     "execution_count": 37,
     "metadata": {},
     "output_type": "execute_result"
    }
   ],
   "source": [
    "num_features"
   ]
  },
  {
   "cell_type": "code",
   "execution_count": 38,
   "id": "ab0b497d-13c4-4ff7-8422-b427573fbc1c",
   "metadata": {},
   "outputs": [
    {
     "data": {
      "text/plain": [
       "['job',\n",
       " 'marital',\n",
       " 'education',\n",
       " 'housing',\n",
       " 'loan',\n",
       " 'contact',\n",
       " 'month',\n",
       " 'poutcome']"
      ]
     },
     "execution_count": 38,
     "metadata": {},
     "output_type": "execute_result"
    }
   ],
   "source": [
    "cat_features = list(X.select_dtypes(include=\"object\").columns)\n",
    "cat_features"
   ]
  },
  {
   "cell_type": "markdown",
   "id": "1d1b1776-c3f5-4330-8952-1f7fe821bc13",
   "metadata": {},
   "source": [
    "### **Preprocessing using Column Transformer**"
   ]
  },
  {
   "cell_type": "code",
   "execution_count": 39,
   "id": "74a86491-d209-4646-b6e6-d47ef2eaf64b",
   "metadata": {},
   "outputs": [
    {
     "data": {
      "text/plain": [
       "(45211, 16)"
      ]
     },
     "execution_count": 39,
     "metadata": {},
     "output_type": "execute_result"
    }
   ],
   "source": [
    "df1.shape"
   ]
  },
  {
   "cell_type": "code",
   "execution_count": 40,
   "id": "97011edc-aa63-4625-93d6-25f1c5a296b6",
   "metadata": {},
   "outputs": [],
   "source": [
    "# Create Column Transformer with 3 types of transformers\n",
    "or_columns = ['housing','loan','poutcome']\n",
    "oh_columns = ['job','month','marital','education','contact']\n",
    "transform_columns= ['day_of_week']"
   ]
  },
  {
   "cell_type": "code",
   "execution_count": 41,
   "id": "7fd85395-73c9-468b-be50-c6e4d19907d0",
   "metadata": {},
   "outputs": [],
   "source": [
    "from sklearn.preprocessing import OneHotEncoder, StandardScaler,OrdinalEncoder, PowerTransformer\n",
    "from sklearn.compose import ColumnTransformer \n",
    "from sklearn.pipeline import Pipeline"
   ]
  },
  {
   "cell_type": "code",
   "execution_count": 42,
   "id": "a73416e8-d713-44fa-8f57-303cc75456bd",
   "metadata": {},
   "outputs": [],
   "source": [
    "numeric_transformer = StandardScaler()\n",
    "oh_transformer = OneHotEncoder()\n",
    "ordinal_encoder = OrdinalEncoder()"
   ]
  },
  {
   "cell_type": "code",
   "execution_count": 43,
   "id": "683d6508-a95c-41d0-8a37-6d48cd7963f6",
   "metadata": {},
   "outputs": [],
   "source": [
    "transform_pipe = Pipeline(steps=[\n",
    "    ('transformer', PowerTransformer(method='yeo-johnson'))\n",
    "])"
   ]
  },
  {
   "cell_type": "code",
   "execution_count": 44,
   "id": "fa852c31-7e18-49a3-9c07-1f78e9d5ae68",
   "metadata": {},
   "outputs": [],
   "source": [
    "preprocessor = ColumnTransformer(\n",
    "    [\n",
    "        (\"OneHotEncoder\", oh_transformer, oh_columns),\n",
    "        (\"Ordinal_Encoder\", ordinal_encoder, or_columns),\n",
    "        (\"Transformer\", transform_pipe, transform_columns),\n",
    "        (\"StandardScaler\", numeric_transformer, num_features)\n",
    "    ]\n",
    ")"
   ]
  },
  {
   "cell_type": "code",
   "execution_count": 45,
   "id": "5332d11e-9a6e-4851-8bbe-817f5fcef9b3",
   "metadata": {},
   "outputs": [],
   "source": [
    "X = preprocessor.fit_transform(X)"
   ]
  },
  {
   "cell_type": "markdown",
   "id": "d5abd7b1-50da-4a0d-bf91-b6ff98a628c1",
   "metadata": {},
   "source": [
    "### **Resampling**"
   ]
  },
  {
   "cell_type": "code",
   "execution_count": 46,
   "id": "e9744867-3692-4539-829e-a9c2e1f09973",
   "metadata": {},
   "outputs": [
    {
     "name": "stdout",
     "output_type": "stream",
     "text": [
      "Requirement already satisfied: imbalanced-learn in c:\\users\\sana jalgaonkar\\appdata\\local\\programs\\python\\python312\\lib\\site-packages (0.12.2)\n",
      "Requirement already satisfied: numpy>=1.17.3 in c:\\users\\sana jalgaonkar\\appdata\\local\\programs\\python\\python312\\lib\\site-packages (from imbalanced-learn) (1.26.4)\n",
      "Requirement already satisfied: scipy>=1.5.0 in c:\\users\\sana jalgaonkar\\appdata\\local\\programs\\python\\python312\\lib\\site-packages (from imbalanced-learn) (1.13.0)\n",
      "Requirement already satisfied: scikit-learn>=1.0.2 in c:\\users\\sana jalgaonkar\\appdata\\local\\programs\\python\\python312\\lib\\site-packages (from imbalanced-learn) (1.4.1.post1)\n",
      "Requirement already satisfied: joblib>=1.1.1 in c:\\users\\sana jalgaonkar\\appdata\\local\\programs\\python\\python312\\lib\\site-packages (from imbalanced-learn) (1.3.2)\n",
      "Requirement already satisfied: threadpoolctl>=2.0.0 in c:\\users\\sana jalgaonkar\\appdata\\local\\programs\\python\\python312\\lib\\site-packages (from imbalanced-learn) (3.4.0)\n",
      "Note: you may need to restart the kernel to use updated packages.\n"
     ]
    }
   ],
   "source": [
    "pip install imbalanced-learn"
   ]
  },
  {
   "cell_type": "code",
   "execution_count": 47,
   "id": "b8b1e233-443f-4968-85ff-47ef25b015f2",
   "metadata": {},
   "outputs": [],
   "source": [
    "# from imblearn.combine import SMOTETomek, SMOTEENN\n",
    "\n",
    "# # Resampling the minority class. The strategy can be changed as required.\n",
    "# smt = SMOTEENN(random_state=42,sampling_strategy='minority' )\n",
    "# # Fit the model to generate the data.\n",
    "# X_res, y_res = smt.fit_resample(X, y)"
   ]
  },
  {
   "cell_type": "code",
   "execution_count": 48,
   "id": "78fb833e-ae75-49c9-9b15-f714b9f2157b",
   "metadata": {},
   "outputs": [
    {
     "data": {
      "text/plain": [
       "((31647, 42), (13564, 42))"
      ]
     },
     "execution_count": 48,
     "metadata": {},
     "output_type": "execute_result"
    }
   ],
   "source": [
    "from sklearn.model_selection import  train_test_split\n",
    "# separate dataset into train and test\n",
    "X_train, X_test, y_train, y_test = train_test_split(X,y,test_size=0.3,random_state=42)\n",
    "X_train.shape, X_test.shape"
   ]
  },
  {
   "cell_type": "markdown",
   "id": "14b042ee-a020-4f55-8636-a59ff17733b4",
   "metadata": {},
   "source": [
    "## Print the number of records in the training and testing data"
   ]
  },
  {
   "cell_type": "code",
   "execution_count": 49,
   "id": "77254491-e85d-4bfb-8693-3bb14f737d63",
   "metadata": {},
   "outputs": [
    {
     "name": "stdout",
     "output_type": "stream",
     "text": [
      "Training records: 31647, Testing records: 13564\n"
     ]
    }
   ],
   "source": [
    "print(f\"Training records: {len(X_train)}, Testing records: {len(X_test)}\")"
   ]
  },
  {
   "cell_type": "markdown",
   "id": "80e9c705-ee39-4746-9d45-bf7b78198bda",
   "metadata": {},
   "source": [
    "## Save training data to CSV"
   ]
  },
  {
   "cell_type": "code",
   "execution_count": 50,
   "id": "921df432-fbc4-46dc-9b1e-86110152fca4",
   "metadata": {},
   "outputs": [
    {
     "name": "stdout",
     "output_type": "stream",
     "text": [
      "Training data has been saved to 'bank_training_data.csv'.\n"
     ]
    }
   ],
   "source": [
    "train_data = pd.concat([ pd.DataFrame(X_train),  pd.DataFrame(y_train)], axis=1)\n",
    "train_data.to_csv('bank_training_data.csv', index=False)\n",
    "print(\"Training data has been saved to 'bank_training_data.csv'.\")"
   ]
  },
  {
   "cell_type": "markdown",
   "id": "e272f94e-c37f-4c4e-b313-4a4ea8712ffa",
   "metadata": {},
   "source": [
    "## Save testing data to CSV"
   ]
  },
  {
   "cell_type": "code",
   "execution_count": 51,
   "id": "0d493fff-eb0a-496f-96aa-4c27890ad83c",
   "metadata": {},
   "outputs": [
    {
     "name": "stdout",
     "output_type": "stream",
     "text": [
      "Testing data has been saved to 'visa_testing_data.csv'.\n"
     ]
    }
   ],
   "source": [
    "test_data = pd.concat([pd.DataFrame(X_test), pd.DataFrame(y_test)], axis=1)\n",
    "test_data.to_csv('visa_testing_data.csv', index=False)\n",
    "print(\"Testing data has been saved to 'visa_testing_data.csv'.\")"
   ]
  },
  {
   "cell_type": "markdown",
   "id": "40a504bb-7baf-4f48-96c4-0ef92e057b2f",
   "metadata": {},
   "source": [
    "# Step 6: Logistic Regression using SkLearn"
   ]
  },
  {
   "cell_type": "code",
   "execution_count": 52,
   "id": "0cd964ed-c62e-4a17-963d-f4924ac7d03a",
   "metadata": {},
   "outputs": [],
   "source": [
    "from sklearn.linear_model import LogisticRegression"
   ]
  },
  {
   "cell_type": "code",
   "execution_count": 53,
   "id": "402ddfcd-2219-4d52-82fe-7698fe5ae24d",
   "metadata": {},
   "outputs": [],
   "source": [
    "from sklearn.metrics import accuracy_score, classification_report,ConfusionMatrixDisplay, \\\n",
    "                            precision_score, recall_score, f1_score, roc_auc_score,roc_curve "
   ]
  },
  {
   "cell_type": "code",
   "execution_count": 54,
   "id": "38489209-537f-4061-9343-3707c21eec76",
   "metadata": {},
   "outputs": [],
   "source": [
    "# Initializing the Logistic Regression model\n",
    "log_reg = LogisticRegression(max_iter=1000)"
   ]
  },
  {
   "cell_type": "code",
   "execution_count": 55,
   "id": "467e3537-badc-48a7-9921-58a187dcdc03",
   "metadata": {},
   "outputs": [],
   "source": [
    "from sklearn.impute import SimpleImputer\n",
    "# Create an imputer object that fills in missing values with the median of each column\n",
    "imputer = SimpleImputer(strategy='median')\n",
    "\n",
    "# Perform the imputation on your training and testing data\n",
    "X_train_imputed = imputer.fit_transform(X_train)\n",
    "X_test_imputed = imputer.transform(X_test)"
   ]
  },
  {
   "cell_type": "code",
   "execution_count": 56,
   "id": "d15bf5e9-5bb0-4f97-a520-a539d72c0825",
   "metadata": {},
   "outputs": [],
   "source": [
    "# Fit the model on the imputed training data\n",
    "lr_model = log_reg.fit(X_train_imputed, y_train)"
   ]
  },
  {
   "cell_type": "code",
   "execution_count": 57,
   "id": "33e33720-baee-48e6-afd1-390a302357c5",
   "metadata": {},
   "outputs": [],
   "source": [
    "# Make predictions on the imputed data\n",
    "y_train_pred = lr_model.predict(X_train_imputed)\n",
    "y_test_pred = lr_model.predict(X_test_imputed)"
   ]
  },
  {
   "cell_type": "code",
   "execution_count": 58,
   "id": "50163c3d-06ec-46aa-bb98-8311957ced3d",
   "metadata": {},
   "outputs": [],
   "source": [
    "def evaluate_clf(true, predicted):\n",
    "    acc = accuracy_score(true, predicted) # Calculate Accuracy\n",
    "    f1 = f1_score(true, predicted) # Calculate F1-score\n",
    "    precision = precision_score(true, predicted) # Calculate Precision\n",
    "    recall = recall_score(true, predicted)  # Calculate Recall\n",
    "    roc_auc = roc_auc_score(true, predicted) #Calculate Roc\n",
    "    return acc, f1 , precision, recall, roc_auc"
   ]
  },
  {
   "cell_type": "code",
   "execution_count": 59,
   "id": "8b35113a-2367-46dd-a5f4-3882bb8cf47f",
   "metadata": {},
   "outputs": [],
   "source": [
    "# Training set performance\n",
    "model_train_accuracy, model_train_f1,model_train_precision,\\\n",
    "        model_train_recall,model_train_rocauc_score=evaluate_clf(y_train ,y_train_pred)"
   ]
  },
  {
   "cell_type": "code",
   "execution_count": 60,
   "id": "df42cb36-ea5a-4519-864e-3cd83a7f52c0",
   "metadata": {},
   "outputs": [
    {
     "name": "stdout",
     "output_type": "stream",
     "text": [
      "Model performance for Training set\n",
      "- Accuracy: 0.8934\n",
      "- F1 score: 0.9424\n",
      "- Precision: 0.9008\n",
      "- Recall: 0.9882\n",
      "- Roc Auc Score: 0.5819\n"
     ]
    }
   ],
   "source": [
    "print('Model performance for Training set')\n",
    "print(\"- Accuracy: {:.4f}\".format(model_train_accuracy))\n",
    "print('- F1 score: {:.4f}'.format(model_train_f1)) \n",
    "print('- Precision: {:.4f}'.format(model_train_precision))\n",
    "print('- Recall: {:.4f}'.format(model_train_recall))\n",
    "print('- Roc Auc Score: {:.4f}'.format(model_train_rocauc_score))"
   ]
  },
  {
   "cell_type": "code",
   "execution_count": 61,
   "id": "e0a11cf0-a3eb-4b1b-aa43-2c94b5161c32",
   "metadata": {},
   "outputs": [],
   "source": [
    "# Test set performance\n",
    "model_test_accuracy,model_test_f1,model_test_precision,\\\n",
    "        model_test_recall,model_test_rocauc_score=evaluate_clf(y_test, y_test_pred)"
   ]
  },
  {
   "cell_type": "code",
   "execution_count": 62,
   "id": "f140c158-06cc-4fa4-b352-22f11999b251",
   "metadata": {},
   "outputs": [
    {
     "name": "stdout",
     "output_type": "stream",
     "text": [
      "Model performance for Test set\n",
      "- Accuracy: 0.8930\n",
      "- F1 score: 0.9422\n",
      "- Precision: 0.9001\n",
      "- Recall: 0.9885\n",
      "- Roc Auc Score: 0.5834\n"
     ]
    }
   ],
   "source": [
    "print('Model performance for Test set')\n",
    "print('- Accuracy: {:.4f}'.format(model_test_accuracy))\n",
    "print('- F1 score: {:.4f}'.format(model_test_f1))\n",
    "print('- Precision: {:.4f}'.format(model_test_precision))\n",
    "print('- Recall: {:.4f}'.format(model_test_recall))\n",
    "print('- Roc Auc Score: {:.4f}'.format(model_test_rocauc_score))"
   ]
  },
  {
   "cell_type": "markdown",
   "id": "02bee07f-f2e9-41b1-8be0-a6a4dc6557a7",
   "metadata": {},
   "source": [
    "# Step 7: Logistics Using StatsModel"
   ]
  },
  {
   "cell_type": "code",
   "execution_count": 63,
   "id": "39af55d1-efff-4366-ab93-1973f4a40bcc",
   "metadata": {},
   "outputs": [],
   "source": [
    "import statsmodels.api as sm"
   ]
  },
  {
   "cell_type": "code",
   "execution_count": 64,
   "id": "19555e17-9c80-49b9-911d-26a58e8a6834",
   "metadata": {},
   "outputs": [],
   "source": [
    "# Add intercept manually for Statsmodels which does not add it by default\n",
    "X_train_imputed = sm.add_constant(X_train_imputed)"
   ]
  },
  {
   "cell_type": "code",
   "execution_count": 65,
   "id": "9276a737-9ec8-4b55-94fb-b05ba6947f1f",
   "metadata": {},
   "outputs": [
    {
     "name": "stdout",
     "output_type": "stream",
     "text": [
      "Optimization terminated successfully.\n",
      "         Current function value: 0.303853\n",
      "         Iterations 7\n"
     ]
    }
   ],
   "source": [
    "# Initialize and fit the logistic regression model using Statsmodels\n",
    "lrstats = sm.Logit(y_train, X_train_imputed)\n",
    "lrstats_results = lrstats.fit()"
   ]
  },
  {
   "cell_type": "code",
   "execution_count": 66,
   "id": "5e04b278-4799-48e4-97da-9c6103d116d1",
   "metadata": {},
   "outputs": [
    {
     "name": "stdout",
     "output_type": "stream",
     "text": [
      "                           Logit Regression Results                           \n",
      "==============================================================================\n",
      "Dep. Variable:                      y   No. Observations:                31647\n",
      "Model:                          Logit   Df Residuals:                    31607\n",
      "Method:                           MLE   Df Model:                           39\n",
      "Date:                Thu, 09 May 2024   Pseudo R-squ.:                  0.1563\n",
      "Time:                        05:57:40   Log-Likelihood:                -9616.0\n",
      "converged:                       True   LL-Null:                       -11398.\n",
      "Covariance Type:            nonrobust   LLR p-value:                     0.000\n",
      "==============================================================================\n",
      "                 coef    std err          z      P>|z|      [0.025      0.975]\n",
      "------------------------------------------------------------------------------\n",
      "const          0.6404        nan        nan        nan         nan         nan\n",
      "x1             0.0380        nan        nan        nan         nan         nan\n",
      "x2             0.2159        nan        nan        nan         nan         nan\n",
      "x3             0.2234        nan        nan        nan         nan         nan\n",
      "x4             0.2613        nan        nan        nan         nan         nan\n",
      "x5             0.1151        nan        nan        nan         nan         nan\n",
      "x6            -0.3120        nan        nan        nan         nan         nan\n",
      "x7             0.1517        nan        nan        nan         nan         nan\n",
      "x8             0.1608        nan        nan        nan         nan         nan\n",
      "x9            -0.2544        nan        nan        nan         nan         nan\n",
      "x10            0.1745        nan        nan        nan         nan         nan\n",
      "x11           -0.1338        nan        nan        nan         nan         nan\n",
      "x12           -0.2561   1.06e+06  -2.41e-07      1.000   -2.09e+06    2.09e+06\n",
      "x13            0.5924   1.06e+06   5.61e-07      1.000   -2.07e+06    2.07e+06\n",
      "x14           -0.6513   1.05e+06  -6.22e-07      1.000   -2.05e+06    2.05e+06\n",
      "x15            0.2882   1.06e+06   2.72e-07      1.000   -2.08e+06    2.08e+06\n",
      "x16            0.9347   1.05e+06   8.91e-07      1.000   -2.06e+06    2.06e+06\n",
      "x17            0.4667   1.04e+06   4.49e-07      1.000   -2.04e+06    2.04e+06\n",
      "x18            0.5843   1.05e+06   5.54e-07      1.000   -2.07e+06    2.07e+06\n",
      "x19           -1.1900   1.06e+06  -1.13e-06      1.000   -2.07e+06    2.07e+06\n",
      "x20            0.7746   1.05e+06   7.38e-07      1.000   -2.06e+06    2.06e+06\n",
      "x21            0.5903   1.04e+06   5.67e-07      1.000   -2.04e+06    2.04e+06\n",
      "x22           -0.7808   1.05e+06  -7.41e-07      1.000   -2.06e+06    2.06e+06\n",
      "x23           -0.7126   1.04e+06  -6.83e-07      1.000   -2.05e+06    2.05e+06\n",
      "x24            0.2094   1.96e+06   1.07e-07      1.000   -3.84e+06    3.84e+06\n",
      "x25            0.3895   1.97e+06   1.98e-07      1.000   -3.85e+06    3.85e+06\n",
      "x26            0.0416   1.96e+06   2.12e-08      1.000   -3.84e+06    3.84e+06\n",
      "x27            0.4052   5.31e+05   7.63e-07      1.000   -1.04e+06    1.04e+06\n",
      "x28            0.2231   5.36e+05   4.16e-07      1.000   -1.05e+06    1.05e+06\n",
      "x29            0.0121    5.3e+05   2.28e-08      1.000   -1.04e+06    1.04e+06\n",
      "x30            0.3080   8.43e+05   3.65e-07      1.000   -1.65e+06    1.65e+06\n",
      "x31            0.3324   8.43e+05   3.94e-07      1.000   -1.65e+06    1.65e+06\n",
      "x32            0.6056      0.046     13.289      0.000       0.516       0.695\n",
      "x33            0.4507      0.063      7.123      0.000       0.327       0.575\n",
      "x34           -1.0745      0.039    -27.495      0.000      -1.151      -0.998\n",
      "x35           -0.1290      0.226     -0.571      0.568      -0.572       0.314\n",
      "x36           -0.0219      0.025     -0.893      0.372      -0.070       0.026\n",
      "x37           -0.0994      0.031     -3.245      0.001      -0.159      -0.039\n",
      "x38            0.1262      0.227      0.556      0.578      -0.319       0.571\n",
      "x39           -0.2652      0.022    -12.026      0.000      -0.308      -0.222\n",
      "x40            0.2293      0.032      7.250      0.000       0.167       0.291\n",
      "x41            0.0167      0.021      0.781      0.435      -0.025       0.058\n",
      "x42           -0.0107      0.014     -0.766      0.443      -0.038       0.017\n",
      "==============================================================================\n"
     ]
    }
   ],
   "source": [
    "print(lrstats_results.summary())"
   ]
  },
  {
   "cell_type": "code",
   "execution_count": 67,
   "id": "1415b912-7dee-4a2a-bcfe-7ef14439891d",
   "metadata": {},
   "outputs": [],
   "source": [
    "# # Make predictions\n",
    "# X_test= sm.add_constant(X_test)\n",
    "# y_train_pred = lrstats_results.predict(X_train)\n",
    "# y_test_pred = lrstats_results.predict(X_test)"
   ]
  },
  {
   "cell_type": "code",
   "execution_count": 68,
   "id": "8aa8edef-dc68-4f17-91da-5993f613786a",
   "metadata": {},
   "outputs": [],
   "source": [
    "# The prediction will be in terms of probabilities for the presence of the target class\n",
    "X_test_imputed= sm.add_constant(X_test_imputed)\n",
    "y_test_pred = lrstats_results.predict(X_test_imputed)\n",
    "predictions = np.where(y_test_pred < 0.5, 0, 1)  # Converting probabilities to binary outcomes"
   ]
  },
  {
   "cell_type": "code",
   "execution_count": 69,
   "id": "32c6a3fb-a751-44ee-98c2-e3fa7eb328ce",
   "metadata": {},
   "outputs": [
    {
     "name": "stdout",
     "output_type": "stream",
     "text": [
      "Logistic Regression using Statsmodel Accuracy: 0.892288410498378\n",
      "Classification Report of Logistic Regression using Statsmodel:\n",
      "               precision    recall  f1-score   support\n",
      "\n",
      "           0       0.66      0.18      0.28      1598\n",
      "           1       0.90      0.99      0.94     11966\n",
      "\n",
      "    accuracy                           0.89     13564\n",
      "   macro avg       0.78      0.58      0.61     13564\n",
      "weighted avg       0.87      0.89      0.86     13564\n",
      "\n"
     ]
    }
   ],
   "source": [
    "# Evaluating the model\n",
    "model_accuracy = accuracy_score(y_test, predictions)\n",
    "print(\"Logistic Regression using Statsmodel Accuracy:\", model_accuracy)\n",
    "print(\"Classification Report of Logistic Regression using Statsmodel:\\n\", classification_report(y_test, predictions))"
   ]
  },
  {
   "cell_type": "markdown",
   "id": "06751f20-871b-4353-8513-f1ad337cc90b",
   "metadata": {},
   "source": [
    "# Step 8: Random Forest Using SkLearn"
   ]
  },
  {
   "cell_type": "code",
   "execution_count": 70,
   "id": "f75dedcf-90ba-4db0-9b8f-0778727b776e",
   "metadata": {},
   "outputs": [],
   "source": [
    "from sklearn.ensemble import RandomForestClassifier"
   ]
  },
  {
   "cell_type": "code",
   "execution_count": 71,
   "id": "bc65ee13-3c59-4c6e-aca4-04006ef364c9",
   "metadata": {},
   "outputs": [],
   "source": [
    "rfc = RandomForestClassifier()"
   ]
  },
  {
   "cell_type": "code",
   "execution_count": 72,
   "id": "91d3cf09-f5fc-4045-ba3a-fb5489b2546c",
   "metadata": {},
   "outputs": [],
   "source": [
    "rfcmodel = rfc.fit(X_train, y_train)"
   ]
  },
  {
   "cell_type": "code",
   "execution_count": 73,
   "id": "d28e641b-95e8-4d03-9fd0-5070d93fce77",
   "metadata": {},
   "outputs": [],
   "source": [
    "# Make predictions\n",
    "y_train_pred = rfcmodel.predict(X_train)\n",
    "y_test_pred = rfcmodel.predict(X_test)"
   ]
  },
  {
   "cell_type": "code",
   "execution_count": 74,
   "id": "184a313a-7753-4c89-94b1-2d9adf7cb7fc",
   "metadata": {},
   "outputs": [],
   "source": [
    "# Training set performance\n",
    "rfcmodel_train_accuracy, rfcmodel_train_f1,rfcmodel_train_precision,\\\n",
    "        rfcmodel_train_recall,rfcmodel_train_rocauc_score=evaluate_clf(y_train ,y_train_pred)"
   ]
  },
  {
   "cell_type": "code",
   "execution_count": 75,
   "id": "5912b7c0-ecdf-46e4-9e8b-cdfb6e8b4df3",
   "metadata": {},
   "outputs": [
    {
     "name": "stdout",
     "output_type": "stream",
     "text": [
      "Model performance for Training set\n",
      "- Accuracy: 0.9997\n",
      "- F1 score: 0.9998\n",
      "- Precision: 0.9998\n",
      "- Recall: 0.9999\n",
      "- Roc Auc Score: 0.9991\n"
     ]
    }
   ],
   "source": [
    "print('Model performance for Training set')\n",
    "print(\"- Accuracy: {:.4f}\".format(rfcmodel_train_accuracy))\n",
    "print('- F1 score: {:.4f}'.format(rfcmodel_train_f1)) \n",
    "print('- Precision: {:.4f}'.format(rfcmodel_train_precision))\n",
    "print('- Recall: {:.4f}'.format(rfcmodel_train_recall))\n",
    "print('- Roc Auc Score: {:.4f}'.format(rfcmodel_train_rocauc_score))"
   ]
  },
  {
   "cell_type": "code",
   "execution_count": 76,
   "id": "ce5ee63a-dfa5-40c7-9fec-95ccdda74d64",
   "metadata": {},
   "outputs": [],
   "source": [
    "# Test set performance\n",
    "rfcmodel_test_accuracy,rfcmodel_test_f1,rfcmodel_test_precision,\\\n",
    "        rfcmodel_test_recall,rfcmodel_test_rocauc_score=evaluate_clf(y_test, y_test_pred)"
   ]
  },
  {
   "cell_type": "code",
   "execution_count": 77,
   "id": "08b175ab-7f51-4ecc-984c-494b1582447a",
   "metadata": {},
   "outputs": [
    {
     "name": "stdout",
     "output_type": "stream",
     "text": [
      "Model performance for Test set\n",
      "- Accuracy: 0.8969\n",
      "- F1 score: 0.9435\n",
      "- Precision: 0.9138\n",
      "- Recall: 0.9752\n",
      "- Roc Auc Score: 0.6431\n"
     ]
    }
   ],
   "source": [
    "print('Model performance for Test set')\n",
    "print('- Accuracy: {:.4f}'.format(rfcmodel_test_accuracy))\n",
    "print('- F1 score: {:.4f}'.format(rfcmodel_test_f1))\n",
    "print('- Precision: {:.4f}'.format(rfcmodel_test_precision))\n",
    "print('- Recall: {:.4f}'.format(rfcmodel_test_recall))\n",
    "print('- Roc Auc Score: {:.4f}'.format(rfcmodel_test_rocauc_score))"
   ]
  },
  {
   "cell_type": "code",
   "execution_count": 78,
   "id": "a4db360f-c0d0-4de6-b52f-6a503cd83603",
   "metadata": {},
   "outputs": [
    {
     "name": "stdout",
     "output_type": "stream",
     "text": [
      "Random Forests using sklearn Accuracy: 0.8969330580949573\n",
      "Classification Report of Random Forests using sklearn:\n",
      "               precision    recall  f1-score   support\n",
      "\n",
      "           0       0.63      0.31      0.42      1598\n",
      "           1       0.91      0.98      0.94     11966\n",
      "\n",
      "    accuracy                           0.90     13564\n",
      "   macro avg       0.77      0.64      0.68     13564\n",
      "weighted avg       0.88      0.90      0.88     13564\n",
      "\n"
     ]
    }
   ],
   "source": [
    "# Evaluating the model\n",
    "rfcaccuracy = accuracy_score(y_test, y_test_pred)\n",
    "print(\"Random Forests using sklearn Accuracy:\", rfcaccuracy)\n",
    "print(\"Classification Report of Random Forests using sklearn:\\n\", classification_report(y_test, y_test_pred))"
   ]
  },
  {
   "cell_type": "markdown",
   "id": "be926971-9c5b-4432-ba22-6c46ff5cc741",
   "metadata": {},
   "source": [
    "# Step 9: Random Forest Using XGBoost"
   ]
  },
  {
   "cell_type": "code",
   "execution_count": 79,
   "id": "cd9fa880-5de9-44d1-a8e5-b82e52b6f9b1",
   "metadata": {},
   "outputs": [],
   "source": [
    "from xgboost import XGBRFClassifier"
   ]
  },
  {
   "cell_type": "code",
   "execution_count": 80,
   "id": "7b9b38e4-cead-4923-81ae-beb37cd6e019",
   "metadata": {},
   "outputs": [],
   "source": [
    "# Initialize the XGBoost Random Forest Classifier\n",
    "xgbrf = XGBRFClassifier(n_estimators=100, use_label_encoder=False, eval_metric='logloss')"
   ]
  },
  {
   "cell_type": "code",
   "execution_count": 81,
   "id": "d240ba87-74a4-4bda-8af1-b9ed644b35f6",
   "metadata": {},
   "outputs": [],
   "source": [
    "# Fit the model\n",
    "model = xgbrf.fit(X_train, y_train)"
   ]
  },
  {
   "cell_type": "code",
   "execution_count": 82,
   "id": "f4441104-93c7-4d5b-bbdf-5904f0354a63",
   "metadata": {},
   "outputs": [],
   "source": [
    "# Predict on the training and test data\n",
    "prediction_train = model.predict(X_train)\n",
    "prediction_test = model.predict(X_test)"
   ]
  },
  {
   "cell_type": "code",
   "execution_count": 83,
   "id": "f97e3e01-08a9-4274-9105-72494b5379a8",
   "metadata": {},
   "outputs": [],
   "source": [
    "# Calculate accuracy on the training and test data\n",
    "accuracy_train = accuracy_score(y_train, prediction_train)\n",
    "accuracy_test = accuracy_score(y_test, prediction_test)"
   ]
  },
  {
   "cell_type": "code",
   "execution_count": 84,
   "id": "7f9e91d9-bb6c-4f68-b155-9a0c6bd83764",
   "metadata": {},
   "outputs": [
    {
     "name": "stdout",
     "output_type": "stream",
     "text": [
      "Accuracy on training data using XGBosst: 0.904\n",
      "Accuracy on test data using XGBoost: 0.898\n"
     ]
    }
   ],
   "source": [
    "# Output the accuracy\n",
    "print(\"Accuracy on training data using XGBosst: {:.3f}\".format(accuracy_train))\n",
    "print(\"Accuracy on test data using XGBoost: {:.3f}\".format(accuracy_test))"
   ]
  },
  {
   "cell_type": "code",
   "execution_count": 85,
   "id": "d91479bf-37cb-4971-a9bc-6de8d3e016cc",
   "metadata": {},
   "outputs": [
    {
     "name": "stdout",
     "output_type": "stream",
     "text": [
      "Random Forest Accuracy using XGBost: 0.8975228546151578\n",
      "Random Forest using XGBoost Classification Report:\n",
      "               precision    recall  f1-score   support\n",
      "\n",
      "           0       0.65      0.29      0.40      1598\n",
      "           1       0.91      0.98      0.94     11966\n",
      "\n",
      "    accuracy                           0.90     13564\n",
      "   macro avg       0.78      0.63      0.67     13564\n",
      "weighted avg       0.88      0.90      0.88     13564\n",
      "\n"
     ]
    }
   ],
   "source": [
    "# Evaluate Random Forest from XGBoost\n",
    "print(\"Random Forest Accuracy using XGBost:\", accuracy_test)\n",
    "print(\"Random Forest using XGBoost Classification Report:\\n\", classification_report(y_test, prediction_test))"
   ]
  },
  {
   "cell_type": "code",
   "execution_count": null,
   "id": "c3792ea9-9f8c-459a-a076-f68bf83afaee",
   "metadata": {},
   "outputs": [],
   "source": []
  }
 ],
 "metadata": {
  "kernelspec": {
   "display_name": "Python 3 (ipykernel)",
   "language": "python",
   "name": "python3"
  },
  "language_info": {
   "codemirror_mode": {
    "name": "ipython",
    "version": 3
   },
   "file_extension": ".py",
   "mimetype": "text/x-python",
   "name": "python",
   "nbconvert_exporter": "python",
   "pygments_lexer": "ipython3",
   "version": "3.12.2"
  }
 },
 "nbformat": 4,
 "nbformat_minor": 5
}
