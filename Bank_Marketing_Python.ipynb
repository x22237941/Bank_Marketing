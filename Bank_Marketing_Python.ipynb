{
 "cells": [
  {
   "cell_type": "markdown",
   "id": "f621c069-d290-4d19-ab0f-6a4d606ad676",
   "metadata": {},
   "source": [
    "# Bank Marketing"
   ]
  },
  {
   "cell_type": "markdown",
   "id": "24e0a054-8a82-4bbd-8514-a1f556c2465f",
   "metadata": {},
   "source": [
    "The data is related with direct marketing campaigns (phone calls) of a Portuguese banking institution. "
   ]
  },
  {
   "cell_type": "markdown",
   "id": "31ffbe6b-595f-4c3a-932e-769a679410e7",
   "metadata": {},
   "source": [
    "The classification goal is to predict if the client will subscribe (yes/no) a term deposit (variable y)."
   ]
  },
  {
   "cell_type": "markdown",
   "id": "7bb330fb-ba81-4007-b25a-52894fd2e847",
   "metadata": {},
   "source": [
    "# Importing required libraries"
   ]
  },
  {
   "cell_type": "code",
   "execution_count": 1,
   "id": "d2634a26-b9ed-45df-ac76-4d6a92c3f779",
   "metadata": {},
   "outputs": [],
   "source": [
    "import os\n",
    "import csv\n",
    "import json\n",
    "import numpy as np\n",
    "import pandas as pd\n",
    "from matplotlib import pyplot as plt\n",
    "import seaborn as sns\n",
    "\n",
    "# Ignoring warnings\n",
    "import warnings \n",
    "warnings.filterwarnings(action='ignore')"
   ]
  },
  {
   "cell_type": "markdown",
   "id": "c6f38ab9-aa84-447e-b1df-2cfde0c95429",
   "metadata": {},
   "source": [
    "# Extracting Data From UCI"
   ]
  },
  {
   "cell_type": "code",
   "execution_count": 2,
   "id": "ffbdd19a-992f-46c7-a398-fe74c0aed9a8",
   "metadata": {},
   "outputs": [
    {
     "name": "stdout",
     "output_type": "stream",
     "text": [
      "Requirement already satisfied: ucimlrepo in c:\\users\\sana jalgaonkar\\appdata\\local\\programs\\python\\python312\\lib\\site-packages (0.0.6)\n",
      "Note: you may need to restart the kernel to use updated packages.\n"
     ]
    }
   ],
   "source": [
    "pip install ucimlrepo"
   ]
  },
  {
   "cell_type": "code",
   "execution_count": 3,
   "id": "2296f31b-f0fa-40f1-89ab-5e64dc7bf250",
   "metadata": {},
   "outputs": [],
   "source": [
    "from ucimlrepo import fetch_ucirepo "
   ]
  },
  {
   "cell_type": "code",
   "execution_count": 4,
   "id": "29592b0f-c7a7-4bf2-aaf9-8013ca63cf87",
   "metadata": {},
   "outputs": [],
   "source": [
    "# Fetch dataset \n",
    "bank_marketing = fetch_ucirepo(id=222) "
   ]
  },
  {
   "cell_type": "code",
   "execution_count": 5,
   "id": "aee92360-a181-4804-8fdf-829536f32e81",
   "metadata": {},
   "outputs": [
    {
     "data": {
      "text/plain": [
       "{'data': {'ids': None,\n",
       "  'features':        age           job   marital  education default  balance housing loan  \\\n",
       "  0       58    management   married   tertiary      no     2143     yes   no   \n",
       "  1       44    technician    single  secondary      no       29     yes   no   \n",
       "  2       33  entrepreneur   married  secondary      no        2     yes  yes   \n",
       "  3       47   blue-collar   married        NaN      no     1506     yes   no   \n",
       "  4       33           NaN    single        NaN      no        1      no   no   \n",
       "  ...    ...           ...       ...        ...     ...      ...     ...  ...   \n",
       "  45206   51    technician   married   tertiary      no      825      no   no   \n",
       "  45207   71       retired  divorced    primary      no     1729      no   no   \n",
       "  45208   72       retired   married  secondary      no     5715      no   no   \n",
       "  45209   57   blue-collar   married  secondary      no      668      no   no   \n",
       "  45210   37  entrepreneur   married  secondary      no     2971      no   no   \n",
       "  \n",
       "           contact  day_of_week month  duration  campaign  pdays  previous  \\\n",
       "  0            NaN            5   may       261         1     -1         0   \n",
       "  1            NaN            5   may       151         1     -1         0   \n",
       "  2            NaN            5   may        76         1     -1         0   \n",
       "  3            NaN            5   may        92         1     -1         0   \n",
       "  4            NaN            5   may       198         1     -1         0   \n",
       "  ...          ...          ...   ...       ...       ...    ...       ...   \n",
       "  45206   cellular           17   nov       977         3     -1         0   \n",
       "  45207   cellular           17   nov       456         2     -1         0   \n",
       "  45208   cellular           17   nov      1127         5    184         3   \n",
       "  45209  telephone           17   nov       508         4     -1         0   \n",
       "  45210   cellular           17   nov       361         2    188        11   \n",
       "  \n",
       "        poutcome  \n",
       "  0          NaN  \n",
       "  1          NaN  \n",
       "  2          NaN  \n",
       "  3          NaN  \n",
       "  4          NaN  \n",
       "  ...        ...  \n",
       "  45206      NaN  \n",
       "  45207      NaN  \n",
       "  45208  success  \n",
       "  45209      NaN  \n",
       "  45210    other  \n",
       "  \n",
       "  [45211 rows x 16 columns],\n",
       "  'targets':          y\n",
       "  0       no\n",
       "  1       no\n",
       "  2       no\n",
       "  3       no\n",
       "  4       no\n",
       "  ...    ...\n",
       "  45206  yes\n",
       "  45207  yes\n",
       "  45208  yes\n",
       "  45209   no\n",
       "  45210   no\n",
       "  \n",
       "  [45211 rows x 1 columns],\n",
       "  'original':        age           job   marital  education default  balance housing loan  \\\n",
       "  0       58    management   married   tertiary      no     2143     yes   no   \n",
       "  1       44    technician    single  secondary      no       29     yes   no   \n",
       "  2       33  entrepreneur   married  secondary      no        2     yes  yes   \n",
       "  3       47   blue-collar   married        NaN      no     1506     yes   no   \n",
       "  4       33           NaN    single        NaN      no        1      no   no   \n",
       "  ...    ...           ...       ...        ...     ...      ...     ...  ...   \n",
       "  45206   51    technician   married   tertiary      no      825      no   no   \n",
       "  45207   71       retired  divorced    primary      no     1729      no   no   \n",
       "  45208   72       retired   married  secondary      no     5715      no   no   \n",
       "  45209   57   blue-collar   married  secondary      no      668      no   no   \n",
       "  45210   37  entrepreneur   married  secondary      no     2971      no   no   \n",
       "  \n",
       "           contact  day_of_week month  duration  campaign  pdays  previous  \\\n",
       "  0            NaN            5   may       261         1     -1         0   \n",
       "  1            NaN            5   may       151         1     -1         0   \n",
       "  2            NaN            5   may        76         1     -1         0   \n",
       "  3            NaN            5   may        92         1     -1         0   \n",
       "  4            NaN            5   may       198         1     -1         0   \n",
       "  ...          ...          ...   ...       ...       ...    ...       ...   \n",
       "  45206   cellular           17   nov       977         3     -1         0   \n",
       "  45207   cellular           17   nov       456         2     -1         0   \n",
       "  45208   cellular           17   nov      1127         5    184         3   \n",
       "  45209  telephone           17   nov       508         4     -1         0   \n",
       "  45210   cellular           17   nov       361         2    188        11   \n",
       "  \n",
       "        poutcome    y  \n",
       "  0          NaN   no  \n",
       "  1          NaN   no  \n",
       "  2          NaN   no  \n",
       "  3          NaN   no  \n",
       "  4          NaN   no  \n",
       "  ...        ...  ...  \n",
       "  45206      NaN  yes  \n",
       "  45207      NaN  yes  \n",
       "  45208  success  yes  \n",
       "  45209      NaN   no  \n",
       "  45210    other   no  \n",
       "  \n",
       "  [45211 rows x 17 columns],\n",
       "  'headers': Index(['age', 'job', 'marital', 'education', 'default', 'balance', 'housing',\n",
       "         'loan', 'contact', 'day_of_week', 'month', 'duration', 'campaign',\n",
       "         'pdays', 'previous', 'poutcome', 'y'],\n",
       "        dtype='object')},\n",
       " 'metadata': {'uci_id': 222,\n",
       "  'name': 'Bank Marketing',\n",
       "  'repository_url': 'https://archive.ics.uci.edu/dataset/222/bank+marketing',\n",
       "  'data_url': 'https://archive.ics.uci.edu/static/public/222/data.csv',\n",
       "  'abstract': 'The data is related with direct marketing campaigns (phone calls) of a Portuguese banking institution. The classification goal is to predict if the client will subscribe a term deposit (variable y).',\n",
       "  'area': 'Business',\n",
       "  'tasks': ['Classification'],\n",
       "  'characteristics': ['Multivariate'],\n",
       "  'num_instances': 45211,\n",
       "  'num_features': 16,\n",
       "  'feature_types': ['Categorical', 'Integer'],\n",
       "  'demographics': ['Age', 'Occupation', 'Marital Status', 'Education Level'],\n",
       "  'target_col': ['y'],\n",
       "  'index_col': None,\n",
       "  'has_missing_values': 'yes',\n",
       "  'missing_values_symbol': 'NaN',\n",
       "  'year_of_dataset_creation': 2014,\n",
       "  'last_updated': 'Fri Aug 18 2023',\n",
       "  'dataset_doi': '10.24432/C5K306',\n",
       "  'creators': ['S. Moro', 'P. Rita', 'P. Cortez'],\n",
       "  'intro_paper': {'title': 'A data-driven approach to predict the success of bank telemarketing',\n",
       "   'authors': 'Sérgio Moro, P. Cortez, P. Rita',\n",
       "   'published_in': 'Decision Support Systems',\n",
       "   'year': 2014,\n",
       "   'url': 'https://www.semanticscholar.org/paper/cab86052882d126d43f72108c6cb41b295cc8a9e',\n",
       "   'doi': '10.1016/j.dss.2014.03.001'},\n",
       "  'additional_info': {'summary': \"The data is related with direct marketing campaigns of a Portuguese banking institution. The marketing campaigns were based on phone calls. Often, more than one contact to the same client was required, in order to access if the product (bank term deposit) would be ('yes') or not ('no') subscribed. \\n\\nThere are four datasets: \\n1) bank-additional-full.csv with all examples (41188) and 20 inputs, ordered by date (from May 2008 to November 2010), very close to the data analyzed in [Moro et al., 2014]\\n2) bank-additional.csv with 10% of the examples (4119), randomly selected from 1), and 20 inputs.\\n3) bank-full.csv with all examples and 17 inputs, ordered by date (older version of this dataset with less inputs). \\n4) bank.csv with 10% of the examples and 17 inputs, randomly selected from 3 (older version of this dataset with less inputs). \\nThe smallest datasets are provided to test more computationally demanding machine learning algorithms (e.g., SVM). \\n\\nThe classification goal is to predict if the client will subscribe (yes/no) a term deposit (variable y).\",\n",
       "   'purpose': None,\n",
       "   'funded_by': None,\n",
       "   'instances_represent': None,\n",
       "   'recommended_data_splits': None,\n",
       "   'sensitive_data': None,\n",
       "   'preprocessing_description': None,\n",
       "   'variable_info': 'Input variables:\\n   # bank client data:\\n   1 - age (numeric)\\n   2 - job : type of job (categorical: \"admin.\",\"unknown\",\"unemployed\",\"management\",\"housemaid\",\"entrepreneur\",\"student\",\\n                                       \"blue-collar\",\"self-employed\",\"retired\",\"technician\",\"services\") \\n   3 - marital : marital status (categorical: \"married\",\"divorced\",\"single\"; note: \"divorced\" means divorced or widowed)\\n   4 - education (categorical: \"unknown\",\"secondary\",\"primary\",\"tertiary\")\\n   5 - default: has credit in default? (binary: \"yes\",\"no\")\\n   6 - balance: average yearly balance, in euros (numeric) \\n   7 - housing: has housing loan? (binary: \"yes\",\"no\")\\n   8 - loan: has personal loan? (binary: \"yes\",\"no\")\\n   # related with the last contact of the current campaign:\\n   9 - contact: contact communication type (categorical: \"unknown\",\"telephone\",\"cellular\") \\n  10 - day: last contact day of the month (numeric)\\n  11 - month: last contact month of year (categorical: \"jan\", \"feb\", \"mar\", ..., \"nov\", \"dec\")\\n  12 - duration: last contact duration, in seconds (numeric)\\n   # other attributes:\\n  13 - campaign: number of contacts performed during this campaign and for this client (numeric, includes last contact)\\n  14 - pdays: number of days that passed by after the client was last contacted from a previous campaign (numeric, -1 means client was not previously contacted)\\n  15 - previous: number of contacts performed before this campaign and for this client (numeric)\\n  16 - poutcome: outcome of the previous marketing campaign (categorical: \"unknown\",\"other\",\"failure\",\"success\")\\n\\n  Output variable (desired target):\\n  17 - y - has the client subscribed a term deposit? (binary: \"yes\",\"no\")\\n',\n",
       "   'citation': None}},\n",
       " 'variables':            name     role         type      demographic  \\\n",
       " 0           age  Feature      Integer              Age   \n",
       " 1           job  Feature  Categorical       Occupation   \n",
       " 2       marital  Feature  Categorical   Marital Status   \n",
       " 3     education  Feature  Categorical  Education Level   \n",
       " 4       default  Feature       Binary             None   \n",
       " 5       balance  Feature      Integer             None   \n",
       " 6       housing  Feature       Binary             None   \n",
       " 7          loan  Feature       Binary             None   \n",
       " 8       contact  Feature  Categorical             None   \n",
       " 9   day_of_week  Feature         Date             None   \n",
       " 10        month  Feature         Date             None   \n",
       " 11     duration  Feature      Integer             None   \n",
       " 12     campaign  Feature      Integer             None   \n",
       " 13        pdays  Feature      Integer             None   \n",
       " 14     previous  Feature      Integer             None   \n",
       " 15     poutcome  Feature  Categorical             None   \n",
       " 16            y   Target       Binary             None   \n",
       " \n",
       "                                           description  units missing_values  \n",
       " 0                                                None   None             no  \n",
       " 1   type of job (categorical: 'admin.','blue-colla...   None             no  \n",
       " 2   marital status (categorical: 'divorced','marri...   None             no  \n",
       " 3   (categorical: 'basic.4y','basic.6y','basic.9y'...   None             no  \n",
       " 4                              has credit in default?   None             no  \n",
       " 5                              average yearly balance  euros             no  \n",
       " 6                                   has housing loan?   None             no  \n",
       " 7                                  has personal loan?   None             no  \n",
       " 8   contact communication type (categorical: 'cell...   None            yes  \n",
       " 9                        last contact day of the week   None             no  \n",
       " 10  last contact month of year (categorical: 'jan'...   None             no  \n",
       " 11   last contact duration, in seconds (numeric). ...   None             no  \n",
       " 12  number of contacts performed during this campa...   None             no  \n",
       " 13  number of days that passed by after the client...   None            yes  \n",
       " 14  number of contacts performed before this campa...   None             no  \n",
       " 15  outcome of the previous marketing campaign (ca...   None            yes  \n",
       " 16          has the client subscribed a term deposit?   None             no  }"
      ]
     },
     "execution_count": 5,
     "metadata": {},
     "output_type": "execute_result"
    }
   ],
   "source": [
    "bank_marketing"
   ]
  },
  {
   "cell_type": "markdown",
   "id": "d6ee403c-0842-4dc5-b034-0d30a8e941b5",
   "metadata": {},
   "source": [
    "# Check if the file already exists"
   ]
  },
  {
   "cell_type": "code",
   "execution_count": 7,
   "id": "5938fabe-f68f-4b8a-b7ce-140afc7fd746",
   "metadata": {},
   "outputs": [],
   "source": [
    "if os.path.exists('bank_marketing_data.csv'):\n",
    "    data = bank_marketing['data']['original']\n",
    "    data.to_csv('bank_marketing_data.csv', index=False, mode='w')\n",
    "else:\n",
    "    data = bank_marketing['data']['original']\n",
    "    data.to_csv('bank_marketing_data.csv', index=False)"
   ]
  },
  {
   "cell_type": "markdown",
   "id": "59aadd1d-29f6-4a19-bbea-e5a9835dd3a8",
   "metadata": {},
   "source": [
    "# Preliminary Analysis"
   ]
  },
  {
   "cell_type": "code",
   "execution_count": 8,
   "id": "de120bc2-7932-4d9e-9fe1-608099289c54",
   "metadata": {},
   "outputs": [],
   "source": [
    "df = pd.read_csv('bank_marketing_data.csv')"
   ]
  },
  {
   "cell_type": "code",
   "execution_count": 9,
   "id": "92dd6750-3503-490c-b5a0-62fc6c9a2d91",
   "metadata": {},
   "outputs": [
    {
     "data": {
      "text/html": [
       "<div>\n",
       "<style scoped>\n",
       "    .dataframe tbody tr th:only-of-type {\n",
       "        vertical-align: middle;\n",
       "    }\n",
       "\n",
       "    .dataframe tbody tr th {\n",
       "        vertical-align: top;\n",
       "    }\n",
       "\n",
       "    .dataframe thead th {\n",
       "        text-align: right;\n",
       "    }\n",
       "</style>\n",
       "<table border=\"1\" class=\"dataframe\">\n",
       "  <thead>\n",
       "    <tr style=\"text-align: right;\">\n",
       "      <th></th>\n",
       "      <th>age</th>\n",
       "      <th>job</th>\n",
       "      <th>marital</th>\n",
       "      <th>education</th>\n",
       "      <th>default</th>\n",
       "      <th>balance</th>\n",
       "      <th>housing</th>\n",
       "      <th>loan</th>\n",
       "      <th>contact</th>\n",
       "      <th>day_of_week</th>\n",
       "      <th>month</th>\n",
       "      <th>duration</th>\n",
       "      <th>campaign</th>\n",
       "      <th>pdays</th>\n",
       "      <th>previous</th>\n",
       "      <th>poutcome</th>\n",
       "      <th>y</th>\n",
       "    </tr>\n",
       "  </thead>\n",
       "  <tbody>\n",
       "    <tr>\n",
       "      <th>0</th>\n",
       "      <td>58</td>\n",
       "      <td>management</td>\n",
       "      <td>married</td>\n",
       "      <td>tertiary</td>\n",
       "      <td>no</td>\n",
       "      <td>2143</td>\n",
       "      <td>yes</td>\n",
       "      <td>no</td>\n",
       "      <td>NaN</td>\n",
       "      <td>5</td>\n",
       "      <td>may</td>\n",
       "      <td>261</td>\n",
       "      <td>1</td>\n",
       "      <td>-1</td>\n",
       "      <td>0</td>\n",
       "      <td>NaN</td>\n",
       "      <td>no</td>\n",
       "    </tr>\n",
       "    <tr>\n",
       "      <th>1</th>\n",
       "      <td>44</td>\n",
       "      <td>technician</td>\n",
       "      <td>single</td>\n",
       "      <td>secondary</td>\n",
       "      <td>no</td>\n",
       "      <td>29</td>\n",
       "      <td>yes</td>\n",
       "      <td>no</td>\n",
       "      <td>NaN</td>\n",
       "      <td>5</td>\n",
       "      <td>may</td>\n",
       "      <td>151</td>\n",
       "      <td>1</td>\n",
       "      <td>-1</td>\n",
       "      <td>0</td>\n",
       "      <td>NaN</td>\n",
       "      <td>no</td>\n",
       "    </tr>\n",
       "    <tr>\n",
       "      <th>2</th>\n",
       "      <td>33</td>\n",
       "      <td>entrepreneur</td>\n",
       "      <td>married</td>\n",
       "      <td>secondary</td>\n",
       "      <td>no</td>\n",
       "      <td>2</td>\n",
       "      <td>yes</td>\n",
       "      <td>yes</td>\n",
       "      <td>NaN</td>\n",
       "      <td>5</td>\n",
       "      <td>may</td>\n",
       "      <td>76</td>\n",
       "      <td>1</td>\n",
       "      <td>-1</td>\n",
       "      <td>0</td>\n",
       "      <td>NaN</td>\n",
       "      <td>no</td>\n",
       "    </tr>\n",
       "    <tr>\n",
       "      <th>3</th>\n",
       "      <td>47</td>\n",
       "      <td>blue-collar</td>\n",
       "      <td>married</td>\n",
       "      <td>NaN</td>\n",
       "      <td>no</td>\n",
       "      <td>1506</td>\n",
       "      <td>yes</td>\n",
       "      <td>no</td>\n",
       "      <td>NaN</td>\n",
       "      <td>5</td>\n",
       "      <td>may</td>\n",
       "      <td>92</td>\n",
       "      <td>1</td>\n",
       "      <td>-1</td>\n",
       "      <td>0</td>\n",
       "      <td>NaN</td>\n",
       "      <td>no</td>\n",
       "    </tr>\n",
       "    <tr>\n",
       "      <th>4</th>\n",
       "      <td>33</td>\n",
       "      <td>NaN</td>\n",
       "      <td>single</td>\n",
       "      <td>NaN</td>\n",
       "      <td>no</td>\n",
       "      <td>1</td>\n",
       "      <td>no</td>\n",
       "      <td>no</td>\n",
       "      <td>NaN</td>\n",
       "      <td>5</td>\n",
       "      <td>may</td>\n",
       "      <td>198</td>\n",
       "      <td>1</td>\n",
       "      <td>-1</td>\n",
       "      <td>0</td>\n",
       "      <td>NaN</td>\n",
       "      <td>no</td>\n",
       "    </tr>\n",
       "  </tbody>\n",
       "</table>\n",
       "</div>"
      ],
      "text/plain": [
       "   age           job  marital  education default  balance housing loan  \\\n",
       "0   58    management  married   tertiary      no     2143     yes   no   \n",
       "1   44    technician   single  secondary      no       29     yes   no   \n",
       "2   33  entrepreneur  married  secondary      no        2     yes  yes   \n",
       "3   47   blue-collar  married        NaN      no     1506     yes   no   \n",
       "4   33           NaN   single        NaN      no        1      no   no   \n",
       "\n",
       "  contact  day_of_week month  duration  campaign  pdays  previous poutcome   y  \n",
       "0     NaN            5   may       261         1     -1         0      NaN  no  \n",
       "1     NaN            5   may       151         1     -1         0      NaN  no  \n",
       "2     NaN            5   may        76         1     -1         0      NaN  no  \n",
       "3     NaN            5   may        92         1     -1         0      NaN  no  \n",
       "4     NaN            5   may       198         1     -1         0      NaN  no  "
      ]
     },
     "execution_count": 9,
     "metadata": {},
     "output_type": "execute_result"
    }
   ],
   "source": [
    "df.head()"
   ]
  },
  {
   "cell_type": "markdown",
   "id": "37422a29-94f1-4d72-8ddf-e2baeb2769d3",
   "metadata": {},
   "source": [
    "## Number of records:"
   ]
  },
  {
   "cell_type": "code",
   "execution_count": 10,
   "id": "53623a70-0395-48fa-ad3d-28884cd679ef",
   "metadata": {},
   "outputs": [
    {
     "name": "stdout",
     "output_type": "stream",
     "text": [
      "Number of records: 45211\n"
     ]
    }
   ],
   "source": [
    "print(\"Number of records:\", len(df))"
   ]
  },
  {
   "cell_type": "code",
   "execution_count": 11,
   "id": "3a1d5b03-d13e-4588-8610-b4db25532097",
   "metadata": {},
   "outputs": [
    {
     "data": {
      "text/plain": [
       "(45211, 17)"
      ]
     },
     "execution_count": 11,
     "metadata": {},
     "output_type": "execute_result"
    }
   ],
   "source": [
    "df.shape"
   ]
  },
  {
   "cell_type": "markdown",
   "id": "07189e99-e911-46f6-a86c-07d56e904614",
   "metadata": {},
   "source": [
    "## Data types of variables:"
   ]
  },
  {
   "cell_type": "code",
   "execution_count": 12,
   "id": "2ad917dd-fef5-4a1d-8470-5fb32b66c8b4",
   "metadata": {},
   "outputs": [
    {
     "name": "stdout",
     "output_type": "stream",
     "text": [
      "Data types of variables:\n",
      "age             int64\n",
      "job            object\n",
      "marital        object\n",
      "education      object\n",
      "default        object\n",
      "balance         int64\n",
      "housing        object\n",
      "loan           object\n",
      "contact        object\n",
      "day_of_week     int64\n",
      "month          object\n",
      "duration        int64\n",
      "campaign        int64\n",
      "pdays           int64\n",
      "previous        int64\n",
      "poutcome       object\n",
      "y              object\n",
      "dtype: object\n"
     ]
    }
   ],
   "source": [
    "print(\"Data types of variables:\")\n",
    "print(df.dtypes)"
   ]
  },
  {
   "cell_type": "markdown",
   "id": "ad81635c-d8b1-41e2-b210-dde4d6cba568",
   "metadata": {},
   "source": [
    "## Summary Statistics"
   ]
  },
  {
   "cell_type": "code",
   "execution_count": 13,
   "id": "2f6ccdc4-e4ca-453f-9a85-6598e7446cb7",
   "metadata": {},
   "outputs": [
    {
     "data": {
      "text/html": [
       "<div>\n",
       "<style scoped>\n",
       "    .dataframe tbody tr th:only-of-type {\n",
       "        vertical-align: middle;\n",
       "    }\n",
       "\n",
       "    .dataframe tbody tr th {\n",
       "        vertical-align: top;\n",
       "    }\n",
       "\n",
       "    .dataframe thead th {\n",
       "        text-align: right;\n",
       "    }\n",
       "</style>\n",
       "<table border=\"1\" class=\"dataframe\">\n",
       "  <thead>\n",
       "    <tr style=\"text-align: right;\">\n",
       "      <th></th>\n",
       "      <th>age</th>\n",
       "      <th>balance</th>\n",
       "      <th>day_of_week</th>\n",
       "      <th>duration</th>\n",
       "      <th>campaign</th>\n",
       "      <th>pdays</th>\n",
       "      <th>previous</th>\n",
       "    </tr>\n",
       "  </thead>\n",
       "  <tbody>\n",
       "    <tr>\n",
       "      <th>count</th>\n",
       "      <td>45211.000000</td>\n",
       "      <td>45211.000000</td>\n",
       "      <td>45211.000000</td>\n",
       "      <td>45211.000000</td>\n",
       "      <td>45211.000000</td>\n",
       "      <td>45211.000000</td>\n",
       "      <td>45211.000000</td>\n",
       "    </tr>\n",
       "    <tr>\n",
       "      <th>mean</th>\n",
       "      <td>40.936210</td>\n",
       "      <td>1362.272058</td>\n",
       "      <td>15.806419</td>\n",
       "      <td>258.163080</td>\n",
       "      <td>2.763841</td>\n",
       "      <td>40.197828</td>\n",
       "      <td>0.580323</td>\n",
       "    </tr>\n",
       "    <tr>\n",
       "      <th>std</th>\n",
       "      <td>10.618762</td>\n",
       "      <td>3044.765829</td>\n",
       "      <td>8.322476</td>\n",
       "      <td>257.527812</td>\n",
       "      <td>3.098021</td>\n",
       "      <td>100.128746</td>\n",
       "      <td>2.303441</td>\n",
       "    </tr>\n",
       "    <tr>\n",
       "      <th>min</th>\n",
       "      <td>18.000000</td>\n",
       "      <td>-8019.000000</td>\n",
       "      <td>1.000000</td>\n",
       "      <td>0.000000</td>\n",
       "      <td>1.000000</td>\n",
       "      <td>-1.000000</td>\n",
       "      <td>0.000000</td>\n",
       "    </tr>\n",
       "    <tr>\n",
       "      <th>25%</th>\n",
       "      <td>33.000000</td>\n",
       "      <td>72.000000</td>\n",
       "      <td>8.000000</td>\n",
       "      <td>103.000000</td>\n",
       "      <td>1.000000</td>\n",
       "      <td>-1.000000</td>\n",
       "      <td>0.000000</td>\n",
       "    </tr>\n",
       "    <tr>\n",
       "      <th>50%</th>\n",
       "      <td>39.000000</td>\n",
       "      <td>448.000000</td>\n",
       "      <td>16.000000</td>\n",
       "      <td>180.000000</td>\n",
       "      <td>2.000000</td>\n",
       "      <td>-1.000000</td>\n",
       "      <td>0.000000</td>\n",
       "    </tr>\n",
       "    <tr>\n",
       "      <th>75%</th>\n",
       "      <td>48.000000</td>\n",
       "      <td>1428.000000</td>\n",
       "      <td>21.000000</td>\n",
       "      <td>319.000000</td>\n",
       "      <td>3.000000</td>\n",
       "      <td>-1.000000</td>\n",
       "      <td>0.000000</td>\n",
       "    </tr>\n",
       "    <tr>\n",
       "      <th>max</th>\n",
       "      <td>95.000000</td>\n",
       "      <td>102127.000000</td>\n",
       "      <td>31.000000</td>\n",
       "      <td>4918.000000</td>\n",
       "      <td>63.000000</td>\n",
       "      <td>871.000000</td>\n",
       "      <td>275.000000</td>\n",
       "    </tr>\n",
       "  </tbody>\n",
       "</table>\n",
       "</div>"
      ],
      "text/plain": [
       "                age        balance   day_of_week      duration      campaign  \\\n",
       "count  45211.000000   45211.000000  45211.000000  45211.000000  45211.000000   \n",
       "mean      40.936210    1362.272058     15.806419    258.163080      2.763841   \n",
       "std       10.618762    3044.765829      8.322476    257.527812      3.098021   \n",
       "min       18.000000   -8019.000000      1.000000      0.000000      1.000000   \n",
       "25%       33.000000      72.000000      8.000000    103.000000      1.000000   \n",
       "50%       39.000000     448.000000     16.000000    180.000000      2.000000   \n",
       "75%       48.000000    1428.000000     21.000000    319.000000      3.000000   \n",
       "max       95.000000  102127.000000     31.000000   4918.000000     63.000000   \n",
       "\n",
       "              pdays      previous  \n",
       "count  45211.000000  45211.000000  \n",
       "mean      40.197828      0.580323  \n",
       "std      100.128746      2.303441  \n",
       "min       -1.000000      0.000000  \n",
       "25%       -1.000000      0.000000  \n",
       "50%       -1.000000      0.000000  \n",
       "75%       -1.000000      0.000000  \n",
       "max      871.000000    275.000000  "
      ]
     },
     "execution_count": 13,
     "metadata": {},
     "output_type": "execute_result"
    }
   ],
   "source": [
    "df.describe()"
   ]
  },
  {
   "cell_type": "code",
   "execution_count": 14,
   "id": "38483962-2abd-4af2-a0e8-a758ecf55098",
   "metadata": {},
   "outputs": [
    {
     "name": "stdout",
     "output_type": "stream",
     "text": [
      "<class 'pandas.core.frame.DataFrame'>\n",
      "RangeIndex: 45211 entries, 0 to 45210\n",
      "Data columns (total 17 columns):\n",
      " #   Column       Non-Null Count  Dtype \n",
      "---  ------       --------------  ----- \n",
      " 0   age          45211 non-null  int64 \n",
      " 1   job          44923 non-null  object\n",
      " 2   marital      45211 non-null  object\n",
      " 3   education    43354 non-null  object\n",
      " 4   default      45211 non-null  object\n",
      " 5   balance      45211 non-null  int64 \n",
      " 6   housing      45211 non-null  object\n",
      " 7   loan         45211 non-null  object\n",
      " 8   contact      32191 non-null  object\n",
      " 9   day_of_week  45211 non-null  int64 \n",
      " 10  month        45211 non-null  object\n",
      " 11  duration     45211 non-null  int64 \n",
      " 12  campaign     45211 non-null  int64 \n",
      " 13  pdays        45211 non-null  int64 \n",
      " 14  previous     45211 non-null  int64 \n",
      " 15  poutcome     8252 non-null   object\n",
      " 16  y            45211 non-null  object\n",
      "dtypes: int64(7), object(10)\n",
      "memory usage: 5.9+ MB\n"
     ]
    }
   ],
   "source": [
    "df.info()"
   ]
  },
  {
   "cell_type": "markdown",
   "id": "b0bb4dfd-597e-4e7a-a15e-f207d1195a92",
   "metadata": {},
   "source": [
    "# Data Cleaning"
   ]
  },
  {
   "cell_type": "markdown",
   "id": "04b86370-b011-416c-89d3-98b249b89436",
   "metadata": {},
   "source": [
    "## Checking for Null Values"
   ]
  },
  {
   "cell_type": "code",
   "execution_count": 15,
   "id": "15649e7c-d8b7-4122-8369-f88c073dc386",
   "metadata": {},
   "outputs": [
    {
     "data": {
      "text/plain": [
       "age                0\n",
       "job              288\n",
       "marital            0\n",
       "education       1857\n",
       "default            0\n",
       "balance            0\n",
       "housing            0\n",
       "loan               0\n",
       "contact        13020\n",
       "day_of_week        0\n",
       "month              0\n",
       "duration           0\n",
       "campaign           0\n",
       "pdays              0\n",
       "previous           0\n",
       "poutcome       36959\n",
       "y                  0\n",
       "dtype: int64"
      ]
     },
     "execution_count": 15,
     "metadata": {},
     "output_type": "execute_result"
    }
   ],
   "source": [
    "df.isnull().sum()"
   ]
  },
  {
   "cell_type": "markdown",
   "id": "9bbfc9ce-6faa-419f-81d8-d0dc0744faca",
   "metadata": {},
   "source": [
    "## Checking for unique values"
   ]
  },
  {
   "cell_type": "code",
   "execution_count": 16,
   "id": "44985607-be0c-44d2-bc5f-c4650d7a71ae",
   "metadata": {},
   "outputs": [
    {
     "data": {
      "text/plain": [
       "age              77\n",
       "job              11\n",
       "marital           3\n",
       "education         3\n",
       "default           2\n",
       "balance        7168\n",
       "housing           2\n",
       "loan              2\n",
       "contact           2\n",
       "day_of_week      31\n",
       "month            12\n",
       "duration       1573\n",
       "campaign         48\n",
       "pdays           559\n",
       "previous         41\n",
       "poutcome          3\n",
       "y                 2\n",
       "dtype: int64"
      ]
     },
     "execution_count": 16,
     "metadata": {},
     "output_type": "execute_result"
    }
   ],
   "source": [
    "df.nunique()"
   ]
  },
  {
   "cell_type": "markdown",
   "id": "89e485e4-7930-4a59-acdd-938b6187233b",
   "metadata": {},
   "source": [
    "## All Features"
   ]
  },
  {
   "cell_type": "code",
   "execution_count": 17,
   "id": "be8b5c4d-953d-4283-b3ff-5684f169f201",
   "metadata": {},
   "outputs": [
    {
     "data": {
      "text/plain": [
       "Index(['age', 'job', 'marital', 'education', 'default', 'balance', 'housing',\n",
       "       'loan', 'contact', 'day_of_week', 'month', 'duration', 'campaign',\n",
       "       'pdays', 'previous', 'poutcome', 'y'],\n",
       "      dtype='object')"
      ]
     },
     "execution_count": 17,
     "metadata": {},
     "output_type": "execute_result"
    }
   ],
   "source": [
    "df.columns"
   ]
  },
  {
   "cell_type": "markdown",
   "id": "4504da5d-3572-48ec-86be-6b0d57a1763c",
   "metadata": {},
   "source": [
    "## Checking for low variance:"
   ]
  },
  {
   "cell_type": "code",
   "execution_count": 18,
   "id": "5f3f1d96-9371-447e-8d12-61563017f56a",
   "metadata": {},
   "outputs": [
    {
     "name": "stdout",
     "output_type": "stream",
     "text": [
      "Columns with low variance (possible candidates for removal): []\n"
     ]
    }
   ],
   "source": [
    "# Checking for columns with a single unique value\n",
    "low_variance_cols = [col for col in df.columns if df[col].nunique() <= 1]\n",
    "print(\"Columns with low variance (possible candidates for removal):\", low_variance_cols)"
   ]
  },
  {
   "cell_type": "markdown",
   "id": "efaa206e-5f46-4c38-a0f8-3231e758fee8",
   "metadata": {},
   "source": [
    "## Checking & handling for duplicates"
   ]
  },
  {
   "cell_type": "code",
   "execution_count": 21,
   "id": "cb915627-dacc-4722-916b-2034f4cb9700",
   "metadata": {},
   "outputs": [
    {
     "name": "stdout",
     "output_type": "stream",
     "text": [
      "No duplicates found.\n"
     ]
    }
   ],
   "source": [
    "if df.duplicated().any():\n",
    "    print(\"Duplicates found:\", df.duplicated().sum())\n",
    "    df = df.drop_duplicates()\n",
    "    print(\"Duplicates have been removed.\")\n",
    "else:\n",
    "    print(\"No duplicates found.\")"
   ]
  },
  {
   "cell_type": "markdown",
   "id": "5a155f26-76d0-4993-8e0b-412f177a0698",
   "metadata": {},
   "source": [
    "## Handling Missing Values"
   ]
  },
  {
   "cell_type": "code",
   "execution_count": 22,
   "id": "5a860a87-9a2e-4347-af57-e67d194da7db",
   "metadata": {},
   "outputs": [
    {
     "name": "stdout",
     "output_type": "stream",
     "text": [
      "Missing values found in the following columns:\n",
      "job            288\n",
      "education     1857\n",
      "contact      13020\n",
      "poutcome     36959\n",
      "dtype: int64\n",
      "Missing values have been handled.\n"
     ]
    }
   ],
   "source": [
    "missing_data = df.isnull().sum()\n",
    "missing_data = missing_data[missing_data > 0]\n",
    "\n",
    "if not missing_data.empty:\n",
    "    print(\"Missing values found in the following columns:\")\n",
    "    print(missing_data)\n",
    "    # Handling missing values (example using median imputation for numerical columns)\n",
    "    for column in df.columns:\n",
    "        if df[column].dtype == np.number:\n",
    "            df[column].fillna(df[column].median(), inplace=True)\n",
    "        else:\n",
    "            df[column].fillna(df[column].mode()[0], inplace=True)  # For categorical data, using mode\n",
    "    print(\"Missing values have been handled.\")\n",
    "else:\n",
    "    print(\"No missing values found.\")"
   ]
  },
  {
   "cell_type": "code",
   "execution_count": 23,
   "id": "86d32c74-1ebb-4f0e-a05b-d26387765d94",
   "metadata": {},
   "outputs": [
    {
     "name": "stdout",
     "output_type": "stream",
     "text": [
      "<class 'pandas.core.frame.DataFrame'>\n",
      "RangeIndex: 45211 entries, 0 to 45210\n",
      "Data columns (total 17 columns):\n",
      " #   Column       Non-Null Count  Dtype \n",
      "---  ------       --------------  ----- \n",
      " 0   age          45211 non-null  int64 \n",
      " 1   job          45211 non-null  object\n",
      " 2   marital      45211 non-null  object\n",
      " 3   education    45211 non-null  object\n",
      " 4   default      45211 non-null  object\n",
      " 5   balance      45211 non-null  int64 \n",
      " 6   housing      45211 non-null  object\n",
      " 7   loan         45211 non-null  object\n",
      " 8   contact      45211 non-null  object\n",
      " 9   day_of_week  45211 non-null  int64 \n",
      " 10  month        45211 non-null  object\n",
      " 11  duration     45211 non-null  int64 \n",
      " 12  campaign     45211 non-null  int64 \n",
      " 13  pdays        45211 non-null  int64 \n",
      " 14  previous     45211 non-null  int64 \n",
      " 15  poutcome     45211 non-null  object\n",
      " 16  y            45211 non-null  object\n",
      "dtypes: int64(7), object(10)\n",
      "memory usage: 5.9+ MB\n"
     ]
    }
   ],
   "source": [
    "df.info()"
   ]
  },
  {
   "cell_type": "code",
   "execution_count": 24,
   "id": "f959ebe4-fe3a-46de-bed8-20873cc64c8a",
   "metadata": {},
   "outputs": [
    {
     "data": {
      "text/html": [
       "<div>\n",
       "<style scoped>\n",
       "    .dataframe tbody tr th:only-of-type {\n",
       "        vertical-align: middle;\n",
       "    }\n",
       "\n",
       "    .dataframe tbody tr th {\n",
       "        vertical-align: top;\n",
       "    }\n",
       "\n",
       "    .dataframe thead th {\n",
       "        text-align: right;\n",
       "    }\n",
       "</style>\n",
       "<table border=\"1\" class=\"dataframe\">\n",
       "  <thead>\n",
       "    <tr style=\"text-align: right;\">\n",
       "      <th></th>\n",
       "      <th>age</th>\n",
       "      <th>balance</th>\n",
       "      <th>day_of_week</th>\n",
       "      <th>duration</th>\n",
       "      <th>campaign</th>\n",
       "      <th>pdays</th>\n",
       "      <th>previous</th>\n",
       "    </tr>\n",
       "  </thead>\n",
       "  <tbody>\n",
       "    <tr>\n",
       "      <th>count</th>\n",
       "      <td>45211.000000</td>\n",
       "      <td>45211.000000</td>\n",
       "      <td>45211.000000</td>\n",
       "      <td>45211.000000</td>\n",
       "      <td>45211.000000</td>\n",
       "      <td>45211.000000</td>\n",
       "      <td>45211.000000</td>\n",
       "    </tr>\n",
       "    <tr>\n",
       "      <th>mean</th>\n",
       "      <td>40.936210</td>\n",
       "      <td>1362.272058</td>\n",
       "      <td>15.806419</td>\n",
       "      <td>258.163080</td>\n",
       "      <td>2.763841</td>\n",
       "      <td>40.197828</td>\n",
       "      <td>0.580323</td>\n",
       "    </tr>\n",
       "    <tr>\n",
       "      <th>std</th>\n",
       "      <td>10.618762</td>\n",
       "      <td>3044.765829</td>\n",
       "      <td>8.322476</td>\n",
       "      <td>257.527812</td>\n",
       "      <td>3.098021</td>\n",
       "      <td>100.128746</td>\n",
       "      <td>2.303441</td>\n",
       "    </tr>\n",
       "    <tr>\n",
       "      <th>min</th>\n",
       "      <td>18.000000</td>\n",
       "      <td>-8019.000000</td>\n",
       "      <td>1.000000</td>\n",
       "      <td>0.000000</td>\n",
       "      <td>1.000000</td>\n",
       "      <td>-1.000000</td>\n",
       "      <td>0.000000</td>\n",
       "    </tr>\n",
       "    <tr>\n",
       "      <th>25%</th>\n",
       "      <td>33.000000</td>\n",
       "      <td>72.000000</td>\n",
       "      <td>8.000000</td>\n",
       "      <td>103.000000</td>\n",
       "      <td>1.000000</td>\n",
       "      <td>-1.000000</td>\n",
       "      <td>0.000000</td>\n",
       "    </tr>\n",
       "    <tr>\n",
       "      <th>50%</th>\n",
       "      <td>39.000000</td>\n",
       "      <td>448.000000</td>\n",
       "      <td>16.000000</td>\n",
       "      <td>180.000000</td>\n",
       "      <td>2.000000</td>\n",
       "      <td>-1.000000</td>\n",
       "      <td>0.000000</td>\n",
       "    </tr>\n",
       "    <tr>\n",
       "      <th>75%</th>\n",
       "      <td>48.000000</td>\n",
       "      <td>1428.000000</td>\n",
       "      <td>21.000000</td>\n",
       "      <td>319.000000</td>\n",
       "      <td>3.000000</td>\n",
       "      <td>-1.000000</td>\n",
       "      <td>0.000000</td>\n",
       "    </tr>\n",
       "    <tr>\n",
       "      <th>max</th>\n",
       "      <td>95.000000</td>\n",
       "      <td>102127.000000</td>\n",
       "      <td>31.000000</td>\n",
       "      <td>4918.000000</td>\n",
       "      <td>63.000000</td>\n",
       "      <td>871.000000</td>\n",
       "      <td>275.000000</td>\n",
       "    </tr>\n",
       "  </tbody>\n",
       "</table>\n",
       "</div>"
      ],
      "text/plain": [
       "                age        balance   day_of_week      duration      campaign  \\\n",
       "count  45211.000000   45211.000000  45211.000000  45211.000000  45211.000000   \n",
       "mean      40.936210    1362.272058     15.806419    258.163080      2.763841   \n",
       "std       10.618762    3044.765829      8.322476    257.527812      3.098021   \n",
       "min       18.000000   -8019.000000      1.000000      0.000000      1.000000   \n",
       "25%       33.000000      72.000000      8.000000    103.000000      1.000000   \n",
       "50%       39.000000     448.000000     16.000000    180.000000      2.000000   \n",
       "75%       48.000000    1428.000000     21.000000    319.000000      3.000000   \n",
       "max       95.000000  102127.000000     31.000000   4918.000000     63.000000   \n",
       "\n",
       "              pdays      previous  \n",
       "count  45211.000000  45211.000000  \n",
       "mean      40.197828      0.580323  \n",
       "std      100.128746      2.303441  \n",
       "min       -1.000000      0.000000  \n",
       "25%       -1.000000      0.000000  \n",
       "50%       -1.000000      0.000000  \n",
       "75%       -1.000000      0.000000  \n",
       "max      871.000000    275.000000  "
      ]
     },
     "execution_count": 24,
     "metadata": {},
     "output_type": "execute_result"
    }
   ],
   "source": [
    "df.describe()"
   ]
  },
  {
   "cell_type": "code",
   "execution_count": null,
   "id": "d2226e5c-5bd6-419d-b48d-344e68f9eea0",
   "metadata": {},
   "outputs": [],
   "source": []
  }
 ],
 "metadata": {
  "kernelspec": {
   "display_name": "Python 3 (ipykernel)",
   "language": "python",
   "name": "python3"
  },
  "language_info": {
   "codemirror_mode": {
    "name": "ipython",
    "version": 3
   },
   "file_extension": ".py",
   "mimetype": "text/x-python",
   "name": "python",
   "nbconvert_exporter": "python",
   "pygments_lexer": "ipython3",
   "version": "3.12.2"
  }
 },
 "nbformat": 4,
 "nbformat_minor": 5
}
